{
 "cells": [
  {
   "cell_type": "markdown",
   "id": "0709d590",
   "metadata": {},
   "source": [
    "# Story - 4 : How much do we get paid?\n",
    "\n",
    "#### Instructions\n",
    "I have introduced the term \"Data Practitioner\" as a generic job descriptor because we have so many different job role titles for individuals whose work activities overlap including Data Scientist, Data Engineer, Data Analyst, Business Analyst, Data Architect, etc.\n",
    "\n",
    "For this story we will answer the question, \"How much do we get paid?\" Your analysis and data visualizations must address the variation in average salary based on role descriptor and state.\n",
    "\n",
    "##### Notes:\n",
    "- You will need to identify reliable sources for salary data and assemble the data sets that you will need.\n",
    "- Your visualization(s) must show the most salient information (variation in average salary by role and by state).\n",
    "- For this Story you must use a code library and code that you have written in R, Python or Java Script (additional coding in other languages is allowed).\n",
    "- Post generation enhancements to you generated visualization will be allowed (e.g. Addition of kickers and labels)."
   ]
  },
  {
   "cell_type": "code",
   "execution_count": null,
   "id": "94cac782",
   "metadata": {},
   "outputs": [],
   "source": [
    "import pandas as pd\n",
    "import request"
   ]
  },
  {
   "cell_type": "code",
   "execution_count": null,
   "id": "0c7728f3",
   "metadata": {},
   "outputs": [],
   "source": [
    "## Creating a dictionary of titles and URLS with Data for scraping \n",
    "{\n",
    "    \"data_analyst\":\"\",\n",
    "    \"data_scientist\":\"\",\n",
    "    \"data_engineer\":\"\",\n",
    "    \"data_architect\":\"\"\n",
    "    \n",
    "}"
   ]
  }
 ],
 "metadata": {
  "kernelspec": {
   "display_name": "Python 3 (ipykernel)",
   "language": "python",
   "name": "python3"
  },
  "language_info": {
   "codemirror_mode": {
    "name": "ipython",
    "version": 3
   },
   "file_extension": ".py",
   "mimetype": "text/x-python",
   "name": "python",
   "nbconvert_exporter": "python",
   "pygments_lexer": "ipython3",
   "version": "3.11.5"
  }
 },
 "nbformat": 4,
 "nbformat_minor": 5
}
