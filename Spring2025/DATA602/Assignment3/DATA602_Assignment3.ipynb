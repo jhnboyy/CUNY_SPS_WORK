{
 "cells": [
  {
   "cell_type": "markdown",
   "id": "da6e3c19",
   "metadata": {},
   "source": [
    "### Q1: Write a program that prompts the user for a meal: breakfast, lunch, or dinner. Then using if statements and else statements print the user a message recommending a meal. For example, if the meal was breakfast, you could say something like, “How about some bacon and eggs?”\n",
    "The user may enter something else in, but you only have to respond to breakfast, lunch, or dinner."
   ]
  },
  {
   "cell_type": "code",
   "execution_count": 1,
   "id": "3ce8a8ff",
   "metadata": {},
   "outputs": [
    {
     "name": "stdout",
     "output_type": "stream",
     "text": [
      "What meal do you need a suggestion for? Breakfast, Lunch, or Dinner?lunch\n",
      "How about a tuna sandwich on whole grain bread?\n"
     ]
    }
   ],
   "source": [
    "## Meal Choser \n",
    "user_input = input(\"What meal do you need a suggestion for? Breakfast, Lunch, or Dinner?\").lower().strip()\n",
    "try:\n",
    "    if user_input =='breakfast':\n",
    "        print(\"How about some plain greek yogurt with honey?\")\n",
    "    elif user_input =='lunch':\n",
    "        print(\"How about a tuna sandwich on whole grain bread?\")\n",
    "    elif user_input == 'dinner':\n",
    "        print(\"How about chicken and broccoli?\")\n",
    "    else:\n",
    "        print(\"Please enter a valid meal type, if you want a suggestion.\")\n",
    "except Exception as e:\n",
    "    print(\"Error: \",e)\n",
    "    print('please ensure your entry was within the allowed values: \"Breakfast\",\"Lunch\", or \"Dinner\".')"
   ]
  },
  {
   "cell_type": "markdown",
   "id": "5d9998ee",
   "metadata": {},
   "source": [
    "### Q2: The mailroom has asked you to design a simple payroll program that calculates a student employee’s gross pay, including any overtime wages. If any employee works over 20 hours in a week, the mailroom pays them 1.5 times their regular hourly pay rate for all hours over 20. \n",
    "You should take in the user’s input for the number of hours worked, and their rate of pay."
   ]
  },
  {
   "cell_type": "code",
   "execution_count": 5,
   "id": "27840be3",
   "metadata": {},
   "outputs": [
    {
     "name": "stdout",
     "output_type": "stream",
     "text": [
      "Please enter the rate of pay for the student employee (Please only Numeric values):15\n",
      "Please enter the hours worked by the student employee this week (Please only Numeric values):14\n",
      "The weekly gross pay for this student employee is 210.0\n"
     ]
    }
   ],
   "source": [
    "student_employee_rate_of_pay = float(input(\"Please enter the rate of pay for the student employee (Please only Numeric values):\").strip())\n",
    "student_employee_hours_worked = float(input(\"Please enter the hours worked by the student employee this week (Please only Numeric values):\").strip()) \n",
    "\n",
    "if student_employee_hours_worked > 20:\n",
    "    ot_rate_of_pay = 1.5 * student_employee_rate_of_pay\n",
    "    ot_hours = student_employee_hours_worked-20\n",
    "    ot_pay = ot_rate_of_pay * ot_hours    \n",
    "else:\n",
    "    ot_hours = 0\n",
    "    ot_pay = 0\n",
    "non_ot_hours = student_employee_hours_worked - ot_hours\n",
    "non_ot_pay = non_ot_hours*student_employee_rate_of_pay\n",
    "weekly_pay = ot_pay + non_ot_pay\n",
    "print(f\"The weekly gross pay for this student employee is {round(weekly_pay,2)}\") \n"
   ]
  },
  {
   "cell_type": "markdown",
   "id": "6abb9d55",
   "metadata": {},
   "source": [
    "### Q3: Write a function named times_ten. The function should accept an argument and display the product of its argument multiplied times 10."
   ]
  },
  {
   "cell_type": "code",
   "execution_count": 13,
   "id": "018474f6",
   "metadata": {},
   "outputs": [
    {
     "name": "stdout",
     "output_type": "stream",
     "text": [
      "The input number 15.0, is 150.0 when mulitplied by ten.\n"
     ]
    }
   ],
   "source": [
    "def times_ten(numeric_input):\n",
    "    try:\n",
    "        #Confirming Number, we dont want a string multiplied\n",
    "        numeric_input = float(numeric_input)\n",
    "        multiplied = numeric_input * 10\n",
    "        print(f\"The input number {numeric_input}, is {multiplied} when mulitplied by ten.\")\n",
    "    except Exception as e:\n",
    "        print(\"ERROR: \",e)\n",
    "        print(\"Please ensure a numeric value is entered\")\n",
    "        \n",
    "## Usage\n",
    "times_ten(15)"
   ]
  },
  {
   "cell_type": "markdown",
   "id": "593b3df4",
   "metadata": {},
   "source": [
    "### Q4: Find the errors, debug the program, and then execute to show the output."
   ]
  },
  {
   "cell_type": "code",
   "execution_count": 26,
   "id": "1ed40619",
   "metadata": {},
   "outputs": [
    {
     "name": "stdout",
     "output_type": "stream",
     "text": [
      "How many calories are in the first food?10\n",
      "How many calories are in the second food?10\n",
      "The total estimated calories you ate today is 20.\n"
     ]
    }
   ],
   "source": [
    "### ORIGINAL\n",
    "def main()\n",
    "      Calories1 = input( \"How many calories are in the first food?\")\n",
    "      Calories2 = input( \"How many calories are in the first food?\")\n",
    "      showCalories(calories1, calories2)\n",
    "\n",
    "def showCalories()   \n",
    "   print(“The total calories you ate today”, format(calories1 + calories2,.2f))\n",
    "    \n",
    "## DEBUGGED\n",
    "def main():\n",
    "    def showCalories(Calories1, Calories2):\n",
    "        print(f\"The total estimated calories you ate today is {int(float(Calories1) + float(Calories2))}.\")\n",
    "    Calories1 = input( \"How many calories are in the first food?\")\n",
    "    Calories2 = input( \"How many calories are in the second food?\")\n",
    "    showCalories(Calories1, Calories2)\n",
    "\n",
    "## usage\n",
    "main()"
   ]
  },
  {
   "cell_type": "markdown",
   "id": "4d83cd47",
   "metadata": {},
   "source": [
    "### Q5: Write a program that uses any loop (while or for) that calculates the total of the following series of numbers:\n",
    "1/30 + 2/29 + 3/28 ............. + 30/1"
   ]
  },
  {
   "cell_type": "code",
   "execution_count": 38,
   "id": "2787c828",
   "metadata": {
    "scrolled": true
   },
   "outputs": [
    {
     "name": "stdout",
     "output_type": "stream",
     "text": [
      "Adding 1 / 30 calculation to running list.\n",
      "Adding 2 / 29 calculation to running list.\n",
      "Adding 3 / 28 calculation to running list.\n",
      "Adding 4 / 27 calculation to running list.\n",
      "Adding 5 / 26 calculation to running list.\n",
      "Adding 6 / 25 calculation to running list.\n",
      "Adding 7 / 24 calculation to running list.\n",
      "Adding 8 / 23 calculation to running list.\n",
      "Adding 9 / 22 calculation to running list.\n",
      "Adding 10 / 21 calculation to running list.\n",
      "Adding 11 / 20 calculation to running list.\n",
      "Adding 12 / 19 calculation to running list.\n",
      "Adding 13 / 18 calculation to running list.\n",
      "Adding 14 / 17 calculation to running list.\n",
      "Adding 15 / 16 calculation to running list.\n",
      "Adding 16 / 15 calculation to running list.\n",
      "Adding 17 / 14 calculation to running list.\n",
      "Adding 18 / 13 calculation to running list.\n",
      "Adding 19 / 12 calculation to running list.\n",
      "Adding 20 / 11 calculation to running list.\n",
      "Adding 21 / 10 calculation to running list.\n",
      "Adding 22 / 9 calculation to running list.\n",
      "Adding 23 / 8 calculation to running list.\n",
      "Adding 24 / 7 calculation to running list.\n",
      "Adding 25 / 6 calculation to running list.\n",
      "Adding 26 / 5 calculation to running list.\n",
      "Adding 27 / 4 calculation to running list.\n",
      "Adding 28 / 3 calculation to running list.\n",
      "Adding 29 / 2 calculation to running list.\n",
      "Adding 30 / 1 calculation to running list.\n",
      "The final total is 93.84\n"
     ]
    }
   ],
   "source": [
    "starting_numerator = 1\n",
    "starting_denominator = 30\n",
    "loop_list = list(range(starting_numerator,starting_denominator+1))\n",
    "running_results = []\n",
    "# while starting_denominator+1\n",
    "for index, value in enumerate(loop_list):\n",
    "    denom_indx = (len(loop_list)-1)-index\n",
    "    denom_val = loop_list[denom_indx]\n",
    "    temp_number = value / denom_val\n",
    "    print(f\"Adding {value} / {denom_val} calculation to running list.\")\n",
    "    running_results.append(temp_number)\n",
    "final_total = sum(running_results)\n",
    "print(f\"The final total is {round(final_total,2)}\")"
   ]
  },
  {
   "cell_type": "markdown",
   "id": "0d8a18cd",
   "metadata": {},
   "source": [
    "### Q6: Write a function that computes the area of a triangle given its base and height. \n",
    "The formula for an area of a triangle is: AREA = 1/2 * BASE * HEIGHT\n",
    "\n",
    "For example, if the base was 5 and the height was 4, the area would be 10.\n",
    "triangle_area(5, 4)   # should print 10"
   ]
  },
  {
   "cell_type": "code",
   "execution_count": 42,
   "id": "98aea9e6",
   "metadata": {},
   "outputs": [
    {
     "name": "stdout",
     "output_type": "stream",
     "text": [
      "What is the base of the triangle?5\n",
      "What is the height of the triangle?4\n",
      "The area of the trianle is 10.0\n"
     ]
    }
   ],
   "source": [
    "def triangle_area(triangle_base,triangle_hgt):\n",
    "    try:\n",
    "        a = .5 * float(triangle_base) * float(triangle_hgt)\n",
    "        print(f\"The area of the triangle is {round(a,2)}\")\n",
    "        return a\n",
    "    except Exception as e:\n",
    "        print(\"ERROR: \", e)\n",
    "        print(\"Please be sure to only enter numeric values\")\n",
    "\n",
    "triangle_base = input(\"What is the base of the triangle?\")\n",
    "triangle_hgt = input(\"What is the height of the triangle?\")\n",
    "area = triangle_area(triangle_base,triangle_hgt)"
   ]
  }
 ],
 "metadata": {
  "kernelspec": {
   "display_name": "Python 3 (ipykernel)",
   "language": "python",
   "name": "python3"
  },
  "language_info": {
   "codemirror_mode": {
    "name": "ipython",
    "version": 3
   },
   "file_extension": ".py",
   "mimetype": "text/x-python",
   "name": "python",
   "nbconvert_exporter": "python",
   "pygments_lexer": "ipython3",
   "version": "3.11.5"
  }
 },
 "nbformat": 4,
 "nbformat_minor": 5
}
