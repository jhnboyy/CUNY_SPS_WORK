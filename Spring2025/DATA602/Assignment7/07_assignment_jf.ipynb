{
 "cells": [
  {
   "cell_type": "markdown",
   "metadata": {
    "colab_type": "text",
    "id": "view-in-github"
   },
   "source": [
    "<a href=\"https://colab.research.google.com/github/data602sps/datasetspractice/blob/main/07_assignment.ipynb\" target=\"_parent\"><img src=\"https://colab.research.google.com/assets/colab-badge.svg\" alt=\"Open In Colab\"/></a>"
   ]
  },
  {
   "cell_type": "markdown",
   "metadata": {
    "id": "rd2QZetSDszc"
   },
   "source": [
    "# **Assignment 7**\n",
    "\n",
    "# **Weeks 8 & 9 - Pandas**\n",
    "* In this homework assignment, you will explore and analyze a public dataset of your choosing. Since this assignment is “open-ended” in nature, you are free to expand upon the requirements below. However, you must meet the minimum requirments as indicated in each section. \n",
    "\n",
    "* You must use Pandas as the **primary tool** to process your data.\n",
    "\n",
    "* The preferred method for this analysis is in a .ipynb file. Feel free to use whichever platform of your choosing.  \n",
    " * https://www.youtube.com/watch?v=inN8seMm7UI (Getting started with Colab).\n",
    "\n",
    "* Your data should need some \"work\", or be considered \"dirty\".  You must show your skills in data cleaning/wrangling.\n",
    "\n",
    "### **Some data examples:**\n",
    "•\thttps://www.data.gov/\n",
    "\n",
    "•\thttps://opendata.cityofnewyork.us/\n",
    "\n",
    "•\thttps://datasetsearch.research.google.com/\n",
    "\n",
    "•\thttps://archive.ics.uci.edu/ml/index.php\n",
    "\n",
    "### **Resources:**\n",
    "\n",
    "•\thttps://pandas.pydata.org/pandas-docs/stable/getting_started/10min.html \n",
    "\n",
    "•\thttps://pandas.pydata.org/pandas-docs/stable/user_guide/visualization.html\n",
    "\n",
    "\n",
    "### **Headings or comments**\n",
    "**You are required to make use of comments, or headings for each section.  You must explain what your code is doing, and the results of running your code.**  Act as if you were giving this assignment to your manager - you must include clear and descriptive information for each section.\n",
    "\n",
    "### **You may work as a group or indivdually on this assignment.**\n"
   ]
  },
  {
   "cell_type": "markdown",
   "metadata": {
    "id": "uW3w6p8rqgxu"
   },
   "source": [
    "# Introduction\n",
    "\n",
    "In this section, please describe the dataset you are using.  Include a link to the source of this data.  You should also provide some explanation on why you choose this dataset."
   ]
  },
  {
   "cell_type": "markdown",
   "metadata": {
    "id": "L0PnfMOFzOXz"
   },
   "source": [
    "#### Description \n",
    "\n",
    "The data i chose to work with for this assignment is found here (https://catalog.data.gov/dataset/electric-vehicle-population-data) and the data covers information on the electric vehicles within Washington state. According to the description online the data \"shows the Battery Electric Vehicles (BEVs) and Plug-in Hybrid Electric Vehicles (PHEVs) that are currently registered through Washington State Department of Licensing (DOL)\"."
   ]
  },
  {
   "cell_type": "markdown",
   "metadata": {
    "id": "3bp8cdDxDs2t"
   },
   "source": [
    "______________\n",
    "# Data Exploration\n",
    "Import your dataset into your .ipynb, create dataframes, and explore your data.  \n",
    "\n",
    "Include: \n",
    "\n",
    "* Summary statistics means, medians, quartiles, \n",
    "* Missing value information\n",
    "* Any other relevant information about the dataset.  \n",
    "\n"
   ]
  },
  {
   "cell_type": "code",
   "execution_count": 40,
   "metadata": {
    "id": "1OJmbafkEhhq"
   },
   "outputs": [],
   "source": [
    "import numpy as np \n",
    "import pandas as pd\n",
    "import matplotlib.pyplot as plt"
   ]
  },
  {
   "cell_type": "code",
   "execution_count": null,
   "metadata": {
    "id": "1OJmbafkEhhq"
   },
   "outputs": [],
   "source": [
    "## Reading in the data from a local file \n",
    "df = pd.read_csv(\"./data/Electric_Vehicle_Population_Data.csv\")\n",
    "print(df.head())"
   ]
  },
  {
   "cell_type": "code",
   "execution_count": 11,
   "metadata": {
    "id": "1OJmbafkEhhq",
    "scrolled": true
   },
   "outputs": [
    {
     "name": "stdout",
     "output_type": "stream",
     "text": [
      "     County  Model Year     Make    Model  Electric Range\n",
      "0      King        2019    TESLA  MODEL 3           220.0\n",
      "1    Kitsap        2020    TESLA  MODEL Y           291.0\n",
      "2    Kitsap        2023  HYUNDAI  IONIQ 5             0.0\n",
      "5  Thurston        2012    TESLA  MODEL S           265.0\n",
      "6      King        2017      BMW       I3            81.0\n"
     ]
    }
   ],
   "source": [
    "## Taking a look at the raw data\n",
    "#### Analysis notes, for the point of this analysis i think taking limiting the scope to:\n",
    "#### -  Limiting to Battery Electric Vehicles, no hybrids. \n",
    "#### - County level count analysis by make \n",
    "#### - Electric range by make \n",
    "### Limiting to the relevant columns based on the analysis decisions. \n",
    "lim_df = df[['County','Model Year','Make', 'Model','Electric Range']][df['Electric Vehicle Type']=='Battery Electric Vehicle (BEV)']\n",
    "print(lim_df.head())\n"
   ]
  },
  {
   "cell_type": "code",
   "execution_count": 16,
   "metadata": {
    "scrolled": true
   },
   "outputs": [
    {
     "name": "stdout",
     "output_type": "stream",
     "text": [
      "<class 'pandas.core.frame.DataFrame'>\n",
      "Int64Index: 186998 entries, 0 to 235691\n",
      "Data columns (total 5 columns):\n",
      " #   Column          Non-Null Count   Dtype  \n",
      "---  ------          --------------   -----  \n",
      " 0   County          186996 non-null  object \n",
      " 1   Model Year      186998 non-null  int64  \n",
      " 2   Make            186998 non-null  object \n",
      " 3   Model           186998 non-null  object \n",
      " 4   Electric Range  186998 non-null  float64\n",
      "dtypes: float64(1), int64(1), object(3)\n",
      "memory usage: 8.6+ MB\n",
      "None\n",
      "----\n",
      "          Model Year  Electric Range\n",
      "count  186998.000000   186998.000000\n",
      "mean     2021.635665       50.163799\n",
      "std         2.784636       93.661931\n",
      "min      2000.000000        0.000000\n",
      "25%      2021.000000        0.000000\n",
      "50%      2023.000000        0.000000\n",
      "75%      2024.000000       73.000000\n",
      "max      2025.000000      337.000000\n",
      "----\n",
      "County\n",
      "['King' 'Kitsap' 'Thurston' 'Yakima' 'Snohomish' 'Island' 'Skagit' 'Grant'\n",
      " 'Chelan' 'Whitman' 'Kittitas' 'Walla Walla' 'Stevens' 'Spokane'\n",
      " 'Okanogan' 'Clark' 'Jefferson' 'Cowlitz' 'Clallam' 'Klickitat' 'Franklin'\n",
      " 'Whatcom' 'Pierce' 'Benton' 'Skamania' 'San Juan' 'Grays Harbor'\n",
      " 'Wahkiakum' 'Mason' 'Lewis' 'Douglas' 'Pacific' 'Asotin' 'San Mateo'\n",
      " 'Lincoln' 'Pend Oreille' 'Adams' 'Howard' 'Beaufort' 'Wake' 'San Diego'\n",
      " 'Calvert' 'Columbia' 'Santa Clara' 'Los Angeles' 'District of Columbia'\n",
      " 'Meade' 'DeKalb' 'Fairfax' 'Hardin' 'Anne Arundel' 'Kings' 'Lee' 'Ferry'\n",
      " 'Loudoun' 'Brevard' 'Currituck' 'Orange' 'Maricopa' 'Hamilton' 'Stafford'\n",
      " 'Hennepin' 'Ventura' 'Lake' 'Monterey' 'Placer' 'Montgomery' 'Doña Ana'\n",
      " 'Suffolk' 'Allegheny' 'Solano' \"St. Mary's\" 'Jackson' 'Leavenworth'\n",
      " 'Middlesex' 'Collin' 'Kootenai' 'San Francisco' 'Bell' nan 'Alameda'\n",
      " 'Geary' 'Bristol' 'Contra Costa' 'Duval' \"Prince George's\" 'Bexar'\n",
      " 'Pettis' 'Chesterfield' 'Prince George' 'Tarrant' 'Maui' 'Virginia Beach'\n",
      " 'Plaquemines' 'Rockdale' 'Northampton' 'Texas' 'Arapahoe' 'Yuba'\n",
      " 'Anchorage' 'Riverside' 'York' 'Sacramento' 'Cumberland' 'St. Charles'\n",
      " 'Camden' 'Cook' 'Alexandria' 'Charles' 'Providence' 'St. Louis'\n",
      " 'New London' 'Chesapeake' 'Allen' 'San Bernardino' 'El Paso' 'Pulaski'\n",
      " 'New York' 'James City' 'Davidson' 'Wise' 'Greene' 'Larimer' 'Macomb'\n",
      " 'Washoe' 'Dallas' 'Rockingham' 'Sarasota' 'Frederick' 'Newport'\n",
      " 'Hillsborough' 'Galveston' 'Forsyth' 'Harnett' 'Falls Church' 'Sussex'\n",
      " 'Horry' 'Harford' 'Arlington' 'Baltimore' 'Madison' 'Johnson' 'Moore'\n",
      " 'Gwinnett' 'Laramie' 'Sarpy' 'Essex' 'Hartford' 'Honolulu' 'Miami-Dade'\n",
      " 'Osceola' 'Shelby' 'Hoke' 'Travis' 'Multnomah' 'Muscogee' 'Volusia'\n",
      " 'Kent' 'Fredericksburg' 'Marion' 'Garfield' 'Nueces' 'Harris' 'Kern'\n",
      " 'Marin' 'Polk' 'Pima' 'Brown' 'Prince William' 'New Castle' 'Atlantic'\n",
      " 'Autauga' 'Albemarle' 'Saratoga' 'Houston' 'Richmond' 'Berkeley' 'Pinal'\n",
      " 'Palm Beach' 'Cuyahoga' 'Medina' 'Hudson' 'Williamson' 'Tooele']\n",
      "Make\n",
      "['TESLA' 'HYUNDAI' 'BMW' 'NISSAN' 'POLESTAR' 'CHEVROLET' 'FIAT' 'KIA'\n",
      " 'RIVIAN' 'TOYOTA' 'VOLKSWAGEN' 'FORD' 'AUDI' 'PORSCHE' 'VOLVO'\n",
      " 'MITSUBISHI' 'JAGUAR' 'SMART' 'LEXUS' 'MERCEDES-BENZ' 'GMC' 'MINI'\n",
      " 'SUBARU' 'CADILLAC' 'ACURA' 'HONDA' 'GENESIS' 'LUCID' 'FISKER' 'VINFAST'\n",
      " 'MAZDA' 'MULLEN AUTOMOTIVE INC.' 'BRIGHTDROP' 'TH!NK' 'AZURE DYNAMICS'\n",
      " 'ROLLS-ROYCE' 'JEEP' 'RAM']\n",
      "Model\n",
      "['MODEL 3' 'MODEL Y' 'IONIQ 5' 'MODEL S' 'I3' 'LEAF' 'MODEL X' 'PS2'\n",
      " 'BOLT EV' 'SPARK' '500' 'IONIQ' 'SOUL' 'NIRO' 'R1S' 'BZ4X' 'EV6' 'E-GOLF'\n",
      " 'F-150' 'E-TRON' 'I4' 'IX' 'SOUL EV' 'TAYCAN' 'KONA' 'BOLT EUV' 'R1T'\n",
      " 'MUSTANG MACH-E' 'XC40' 'I-MIEV' 'I-PACE' 'EDV' 'FOCUS' 'FORTWO' '500E'\n",
      " 'BLAZER EV' 'Q4' 'E-TRON GT' 'RZ' 'B-CLASS' 'ARIYA' 'HUMMER EV SUV'\n",
      " 'ID.4' 'KONA ELECTRIC' 'COUNTRYMAN' 'IONIQ 6' 'CYBERTRUCK' 'SOLTERRA'\n",
      " 'LYRIQ' 'EQE-CLASS SUV' 'EQS-CLASS SEDAN' 'RAV4' 'HUMMER EV PICKUP' 'ZDX'\n",
      " 'PROLOGUE' 'MACAN' 'HARDTOP' 'SILVERADO EV' 'EV9' 'FORTWO ELECTRIC DRIVE'\n",
      " 'RS E-TRON GT' 'Q6' 'EQUINOX EV' 'GV60' 'Q8' 'I5' 'EQS-CLASS SUV' 'GV70'\n",
      " 'AIR' 'C40' 'I7' 'EQE-CLASS SEDAN' 'E-TRON SPORTBACK' 'OCEAN' 'TRANSIT'\n",
      " 'EQB-CLASS' 'RANGER' 'EX30' 'SQ8' 'IONIQ 5 N' 'ROADSTER' 'EX90'\n",
      " 'ID. BUZZ' 'VF 8' 'POLESTAR 3' 'EQ FORTWO' 'OPTIQ' 'EX40' 'MX-30'\n",
      " 'G-CLASS' 'G80' 'ONE' 'ESPRINTER' 'ZEVO' 'CITY' 'SIERRA EV'\n",
      " 'TRANSIT CONNECT ELECTRIC' 'SPECTRE' 'WAGONEER S' 'MIRAI' 'SQ6'\n",
      " 'PROMASTER 3500' 'BRIGHTDROP 400']\n"
     ]
    }
   ],
   "source": [
    "## Now that we limited to the columns we would want for the proper analysis, we are looking at nulls, diversity ofvalues \n",
    "## Taling a look at the unqique values in each columnd. The one numberic value column (that isnt yr) seeing the dist. of vals.\n",
    "\n",
    "## Getting dtype and other info.\n",
    "print(lim_df.info())\n",
    "print('----')\n",
    "print(lim_df.describe())\n",
    "print('----')\n",
    "# Unique Values of non numeric\n",
    "print(\"County\")\n",
    "print(lim_df[\"County\"].unique())\n",
    "print(\"Make\")\n",
    "print(lim_df[\"Make\"].unique())\n",
    "print(\"Model\")\n",
    "print(lim_df[\"Model\"].unique())\n",
    "## NO null values to deal with, moving on to aggregating for numbers to chart / look at."
   ]
  },
  {
   "cell_type": "code",
   "execution_count": 22,
   "metadata": {
    "id": "b0WTKtqozNn1"
   },
   "outputs": [],
   "source": [
    "## Initial Group by to get foudnational numbers, will agg more to get different sum levels.\n",
    "step1 = lim_df.groupby(['County','Make',\"Model\",\"Electric Range\"]).agg({\"Model Year\":\"count\"}).reset_index()\n",
    "step1 = step1.rename(columns={\"Model Year\":\"EV_Count_ModelLevel\"})"
   ]
  },
  {
   "cell_type": "code",
   "execution_count": 54,
   "metadata": {
    "scrolled": true
   },
   "outputs": [
    {
     "name": "stdout",
     "output_type": "stream",
     "text": [
      "    County           Make  EV_count\n",
      "439   KING          TESLA     54709\n",
      "431   KING         NISSAN      7395\n",
      "413   KING      CHEVROLET      5352\n",
      "435   KING         RIVIAN      3824\n",
      "423   KING            KIA      3740\n",
      "416   KING           FORD      3434\n",
      "420   KING        HYUNDAI      3333\n",
      "442   KING     VOLKSWAGEN      2858\n",
      "410   KING            BMW      2437\n",
      "408   KING           AUDI      1426\n",
      "443   KING          VOLVO      1215\n",
      "427   KING  MERCEDES-BENZ      1106\n",
      "432   KING       POLESTAR       822\n",
      "438   KING         SUBARU       746\n",
      "433   KING        PORSCHE       647\n",
      "428   KING           MINI       554\n",
      "441   KING         TOYOTA       542\n",
      "412   KING       CADILLAC       517\n",
      "419   KING          HONDA       448\n",
      "414   KING           FIAT       401\n",
      "425   KING          LUCID       235\n",
      "424   KING          LEXUS       223\n",
      "417   KING        GENESIS       197\n",
      "418   KING            GMC       139\n",
      "421   KING         JAGUAR       121\n",
      "437   KING          SMART       108\n",
      "407   KING          ACURA       103\n",
      "415   KING         FISKER        80\n",
      "429   KING     MITSUBISHI        18\n"
     ]
    }
   ],
   "source": [
    "## County Make Breakdown\n",
    "step1[\"County\"] = step1[\"County\"].astype(str).str.upper()\n",
    "county_make = step1.groupby(['County',\"Make\"]).agg({'EV_Count_ModelLevel':'sum',}).reset_index().sort_values(by=['County','Make'])\n",
    "county_make = county_make.rename(columns={\"EV_Count_ModelLevel\":\"EV_count\"})\n",
    "## Filtering for King county to see the popularity fo EVs by Make for Seattle.\n",
    "df_king = county_make[(county_make[\"County\"]==\"KING\")&(county_make[\"EV_count\"]>=10)].sort_values(by=[\"EV_count\"], ascending=False)\n",
    "print(df_king)"
   ]
  },
  {
   "cell_type": "code",
   "execution_count": 56,
   "metadata": {},
   "outputs": [
    {
     "data": {
      "image/png": "[encoded data removed]",
      "text/plain": [
       "<Figure size 640x480 with 1 Axes>"
      ]
     },
     "metadata": {},
     "output_type": "display_data"
    }
   ],
   "source": [
    "## Plotting \n",
    "plt.bar(df_king['Make'], df_king['EV_count'], color='blue')\n",
    "plt.title(\"Count of Electric Vehicles by Make in King County, WA (Limited to 10 or More Cars)\")\n",
    "plt.xlabel('Make of EV')\n",
    "plt.ylabel(\"Count of EVs\")\n",
    "## FIxing the labels on X b/c illegible\n",
    "plt.xticks(rotation=45,ha='right',fontsize=8)\n",
    "plt.show()"
   ]
  },
  {
   "cell_type": "markdown",
   "metadata": {
    "id": "4VWWvvynEiQT"
   },
   "source": [
    "# Data Wrangling (CHECK LIST VERSION)\n",
    "Create a subset of your original data and perform the following.  \n",
    "\n",
    "1. Modify multiple column names.\n",
    "    - Edited multiple column names stemming from group by needs.\n",
    "2. Look at the structure of your data – are any variables improperly coded? Such as strings or characters? Convert to correct structure if needed.\n",
    "    - There are seemingly no improper data types. no real need to convert, also no encoding issues.\n",
    "3. Fix missing and invalid values in data.\n",
    "    - There were no invalid or null values in the datasetl.\n",
    "4. Create new columns based on existing columns or calculations.\n",
    "    - Did this via the group by sums for different levels of aggregation. \n",
    "5. Drop column(s) from your dataset.\n",
    "    - Dropped multiple columns by selecting subset when starting the analysis. kept the columns i needed.\n",
    "6. Drop a row(s) from your dataset.\n",
    "    - Dropped rows via the selection of \"Battery Electric Vehicle (BEV)\" for the type of EV we wanted to look at.\n",
    "7. Sort your data based on multiple variables. \n",
    "    - Sorted the semi final results by county adn make.\n",
    "8. Filter your data based on some condition. \n",
    "    - Filtered data via the selection of \"Battery Electric Vehicle (BEV)\" for the type of EV we wanted to look at.\n",
    "9. Convert all the string values to upper or lower cases in one column.\n",
    "    - Converted the county names to uppercase.\n",
    "10. Check whether numeric values are present in a given column of your dataframe.\n",
    "    - Did this with desribe and info in the begining. Only Year and the Electric range values. Did group by for more number counts.\n",
    "11. Group your dataset by one column, and get the mean, min, and max values by group. \n",
    "  * Groupby()\n",
    "  * agg() or .apply()\n",
    "    - Grouped by for coutns.  \n",
    "12. Group your dataset by two columns and then sort the aggregated results within the groups. \n",
    "    - Did this. Mentioned above.\n",
    "\n",
    "**You are free (and should) to add on to these questions.  Please clearly indicate in your assignment your answers to these questions.**"
   ]
  },
  {
   "cell_type": "code",
   "execution_count": null,
   "metadata": {
    "id": "nATPKSaNXD9B"
   },
   "outputs": [],
   "source": []
  },
  {
   "cell_type": "markdown",
   "metadata": {
    "id": "tujjevRpXEen"
   },
   "source": [
    "# Conclusions  \n",
    "\n",
    "After exploring your dataset, provide a short summary of what you noticed from this dataset.  What would you explore further with more time?"
   ]
  },
  {
   "cell_type": "markdown",
   "metadata": {
    "id": "SshtuQj9XR5_"
   },
   "source": [
    "After taking a look at parts of this data set, one can see that Tesla's are by far the most popular Battery Powered EV \n",
    "in King County Washington, which is home to the city of Seattle. THe second and third most popular EV brand, are Nissan \n",
    "and Chevrolet, resepctively. With more time, i would see how this break down of Electric Vehicle preference by make at the \n",
    "county level varies for each county. Additionally, i would want to see this over time. particularly now, with the controversy\n",
    "surrounding Elon Musk and Tesla. I would be curious to see if this data shifts over time, however for this we would need \n",
    "more data. As a proxy, without new data, we could see which year the more popular EV models were purchased and identify\n",
    "if it was before or after  the controversy.\n"
   ]
  }
 ],
 "metadata": {
  "colab": {
   "include_colab_link": true,
   "name": "07_assignment.ipynb",
   "provenance": []
  },
  "kernelspec": {
   "display_name": "Python 3 (ipykernel)",
   "language": "python",
   "name": "python3"
  },
  "language_info": {
   "codemirror_mode": {
    "name": "ipython",
    "version": 3
   },
   "file_extension": ".py",
   "mimetype": "text/x-python",
   "name": "python",
   "nbconvert_exporter": "python",
   "pygments_lexer": "ipython3",
   "version": "3.11.5"
  }
 },
 "nbformat": 4,
 "nbformat_minor": 1
}
