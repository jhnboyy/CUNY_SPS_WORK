{
 "cells": [
  {
   "cell_type": "markdown",
   "id": "26889500",
   "metadata": {},
   "source": [
    "#### 1. What is matplottlib and seaborn?  When would you choose one over the other?\n",
    "\n",
    "Matplotlib is a base-level visualization tool that works well with pandas and numpy in order to produce plots in python, while seaborn is built on top of matplotlib with different more aesthetically pleasing default colors. Additionally, it is designed for more \"pre-packaged\" type of statistical plots. I would say the more custom you want the visualization to be the more you should skew toward matplotlib."
   ]
  },
  {
   "cell_type": "markdown",
   "id": "401ba55e",
   "metadata": {},
   "source": [
    "##### 2. Image you are creating a visualization for a presentation at work.  \n",
    "##### What are some recommendations or guidelines you would follow to make engaging and informative visuals?\n",
    "\n",
    "If i was creating a visualization at work i would preemptively attempt to think of the followup questions decision makers had about the data and attempt to convey them as simply as possible. Addiitonally, I would want as little text as possible, conveying the important points of the data via implicit visuals (colors, scale, trendlines, etc.). Essentially, i want the display to be as intuitive as possible. "
   ]
  },
  {
   "cell_type": "markdown",
   "id": "5e497a18",
   "metadata": {},
   "source": [
    "#### 3. Give an example of either a matplotlib or seaborn graphic (give code).  You may also reference an informative article.\n",
    "\n",
    "The following is an exmaple of a seaborn graphic pulled from Seaborn's documentation / example site (https://seaborn.pydata.org/examples/hexbin_marginals.html). I think this is a great chart that shows aspects of the data in mulitple ways to help users intuitively understand two variables, and their relationship with one another. \n"
   ]
  },
  {
   "cell_type": "code",
   "execution_count": null,
   "id": "a75602be",
   "metadata": {},
   "outputs": [],
   "source": [
    "import numpy as np\n",
    "import seaborn as sns\n",
    "sns.set_theme(style=\"ticks\")\n",
    "\n",
    "rs = np.random.RandomState(11)\n",
    "x = rs.gamma(2, size=1000)\n",
    "y = -.5 * x + rs.normal(size=1000)\n",
    "\n",
    "sns.jointplot(x=x, y=y, kind=\"hex\", color=\"#4CB391\")"
   ]
  },
  {
   "cell_type": "markdown",
   "id": "0afed028",
   "metadata": {},
   "source": [
    "#### 4. Read the following:  https://speedwell.com.au/en/insights/2019/the-manifesto-of-the-data-ink-ratio\n",
    "#### What is the data-ink ratio? \n",
    "\n",
    "The data-ink ration is the theoretical approach that measures the proportion of a graphic's total \"ink\" used in the visualization to the \"ink\" used for displaying data. This ratio essentially measures how efficient your visual is at displaying the data without excess \"noise\". Its a good rule of thumb for visual creation.\n",
    "\n",
    "#### How can you use python libraries such as matplotlib, seaborn, plotly, etc. to incorporate this data-ink ratio in your visualizations? \n",
    "Using python libraries to make data visualizations with the data-ink ratio in mind is simple. One just needs to consider every aspect of the visualization and if the part of the visual added is needed. For example, are gridlines needed in the plot? Are super long labels needed? Is a trendline needed, or is it redundant? Things like this need to be considered, and then removed if deemed redundant. THis is how one would keep the data-ink ratio in mind for python visuals.\n"
   ]
  },
  {
   "cell_type": "code",
   "execution_count": null,
   "id": "c5ec2294",
   "metadata": {},
   "outputs": [],
   "source": []
  },
  {
   "cell_type": "code",
   "execution_count": null,
   "id": "81e658cf",
   "metadata": {},
   "outputs": [],
   "source": []
  }
 ],
 "metadata": {
  "kernelspec": {
   "display_name": "Python 3 (ipykernel)",
   "language": "python",
   "name": "python3"
  },
  "language_info": {
   "codemirror_mode": {
    "name": "ipython",
    "version": 3
   },
   "file_extension": ".py",
   "mimetype": "text/x-python",
   "name": "python",
   "nbconvert_exporter": "python",
   "pygments_lexer": "ipython3",
   "version": "3.11.5"
  }
 },
 "nbformat": 4,
 "nbformat_minor": 5
}
