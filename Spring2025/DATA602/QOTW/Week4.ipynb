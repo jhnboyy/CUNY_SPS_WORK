{
 "cells": [
  {
   "cell_type": "code",
   "execution_count": null,
   "id": "f5a2af9d",
   "metadata": {},
   "outputs": [],
   "source": [
    "\n",
    "#1. Write a function to calculate the area and perimeter of a rectangle.\n",
    "def rect_calc(rect_width, rect_height):\n",
    "    '''User inputs width and height of rectangle and is given the perimeter and the area.'''\n",
    "    area = rect_width * rect_height\n",
    "    perim = (rect_width*2)+(rect_height*2)\n",
    "    print(f\"The provided dimensions returned an area of {area} and a perimeter of {perim}.\")\n",
    "    return area, perimeter\n",
    "\n",
    "## Usage\n",
    "area, perimeter = rect_calc(rect_width, rect_height)\n",
    "\n",
    "#2. Write a function to check if a number is even or not.  The function should indicate to the user even or odd.\n",
    "def even_or_odd(number):\n",
    "    test = number%2\n",
    "    if test == 0:\n",
    "        print(f\"{number} is even\")\n",
    "    else:\n",
    "        print(f\"{number} is odd\")\n",
    "## Usage\n",
    "even_or_odd(453)\n",
    "    \n",
    "#3. Write a Python function that accepts a string and calculate the number of upper case letters and lower case letters.\n",
    "#Sample string: “CUNY sps” # of upper case characters: 4  # of lower case characters: 3\n",
    "def upper_lower_count(input_string):\n",
    "    upper_chars = [i for i in input_string if i.isupper()]\n",
    "    lower_chars = [i for i in input_string if i.islower()]\n",
    "    print(f\"The input string: {input_string} has {len(upper_chars)} and {len(lower_chars)} lower letters.\")\n",
    "\n",
    "## Usage\n",
    "upper_lower_count(\"CUNY sps\")\n",
    "\n",
    "#4. Write a Python function to sum all the numbers in a list\n",
    "def list_sum(input_list):\n",
    "    calc_sum=sum(input_list)\n",
    "    return calc_sum\n",
    "\n",
    "## Usage\n",
    "calculated_sum = list_sum([4,2,18,5,3])\n",
    "print(calculated_sum)\n",
    "\n",
    "\n",
    "#5. Create a function that shows an example of global vs local variables.\n",
    "def var_types_demo():\n",
    "    global_var = \"Global Var\"\n",
    "    def local_var_create():\n",
    "        local_var = \"Local Var\"\n",
    "        print(f\"{global_var} can be accessed in local var function, along with {local_var}\")\n",
    "    try:\n",
    "        print(f\"But {local_var} can be accessed outside local function.\")\n",
    "    except Exception as e:\n",
    "        print(f\"{global_var} is accessible, however 'local_var' is undefined outside of the local function.\")\n",
    "        print(e)\n",
    "## Usage        \n",
    "var_types_demo()\n",
    "\n",
    "#6. Write a Python program to create a function that takes one argument, and that argument will be multiplied with an unknown given number.\n",
    "import random\n",
    "\n",
    "def random_mult(input_arg):\n",
    "    try:\n",
    "        mult_number = random.randint(1,100)\n",
    "        product = input_arg * mult_number\n",
    "        print(f\"Input number {input_arg} was multiplied by unknown random number, with the product being {product}.\")\n",
    "        return product\n",
    "        \n",
    "    except Exception as e:\n",
    "        print(\"Error: \", e)\n",
    "        print(\"please ensure input is numeric\")\n",
    "\n",
    "## Usage\n",
    "random_number_product = random_mult(8)\n"
   ]
  },
  {
   "cell_type": "code",
   "execution_count": 18,
   "id": "97031a75",
   "metadata": {},
   "outputs": [],
   "source": [
    "import random\n",
    "\n",
    "def random_mult(input_arg):\n",
    "    try:\n",
    "        mult_number = random.randint(1,100)\n",
    "        product = input_arg * mult_number\n",
    "        print(f\"Input number {input_arg} was multiplied by unknown random number, with the product being {product}.\")\n",
    "        return(product)\n",
    "        \n",
    "    except Exception as e:\n",
    "        print(\"Error: \", e)\n",
    "        print(\"please ensure input is numeric\")"
   ]
  },
  {
   "cell_type": "code",
   "execution_count": 19,
   "id": "fdf5c198",
   "metadata": {},
   "outputs": [
    {
     "name": "stdout",
     "output_type": "stream",
     "text": [
      "Input number 5 was multiplied by unknown random number, with the product being 80.\n"
     ]
    }
   ],
   "source": [
    "result_number = random_mult(5)"
   ]
  },
  {
   "cell_type": "code",
   "execution_count": 23,
   "id": "3726a0dc",
   "metadata": {},
   "outputs": [],
   "source": []
  },
  {
   "cell_type": "code",
   "execution_count": 21,
   "id": "f4a3aab4",
   "metadata": {},
   "outputs": [
    {
     "name": "stdout",
     "output_type": "stream",
     "text": [
      "name 'local_var' is not defined\n"
     ]
    }
   ],
   "source": []
  },
  {
   "cell_type": "code",
   "execution_count": 11,
   "id": "99a1c7df",
   "metadata": {},
   "outputs": [
    {
     "data": {
      "image/png": "[encoded data removed]",
      "text/plain": [
       "<Figure size 640x480 with 1 Axes>"
      ]
     },
     "metadata": {},
     "output_type": "display_data"
    }
   ],
   "source": [
    "import matplotlib.pyplot as plt\n",
    "from matplotlib.patches import Rectangle\n",
    "\n",
    "# Create a figure and axes\n",
    "fig, ax = plt.subplots()\n",
    "\n",
    "# Define the bottom-left corner (x, y), width, and height\n",
    "x, y = 0.2, 0.3\n",
    "width, height = 0.5, 0.4\n",
    "\n",
    "# Create the rectangle\n",
    "rect = Rectangle((x, y), width, height, edgecolor='blue', facecolor='lightblue')\n",
    "\n",
    "# Add the rectangle to the axes\n",
    "ax.add_patch(rect)\n",
    "\n",
    "# Set the limits of the plot to ensure the rectangle is visible\n",
    "ax.set_xlim(0, 1)\n",
    "ax.set_ylim(0, 1)\n",
    "\n",
    "# Display the plot\n",
    "plt.show()"
   ]
  }
 ],
 "metadata": {
  "kernelspec": {
   "display_name": "Python 3 (ipykernel)",
   "language": "python",
   "name": "python3"
  },
  "language_info": {
   "codemirror_mode": {
    "name": "ipython",
    "version": 3
   },
   "file_extension": ".py",
   "mimetype": "text/x-python",
   "name": "python",
   "nbconvert_exporter": "python",
   "pygments_lexer": "ipython3",
   "version": "3.11.5"
  }
 },
 "nbformat": 4,
 "nbformat_minor": 5
}
