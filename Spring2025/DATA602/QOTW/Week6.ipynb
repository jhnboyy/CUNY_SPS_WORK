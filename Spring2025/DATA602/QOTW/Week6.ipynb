{
 "cells": [
  {
   "cell_type": "code",
   "execution_count": 22,
   "id": "6fbcf38f",
   "metadata": {},
   "outputs": [
    {
     "name": "stdout",
     "output_type": "stream",
     "text": [
      "[ 5 10 15 20]\n",
      "[0 1 2 3]\n",
      "Index(['Five', 'Ten', 'Fifteen', 'Twenty'], dtype='object')\n",
      "          0\n",
      "Five      5\n",
      "Ten      10\n",
      "Fifteen  15\n",
      "Twenty   20\n"
     ]
    }
   ],
   "source": [
    "# 1. What are the similarities and differences between pandas and numpy?   Include some type of example with code.\n",
    "\n",
    "# My understanding is the pandas is built on top of numpy, with both meant for faster data processing with unique structures. \n",
    "# Pandas' main use case data analysis and manipulation with mulitple \"layers\" on your data (like labels) possible, while numpy is \n",
    "# lighter and focussed primarily on numeric data / fast calculations. Also, mulitple Pandas Data frames allow for the aggregation of multiple\n",
    "# Series or Arrays into one labeled object.\n",
    "\n",
    "# An example of the subtle differences between the two, showign pandas ability to label.\n",
    "import numpy as np\n",
    "import pandas as pd\n",
    "# A numpy array:\n",
    "nparray_test = np.array([5,10,15,20])\n",
    "print(nparray_test)\n",
    "# A Pandas Series\n",
    "series_test1 = pd.Series([5,10,15,20])\n",
    "print(series_test1.index.values)\n",
    "series_test2 = pd.Series([5,10,15,20],index=[\"Five\",\"Ten\",\"Fifteen\",\"Twenty\"])\n",
    "print(series_test2.index)\n",
    "df = pd.DataFrame(series_test2)\n",
    "print(df)"
   ]
  },
  {
   "cell_type": "code",
   "execution_count": 27,
   "id": "4c6fc05f",
   "metadata": {},
   "outputs": [],
   "source": [
    "# 2. What is the ndarray in numPy?\n",
    "# A function within the numpy library to create an array with multiple dimensions, or essentially a matrix of value for working with."
   ]
  },
  {
   "cell_type": "code",
   "execution_count": 26,
   "id": "6dad1cf6",
   "metadata": {},
   "outputs": [
    {
     "data": {
      "text/plain": [
       "array([0, 1, 2, 3, 4, 5, 6, 7, 8, 9])"
      ]
     },
     "execution_count": 26,
     "metadata": {},
     "output_type": "execute_result"
    }
   ],
   "source": [
    "# 3. Create a 1D array of numbers from 0 to 9 \n",
    "# Desired Output: \n",
    "# array([0, 1, 2, 3, 4, 5, 6, 7, 8, 9])\n",
    "array_1d = np.array(range(0,10))\n",
    "array_1d"
   ]
  },
  {
   "cell_type": "code",
   "execution_count": 31,
   "id": "98f15b6f",
   "metadata": {},
   "outputs": [
    {
     "name": "stdout",
     "output_type": "stream",
     "text": [
      "[1 3 5 7 9]\n"
     ]
    }
   ],
   "source": [
    "# 4. Extract all odd numbers from array1 \n",
    "array1 = np.array([0, 1, 2, 3, 4, 5, 6, 7, 8, 9])\n",
    "odd_num = array1[array1 % 2 == 1]\n",
    "print(odd_num)"
   ]
  },
  {
   "cell_type": "code",
   "execution_count": 51,
   "id": "fdad6a2e",
   "metadata": {},
   "outputs": [
    {
     "data": {
      "text/plain": [
       "array([2, 4])"
      ]
     },
     "execution_count": 51,
     "metadata": {},
     "output_type": "execute_result"
    }
   ],
   "source": [
    "# 5. Get the common items between a and  b  \n",
    "# #input\n",
    "a = np.array([1,2,3,2,3,4,3,4,5,6])\n",
    "b = np.array([7,2,10,2,7,4,9,4,9,8])\n",
    "\n",
    "# #Desired Output:\n",
    "# array([2, 4])\n",
    "\n",
    "common_vals = np.intersect1d(a, b)\n",
    "common_vals"
   ]
  },
  {
   "cell_type": "code",
   "execution_count": 55,
   "id": "4c8e385b",
   "metadata": {},
   "outputs": [
    {
     "data": {
      "text/plain": [
       "array([1, 2, 3, 4])"
      ]
     },
     "execution_count": 55,
     "metadata": {},
     "output_type": "execute_result"
    }
   ],
   "source": [
    "# 6. From array a remove all items present in array  b \n",
    "# #Input:\n",
    "\n",
    "a = np.array([1,2,3,4,5])\n",
    "b = np.array([5,6,7,8,9])\n",
    "\n",
    "# #Desired Output:\n",
    "# array([1,2,3,4])\n",
    "result = a[~np.isin(a,b)]\n",
    "result"
   ]
  },
  {
   "cell_type": "code",
   "execution_count": 65,
   "id": "e6e8d9ab",
   "metadata": {},
   "outputs": [
    {
     "data": {
      "text/plain": [
       "array([False])"
      ]
     },
     "execution_count": 65,
     "metadata": {},
     "output_type": "execute_result"
    }
   ],
   "source": [
    "# 7. Find out if iris has any missing values. \n",
    "# # Input\n",
    "url = 'https://archive.ics.uci.edu/ml/machine-learning-databases/iris/iris.data'\n",
    "iris = np.genfromtxt(url, delimiter=',', dtype='float', usecols=[0,1,2,3])\n",
    "\n",
    "## COde \n",
    "nulls = np.isnan(iris)\n",
    "np.unique(nulls)\n",
    "#Only False Values no null / missing values."
   ]
  }
 ],
 "metadata": {
  "kernelspec": {
   "display_name": "Python 3 (ipykernel)",
   "language": "python",
   "name": "python3"
  },
  "language_info": {
   "codemirror_mode": {
    "name": "ipython",
    "version": 3
   },
   "file_extension": ".py",
   "mimetype": "text/x-python",
   "name": "python",
   "nbconvert_exporter": "python",
   "pygments_lexer": "ipython3",
   "version": "3.11.5"
  }
 },
 "nbformat": 4,
 "nbformat_minor": 5
}
