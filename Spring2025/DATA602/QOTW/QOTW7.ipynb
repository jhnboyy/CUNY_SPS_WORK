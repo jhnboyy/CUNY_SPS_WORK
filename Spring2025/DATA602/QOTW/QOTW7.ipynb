{
 "cells": [
  {
   "cell_type": "code",
   "execution_count": null,
   "id": "c6271773",
   "metadata": {},
   "outputs": [],
   "source": [
    "#1. What is pandas and why use it?\n",
    "# Pandas is a python library that is commonly used for datan analysis and manupulation in python. The library provides a large\n",
    "# amount of functionality for viewing, processing, cleaning and otherwise working with data within python. \n",
    "\n",
    "#2. Give an example of how to import a csv file using pandas\n",
    "\n",
    "import pandas as pd\n",
    "csv_filepath = r\"This/is/a/file/path.csv\"\n",
    "df = pd.read_csv(csv_filepath)\n",
    "\n",
    "#3. Show how to view the first 10 rows of a dataset using pandas\n",
    "\n",
    "## Using the code above.\n",
    "df.head(n=10)"
   ]
  },
  {
   "cell_type": "code",
   "execution_count": 34,
   "id": "5c4df04f",
   "metadata": {},
   "outputs": [
    {
     "name": "stderr",
     "output_type": "stream",
     "text": [
      "C:\\Users\\johnf\\AppData\\Local\\Temp\\ipykernel_4028\\3518052569.py:15: SettingWithCopyWarning: \n",
      "A value is trying to be set on a copy of a slice from a DataFrame\n",
      "\n",
      "See the caveats in the documentation: https://pandas.pydata.org/pandas-docs/stable/user_guide/indexing.html#returning-a-view-versus-a-copy\n",
      "  df[\"Series_1_2_Equal\"][df['Series1']==df['Series2']]=True\n",
      "C:\\Users\\johnf\\AppData\\Local\\Temp\\ipykernel_4028\\3518052569.py:17: SettingWithCopyWarning: \n",
      "A value is trying to be set on a copy of a slice from a DataFrame\n",
      "\n",
      "See the caveats in the documentation: https://pandas.pydata.org/pandas-docs/stable/user_guide/indexing.html#returning-a-view-versus-a-copy\n",
      "  df[\"Series2Greater\"][df['Series1']<df['Series2']]=True\n",
      "C:\\Users\\johnf\\AppData\\Local\\Temp\\ipykernel_4028\\3518052569.py:19: SettingWithCopyWarning: \n",
      "A value is trying to be set on a copy of a slice from a DataFrame\n",
      "\n",
      "See the caveats in the documentation: https://pandas.pydata.org/pandas-docs/stable/user_guide/indexing.html#returning-a-view-versus-a-copy\n",
      "  df[\"Series1Greater\"][df['Series1']>df['Series2']]=True\n"
     ]
    }
   ],
   "source": [
    "#4. Write a Pandas program to compare the elements of the two Pandas Series.\n",
    "\n",
    "#Sample Series: [2, 4, 6, 8, 10], [1, 3, 5, 7, 10]\n",
    "\n",
    "import pandas as pd\n",
    "Series1 = pd.Series([2, 4, 6, 8, 10])\n",
    "Series2 = pd.Series([1, 3, 5, 7, 10])\n",
    "# Assuming we wanted to compare the values in their respective order\n",
    "df = pd.DataFrame({\"Series1\": Series1, \"Series2\": Series2})\n",
    "#Once in a df then we can create multiple other columns for different categories for analysis, or we can part out the df rows \n",
    "#for sub dfs that fit into a particular cateogry. \n",
    "\n",
    "## Example of Column-oriented solution\n",
    "df[\"Series_1_2_Equal\"] = False\n",
    "df[\"Series_1_2_Equal\"][df['Series1']==df['Series2']]=True\n",
    "df[\"Series2Greater\"]=False\n",
    "df[\"Series2Greater\"][df['Series1']<df['Series2']]=True\n",
    "df[\"Series1Greater\"]=False\n",
    "df[\"Series1Greater\"][df['Series1']>df['Series2']]=True\n",
    "\n",
    "# ## Example of Sub-df / Row solution\n",
    "# Series1_Greater = df[df['Series1']>df['Series2']]\n",
    "# print(Series1_Greater.shape)\n",
    "# Series2_Greater = df[df['Series1']<df['Series2']]\n",
    "# print(Series2_Greater.shape)\n",
    "# Series_Equal = df[df['Series1']==df['Series2']]\n",
    "# print(Series_Equal.shape)"
   ]
  },
  {
   "cell_type": "code",
   "execution_count": 35,
   "id": "5d555a8c",
   "metadata": {},
   "outputs": [
    {
     "data": {
      "text/html": [
       "<div>\n",
       "<style scoped>\n",
       "    .dataframe tbody tr th:only-of-type {\n",
       "        vertical-align: middle;\n",
       "    }\n",
       "\n",
       "    .dataframe tbody tr th {\n",
       "        vertical-align: top;\n",
       "    }\n",
       "\n",
       "    .dataframe thead th {\n",
       "        text-align: right;\n",
       "    }\n",
       "</style>\n",
       "<table border=\"1\" class=\"dataframe\">\n",
       "  <thead>\n",
       "    <tr style=\"text-align: right;\">\n",
       "      <th></th>\n",
       "      <th>Series1</th>\n",
       "      <th>Series2</th>\n",
       "      <th>Series_1_2_Equal</th>\n",
       "      <th>Series2Greater</th>\n",
       "      <th>Series1Greater</th>\n",
       "    </tr>\n",
       "  </thead>\n",
       "  <tbody>\n",
       "    <tr>\n",
       "      <th>0</th>\n",
       "      <td>2</td>\n",
       "      <td>1</td>\n",
       "      <td>False</td>\n",
       "      <td>False</td>\n",
       "      <td>True</td>\n",
       "    </tr>\n",
       "    <tr>\n",
       "      <th>1</th>\n",
       "      <td>4</td>\n",
       "      <td>3</td>\n",
       "      <td>False</td>\n",
       "      <td>False</td>\n",
       "      <td>True</td>\n",
       "    </tr>\n",
       "    <tr>\n",
       "      <th>2</th>\n",
       "      <td>6</td>\n",
       "      <td>5</td>\n",
       "      <td>False</td>\n",
       "      <td>False</td>\n",
       "      <td>True</td>\n",
       "    </tr>\n",
       "    <tr>\n",
       "      <th>3</th>\n",
       "      <td>8</td>\n",
       "      <td>7</td>\n",
       "      <td>False</td>\n",
       "      <td>False</td>\n",
       "      <td>True</td>\n",
       "    </tr>\n",
       "    <tr>\n",
       "      <th>4</th>\n",
       "      <td>10</td>\n",
       "      <td>10</td>\n",
       "      <td>True</td>\n",
       "      <td>False</td>\n",
       "      <td>False</td>\n",
       "    </tr>\n",
       "  </tbody>\n",
       "</table>\n",
       "</div>"
      ],
      "text/plain": [
       "   Series1  Series2  Series_1_2_Equal  Series2Greater  Series1Greater\n",
       "0        2        1             False           False            True\n",
       "1        4        3             False           False            True\n",
       "2        6        5             False           False            True\n",
       "3        8        7             False           False            True\n",
       "4       10       10              True           False           False"
      ]
     },
     "execution_count": 35,
     "metadata": {},
     "output_type": "execute_result"
    }
   ],
   "source": [
    "df"
   ]
  },
  {
   "cell_type": "code",
   "execution_count": 25,
   "id": "8c9637a8",
   "metadata": {},
   "outputs": [
    {
     "name": "stdout",
     "output_type": "stream",
     "text": [
      "0     Hello\n",
      "1        To\n",
      "2      Cuny\n",
      "3    Class?\n",
      "dtype: object\n"
     ]
    }
   ],
   "source": [
    "#5. Change the first character of each word to upper case in each word of df1\n",
    "df1 = pd.Series(['hello', 'to', 'cuny', 'class?'])\n",
    "df1_fixed = df1.str.title()\n",
    "print(df1_fixed)"
   ]
  },
  {
   "cell_type": "code",
   "execution_count": 13,
   "id": "454447da",
   "metadata": {},
   "outputs": [
    {
     "data": {
      "text/plain": [
       "0     hello\n",
       "1        to\n",
       "2      cuny\n",
       "3    class?\n",
       "dtype: object"
      ]
     },
     "execution_count": 13,
     "metadata": {},
     "output_type": "execute_result"
    }
   ],
   "source": [
    "df1"
   ]
  }
 ],
 "metadata": {
  "kernelspec": {
   "display_name": "Python 3 (ipykernel)",
   "language": "python",
   "name": "python3"
  },
  "language_info": {
   "codemirror_mode": {
    "name": "ipython",
    "version": 3
   },
   "file_extension": ".py",
   "mimetype": "text/x-python",
   "name": "python",
   "nbconvert_exporter": "python",
   "pygments_lexer": "ipython3",
   "version": "3.11.5"
  }
 },
 "nbformat": 4,
 "nbformat_minor": 5
}
