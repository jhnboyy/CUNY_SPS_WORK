{
 "cells": [
  {
   "cell_type": "code",
   "execution_count": 46,
   "id": "8d9067c3",
   "metadata": {},
   "outputs": [],
   "source": [
    "##1. Write a Python class to reverse a string word by word.\n",
    "#Example:\n",
    "    #Input string : 'hello .py'\n",
    "    #Expected Output : '.py hello'\n",
    "\n",
    "## CODE\n",
    "class StringReverse:\n",
    "    '''\n",
    "    Assumes that a string has spaces between each word. \n",
    "    '''\n",
    "    def __init__(self, input_string):\n",
    "        self.input_string_list = input_string.split(' ')\n",
    "        self.rev_string = self.reverse_function()\n",
    "    def reverse_function(self):\n",
    "        rev_list = self.input_string_list[::-1]\n",
    "        self.rev_string = \" \".join(rev_list)\n",
    "        return self.rev_string\n",
    "    \n",
    "## USAGE\n",
    "rev_test = StringReverse(test)\n",
    "print(rev_test.rev_string)     \n",
    "\n",
    "#2. Write a Python class named Circle constructed by a radius and two methods which will compute the area and the perimeter of a circle.\n",
    "\n",
    "## CODE\n",
    "import math\n",
    "\n",
    "class Circle:\n",
    "    def __init__(self, circle_radius):\n",
    "        self.pi = math.pi\n",
    "        self.circle_radius = circle_radius\n",
    "        self.area_function()\n",
    "        self.perimeter_function()\n",
    "    \n",
    "    def area_function(self):\n",
    "        self.area = (self.pi * (self.circle_radius**2))\n",
    "        return self.area\n",
    "        \n",
    "    def perimeter_function(self):\n",
    "        self.perimeter = 2 * self.pi * self.circle_radius\n",
    "        return self.perimeter\n",
    "## USAGE\n",
    "circle_radius = 4\n",
    "cir = Circle(circle_radius)\n",
    "#Area\n",
    "print(\"AREA: \",cir.area)\n",
    "#Perimeter\n",
    "print(\"PERIMETER: \",cir.perimeter)"
   ]
  },
  {
   "cell_type": "code",
   "execution_count": 51,
   "id": "07433e66",
   "metadata": {},
   "outputs": [],
   "source": [
    "\n",
    "pi = math.pi"
   ]
  },
  {
   "cell_type": "code",
   "execution_count": null,
   "id": "6e0d0108",
   "metadata": {},
   "outputs": [],
   "source": [
    "circle_radius = 4\n",
    "A = (pi * (r**2))"
   ]
  },
  {
   "cell_type": "code",
   "execution_count": 54,
   "id": "024e029b",
   "metadata": {},
   "outputs": [],
   "source": []
  },
  {
   "cell_type": "code",
   "execution_count": 55,
   "id": "f946f7a2",
   "metadata": {},
   "outputs": [
    {
     "name": "stdout",
     "output_type": "stream",
     "text": [
      "AREA:  50.26548245743669\n",
      "PERIMETER:  25.132741228718345\n"
     ]
    }
   ],
   "source": []
  }
 ],
 "metadata": {
  "kernelspec": {
   "display_name": "Python 3 (ipykernel)",
   "language": "python",
   "name": "python3"
  },
  "language_info": {
   "codemirror_mode": {
    "name": "ipython",
    "version": 3
   },
   "file_extension": ".py",
   "mimetype": "text/x-python",
   "name": "python",
   "nbconvert_exporter": "python",
   "pygments_lexer": "ipython3",
   "version": "3.11.5"
  }
 },
 "nbformat": 4,
 "nbformat_minor": 5
}
