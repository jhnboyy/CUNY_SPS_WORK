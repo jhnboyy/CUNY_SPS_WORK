{
 "cells": [
  {
   "cell_type": "code",
   "execution_count": 20,
   "id": "009b695b",
   "metadata": {},
   "outputs": [
    {
     "name": "stdout",
     "output_type": "stream",
     "text": [
      "cat\n",
      "dog\n",
      "manta ray\n",
      "horse\n",
      "crouching tiger\n",
      "[10, 9, 8, 7, 6, 5, 4, 3, 2, 1, 0, -5]\n",
      "6\n",
      "[10, 20, [300, 400, [5000, 6000, 7000], 500], 30, 40]\n"
     ]
    }
   ],
   "source": [
    "# 1. Create a list called animals that contain the following: cat, dog, manta ray, horse, crouching tiger\n",
    "animals = [\"cat\", \"dog\", \"manta ray\", \"horse\", \"crouching tiger\"]\n",
    "    \n",
    "# 2. Repeat question 1 and loop through and print each item in the animal list by iterating through an index number \n",
    "#         and using range(). Set a variable len_animals to the length of the animal list.\n",
    "len_animals = len(animals)\n",
    "for i in range(0,len_animals):\n",
    "    print(animals[i])\n",
    "\n",
    "# 3. Programmatically reorganize the countdown list below in descending order and return the value of the 5th element in the \n",
    "#                sorted countdown list.The 5th element will be stored in the variable the_fifth_element, which \n",
    "#                currently below has a dummy value of -999. Remember, the index number of the 5th element is not 5\n",
    "               \n",
    "countdown = [9, 8, 7, 5, 4, 2, 1, 6, 10, 3, 0, -5]\n",
    "the_fifth_element = -999\n",
    "#sorting\n",
    "sorted_countdown = sorted(countdown, reverse=True)\n",
    "print(sorted_countdown)         \n",
    "#fifth element with 0 based counting\n",
    "the_fifth_element = sorted_countdown[4]\n",
    "print(the_fifth_element)\n",
    "               \n",
    "# 4. Write a program to add item 7000 after 6000 in the following Python List\n",
    "list1 = [10, 20, [300, 400, [5000, 6000], 500], 30, 40]\n",
    "sublist1 = list1[2]\n",
    "sublist2 = sublist1[2]+[7000]\n",
    "sublist1[2]=sublist2\n",
    "list1[2] = sublist1\n",
    "print(list1)\n",
    "\n",
    "#5. Write a program to remove all occurrences of item 20 in the following list.\n",
    "\n",
    "list2 = [5, 20, 30, 15, 20, 30, 20]\n",
    "list2_no20 = [i for i in list2 if i!=20]\n",
    "print(list2_no20)\n",
    "\n",
    "# 6. Using the following dictionary .. (Use python to solve for the answer.)\n",
    "dict_ = {\"Course\": \"DATA 606\", \"Program\": \"MSDS\", \"School\": \"CUNYSPS\"}\n",
    "\n",
    "## a. What is the name of the course?\n",
    "print(f\"The course name is {dict_['Course']}.\")\n",
    "\n",
    "## b. Change the course to DATA602\n",
    "dict_[\"Course\"]=\"DATA602\"\n",
    "print(dict_)\n",
    "\n",
    "## c. Add new information to the dictionary - \"Professor\" with \"Schettini\"\n",
    "dict_.update({\"Professor\":\"Schettini\"})\n",
    "print(dict_)\n",
    "## d. Using the len function, find how many keys there are in the dictionary. \n",
    "print(f\"There are {len(dict_.keys())} in the dictionary.\")\n",
    "\n",
    "# 7.  Write a Python program to change Brad’s salary to 7500 in the following dictionary.\n",
    "sample_dict = {'emp1': {'name': 'Amanda', 'salary': 8200},\n",
    "               'emp2': {'name': 'John', 'salary': 8000},\n",
    "               'emp3': {'name': 'Brad', 'salary': 700}}\n",
    "\n",
    "## One liner\n",
    "sample_dict[\"emp3\"][\"salary\"]=7500\n",
    "\n",
    "## loop through\n",
    "for k,v in sample_dict.items():\n",
    "    if v[\"name\"]==\"Brad\":\n",
    "        sample_dict[k][\"salary\"]=7500"
   ]
  },
  {
   "cell_type": "code",
   "execution_count": 28,
   "id": "3d1287ac",
   "metadata": {},
   "outputs": [
    {
     "name": "stdout",
     "output_type": "stream",
     "text": [
      "The course name is DATA 606.\n",
      "{'Course': 'DATA602', 'Program': 'MSDS', 'School': 'CUNYSPS'}\n",
      "{'Course': 'DATA602', 'Program': 'MSDS', 'School': 'CUNYSPS', 'Professor': 'Schettini'}\n",
      "There are 4 in the dictionary.\n"
     ]
    }
   ],
   "source": []
  },
  {
   "cell_type": "code",
   "execution_count": 31,
   "id": "02a86867",
   "metadata": {},
   "outputs": [
    {
     "name": "stdout",
     "output_type": "stream",
     "text": [
      "700\n"
     ]
    }
   ],
   "source": [
    "\n",
    "\n",
    "\n",
    "\n",
    "\n"
   ]
  },
  {
   "cell_type": "code",
   "execution_count": 29,
   "id": "c49bbbdc",
   "metadata": {},
   "outputs": [
    {
     "ename": "NameError",
     "evalue": "name 'sample_dict' is not defined",
     "output_type": "error",
     "traceback": [
      "\u001b[1;31m---------------------------------------------------------------------------\u001b[0m",
      "\u001b[1;31mNameError\u001b[0m                                 Traceback (most recent call last)",
      "Cell \u001b[1;32mIn[29], line 2\u001b[0m\n\u001b[0;32m      1\u001b[0m \u001b[38;5;66;03m## loop through\u001b[39;00m\n\u001b[1;32m----> 2\u001b[0m \u001b[38;5;28;01mfor\u001b[39;00m k,v \u001b[38;5;129;01min\u001b[39;00m sample_dict\u001b[38;5;241m.\u001b[39mitems():\n\u001b[0;32m      3\u001b[0m     \u001b[38;5;28;01mif\u001b[39;00m v[\u001b[38;5;124m\"\u001b[39m\u001b[38;5;124mname\u001b[39m\u001b[38;5;124m\"\u001b[39m]\u001b[38;5;241m==\u001b[39m\u001b[38;5;124m\"\u001b[39m\u001b[38;5;124mBrad\u001b[39m\u001b[38;5;124m\"\u001b[39m:\n\u001b[0;32m      4\u001b[0m         \u001b[38;5;28mprint\u001b[39m(sample_dict[k][\u001b[38;5;124m\"\u001b[39m\u001b[38;5;124msalary\u001b[39m\u001b[38;5;124m\"\u001b[39m])\n",
      "\u001b[1;31mNameError\u001b[0m: name 'sample_dict' is not defined"
     ]
    }
   ],
   "source": [
    "## loop through\n",
    "for k,v in sample_dict.items():\n",
    "    if v[\"name\"]==\"Brad\":\n",
    "        print(sample_dict[k][\"salary\"])\n",
    "#         sample_dict[k][\"salary\"]=7000"
   ]
  }
 ],
 "metadata": {
  "kernelspec": {
   "display_name": "Python 3 (ipykernel)",
   "language": "python",
   "name": "python3"
  },
  "language_info": {
   "codemirror_mode": {
    "name": "ipython",
    "version": 3
   },
   "file_extension": ".py",
   "mimetype": "text/x-python",
   "name": "python",
   "nbconvert_exporter": "python",
   "pygments_lexer": "ipython3",
   "version": "3.11.5"
  }
 },
 "nbformat": 4,
 "nbformat_minor": 5
}
