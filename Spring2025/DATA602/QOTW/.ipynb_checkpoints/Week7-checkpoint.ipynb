{
 "cells": [
  {
   "cell_type": "code",
   "execution_count": null,
   "id": "9c41d2c0",
   "metadata": {},
   "outputs": [],
   "source": []
  },
  {
   "cell_type": "code",
   "execution_count": 3,
   "id": "2dd5d4d7",
   "metadata": {},
   "outputs": [
    {
     "data": {
      "text/html": [
       "<div>\n",
       "<style scoped>\n",
       "    .dataframe tbody tr th:only-of-type {\n",
       "        vertical-align: middle;\n",
       "    }\n",
       "\n",
       "    .dataframe tbody tr th {\n",
       "        vertical-align: top;\n",
       "    }\n",
       "\n",
       "    .dataframe thead th {\n",
       "        text-align: right;\n",
       "    }\n",
       "</style>\n",
       "<table border=\"1\" class=\"dataframe\">\n",
       "  <thead>\n",
       "    <tr style=\"text-align: right;\">\n",
       "      <th></th>\n",
       "      <th>class_id</th>\n",
       "      <th>class</th>\n",
       "      <th>student_count</th>\n",
       "    </tr>\n",
       "  </thead>\n",
       "  <tbody>\n",
       "    <tr>\n",
       "      <th>0</th>\n",
       "      <td>602</td>\n",
       "      <td>Adv. Prog.</td>\n",
       "      <td>30</td>\n",
       "    </tr>\n",
       "    <tr>\n",
       "      <th>1</th>\n",
       "      <td>605</td>\n",
       "      <td>Comp. Math</td>\n",
       "      <td>15</td>\n",
       "    </tr>\n",
       "    <tr>\n",
       "      <th>2</th>\n",
       "      <td>624</td>\n",
       "      <td>Predicitve Analytics</td>\n",
       "      <td>5</td>\n",
       "    </tr>\n",
       "    <tr>\n",
       "      <th>3</th>\n",
       "      <td>621</td>\n",
       "      <td>Data Mining</td>\n",
       "      <td>10</td>\n",
       "    </tr>\n",
       "  </tbody>\n",
       "</table>\n",
       "</div>"
      ],
      "text/plain": [
       "  class_id                 class  student_count\n",
       "0      602            Adv. Prog.             30\n",
       "1      605            Comp. Math             15\n",
       "2      624  Predicitve Analytics              5\n",
       "3      621           Data Mining             10"
      ]
     },
     "execution_count": 3,
     "metadata": {},
     "output_type": "execute_result"
    }
   ],
   "source": [
    "import pandas as pd\n",
    "\n",
    "## Creating Sample DF to work with. \n",
    "df = pd.DataFrame({\"class_id\":[\"602\",\"605\",\"624\",\"621\"], \"class\":[\"Adv. Prog.\",\"Comp. Math\",\"Predicitve Analytics\",\"Data Mining\"], \"student_count\":[30,15,5,10]})\n",
    "df.head()"
   ]
  },
  {
   "cell_type": "code",
   "execution_count": 13,
   "id": "5d31e88c",
   "metadata": {},
   "outputs": [
    {
     "name": "stdout",
     "output_type": "stream",
     "text": [
      "  class_id                 class\n",
      "0      602            Adv. Prog.\n",
      "1      605            Comp. Math\n",
      "2      624  Predicitve Analytics\n",
      "3      621           Data Mining\n",
      "  class_id        class  student_count\n",
      "0      602   Adv. Prog.             30\n",
      "1      605   Comp. Math             15\n",
      "3      621  Data Mining             10\n",
      "  class_id        class  student_count\n",
      "0      602   Adv. Prog.             30\n",
      "1      605   Comp. Math             15\n",
      "3      621  Data Mining             10\n"
     ]
    }
   ],
   "source": [
    "# 1. How would you delete:\n",
    "#     - An index from your dataframe\n",
    "###### First Setting an index\n",
    "# with_custom_index= df.set_index(\"class_id\")\n",
    "# ####### Dropping the INdex\n",
    "# no_index = with_custom_index.reset_index(drop=True)\n",
    "# print(no_index)\n",
    "\n",
    "#     - A column from your dataframe\n",
    "###### Dropping a the student count column\n",
    "no_student_count = df.drop(columns=[\"student_count\"])\n",
    "print(no_student_count)\n",
    "\n",
    "#     - A row from your dataframe\n",
    "###### Dropping via selection: Where class_cou is not 5\n",
    "dropped_5_count = df[df[\"student_count\"]!=5]\n",
    "print(dropped_5_count)\n",
    "\n",
    "###### Dropping via index drop\n",
    "dropped_5_count_via_index = df.drop(2)\n",
    "print(dropped_5_count_via_index)\n"
   ]
  },
  {
   "cell_type": "code",
   "execution_count": 14,
   "id": "a9757229",
   "metadata": {},
   "outputs": [
    {
     "name": "stdout",
     "output_type": "stream",
     "text": [
      "Adv. Prog.\n",
      "Comp. Math\n",
      "Predicitve Analytics\n",
      "Data Mining\n"
     ]
    }
   ],
   "source": [
    "# 2. How do you iterate over a pandas dataframe?\n",
    "## Example iterating over the dataframe using iterrows method, with index and row values.\n",
    "for index, row in df.iterrows():\n",
    "    print(row['class'])"
   ]
  },
  {
   "cell_type": "code",
   "execution_count": 32,
   "id": "5c326053",
   "metadata": {},
   "outputs": [
    {
     "name": "stdout",
     "output_type": "stream",
     "text": [
      "0    2025-02-03\n",
      "1    2025-01-04\n",
      "2    2025-01-23\n",
      "Name: start_date, dtype: object\n"
     ]
    }
   ],
   "source": [
    "# 3. How would you convert a string to a date?\n",
    "###### Creating Df with Date as string\n",
    "date_df = pd.DataFrame({\"class\":[\"Adv. Prog.\",\"Comp. Math\",\"Predicitve Analytics\"],\n",
    "                       \"start_date\":[\"02/03/2025\",\"01/04/2025\",\"01/23/2025\"]})\n",
    "###### Converting string to datetime then date in same named column\n",
    "date_df[\"start_date\"] = pd.to_datetime(date_df[\"start_date\"]).dt.date\n",
    "print(date_df[\"start_date\"])"
   ]
  },
  {
   "cell_type": "code",
   "execution_count": 31,
   "id": "199d7869",
   "metadata": {},
   "outputs": [
    {
     "data": {
      "text/html": [
       "<div>\n",
       "<style scoped>\n",
       "    .dataframe tbody tr th:only-of-type {\n",
       "        vertical-align: middle;\n",
       "    }\n",
       "\n",
       "    .dataframe tbody tr th {\n",
       "        vertical-align: top;\n",
       "    }\n",
       "\n",
       "    .dataframe thead th {\n",
       "        text-align: right;\n",
       "    }\n",
       "</style>\n",
       "<table border=\"1\" class=\"dataframe\">\n",
       "  <thead>\n",
       "    <tr style=\"text-align: right;\">\n",
       "      <th></th>\n",
       "      <th>semester</th>\n",
       "      <th>student_count</th>\n",
       "    </tr>\n",
       "  </thead>\n",
       "  <tbody>\n",
       "    <tr>\n",
       "      <th>0</th>\n",
       "      <td>Fall2024</td>\n",
       "      <td>45</td>\n",
       "    </tr>\n",
       "    <tr>\n",
       "      <th>1</th>\n",
       "      <td>Spring2025</td>\n",
       "      <td>15</td>\n",
       "    </tr>\n",
       "  </tbody>\n",
       "</table>\n",
       "</div>"
      ],
      "text/plain": [
       "     semester  student_count\n",
       "0    Fall2024             45\n",
       "1  Spring2025             15"
      ]
     },
     "execution_count": 31,
     "metadata": {},
     "output_type": "execute_result"
    }
   ],
   "source": [
    "# 4. What is data aggregation?  Give an example in Python. \n",
    "\n",
    "#### Data aggregation is removing the granularity and summing up to a specific level in the data. \n",
    "#### Lets take the previous df example, but with an additional column. \n",
    "\n",
    "df = pd.DataFrame({\"class_id\":[\"602\",\"605\",\"624\",\"621\"],\n",
    "                   \"class\":[\"Adv. Prog.\",\"Comp. Math\",\"Predicitve Analytics\",\"Data Mining\"],\n",
    "                   \"semester\":[\"Fall2024\",\"Fall2024\",\"Spring2025\",\"Spring2025\"],\n",
    "                   \"student_count\":[30,15,5,10]})\n",
    "\n",
    "## Were going to use the group by function to aggregate student coutns up to the semester level. \n",
    "\n",
    "semester_agg = df.groupby([\"semester\"]).agg({\"student_count\":\"sum\"}).reset_index()\n",
    "print(semester_agg)\n",
    "## now you can see the counts of students for the semester according to the aggregated df. \n",
    "#----\n",
    "#  semester student_count\n",
    "#  Fall2024   45\n",
    "#  Spring2025 15"
   ]
  },
  {
   "cell_type": "code",
   "execution_count": null,
   "id": "b47a9a0a",
   "metadata": {},
   "outputs": [],
   "source": [
    "# 5. What is GroupBy in Pandas (groupby()). Give an example in Python.\n",
    "\n",
    "## See above. "
   ]
  },
  {
   "cell_type": "code",
   "execution_count": null,
   "id": "4033df68",
   "metadata": {},
   "outputs": [],
   "source": [
    "import pandas as pd\n",
    "\n",
    "##### Creating Sample DF to work with. \n",
    "df = pd.DataFrame({\"class_id\":[\"602\",\"605\",\"624\",\"621\"], \"class\":[\"Adv. Prog.\",\"Comp. Math\",\"Predicitve Analytics\",\"Data Mining\"], \"student_count\":[30,15,5,10]})\n",
    "df.head()\n",
    "\n",
    "# --------------------------------------------------------------------------\n",
    "# 1. How would you delete:\n",
    "# --------------------------------------------------------------------------\n",
    "#     - An index from your dataframe\n",
    "###### First Setting an index\n",
    "with_custom_index= df.set_index(\"class_id\")\n",
    "# ####### Dropping the INdex\n",
    "no_index = with_custom_index.reset_index(drop=True)\n",
    "print(no_index)\n",
    "\n",
    "#     - A column from your dataframe\n",
    "###### Dropping a the student count column\n",
    "no_student_count = df.drop(columns=[\"student_count\"])\n",
    "print(no_student_count)\n",
    "\n",
    "#     - A row from your dataframe\n",
    "###### Dropping via selection: Where class_cou is not 5\n",
    "dropped_5_count = df[df[\"student_count\"]!=5]\n",
    "print(dropped_5_count)\n",
    "\n",
    "###### Dropping via index drop\n",
    "dropped_5_count_via_index = df.drop(2)\n",
    "print(dropped_5_count_via_index)\n",
    "\n",
    "\n",
    "# --------------------------------------------------------------------------\n",
    "# 2. How do you iterate over a pandas dataframe?\n",
    "# --------------------------------------------------------------------------\n",
    "## Example iterating over the dataframe using iterrows method, with index and row values.\n",
    "for index, row in df.iterrows():\n",
    "    print(row['class'])\n",
    "    \n",
    "\n",
    "# --------------------------------------------------------------------------\n",
    "# 3. How would you convert a string to a date?\n",
    "# --------------------------------------------------------------------------\n",
    "###### Creating Df with Date as string\n",
    "date_df = pd.DataFrame({\"class\":[\"Adv. Prog.\",\"Comp. Math\",\"Predicitve Analytics\"],\n",
    "                       \"start_date\":[\"02/03/2025\",\"01/04/2025\",\"01/23/2025\"]})\n",
    "###### Converting string to datetime then date in same named column\n",
    "date_df[\"start_date\"] = pd.to_datetime(date_df[\"start_date\"]).dt.date\n",
    "print(date_df[\"start_date\"])\n",
    "\n",
    "# --------------------------------------------------------------------------\n",
    "# 4. What is data aggregation?  Give an example in Python. \n",
    "# --------------------------------------------------------------------------\n",
    "\n",
    "#### Data aggregation is removing the granularity and summing up to a specific level in the data. \n",
    "#### Lets take the previous df example, but with an additional column. \n",
    "\n",
    "df = pd.DataFrame({\"class_id\":[\"602\",\"605\",\"624\",\"621\"],\n",
    "                   \"class\":[\"Adv. Prog.\",\"Comp. Math\",\"Predicitve Analytics\",\"Data Mining\"],\n",
    "                   \"semester\":[\"Fall2024\",\"Fall2024\",\"Spring2025\",\"Spring2025\"],\n",
    "                   \"student_count\":[30,15,5,10]})\n",
    "\n",
    "## Were going to use the group by function to aggregate student coutns up to the semester level. \n",
    "\n",
    "semester_agg = df.groupby([\"semester\"]).agg({\"student_count\":\"sum\"}).reset_index()\n",
    "print(semester_agg)\n",
    "## now you can see the counts of students for the semester according to the aggregated df. \n",
    "#----\n",
    "#  semester student_count\n",
    "#  Fall2024   45\n",
    "#  Spring2025 15\n",
    "\n",
    "\n",
    "# --------------------------------------------------------------------------\n",
    "# 5. What is GroupBy in Pandas (groupby()). Give an example in Python.\n",
    "# --------------------------------------------------------------------------\n",
    "## See #4 above. "
   ]
  },
  {
   "cell_type": "code",
   "execution_count": null,
   "id": "ed2d634e",
   "metadata": {},
   "outputs": [],
   "source": []
  },
  {
   "cell_type": "code",
   "execution_count": null,
   "id": "fe1c9b55",
   "metadata": {},
   "outputs": [],
   "source": []
  },
  {
   "cell_type": "code",
   "execution_count": null,
   "id": "28a656b1",
   "metadata": {},
   "outputs": [],
   "source": []
  },
  {
   "cell_type": "code",
   "execution_count": null,
   "id": "4476b5d1",
   "metadata": {},
   "outputs": [],
   "source": []
  }
 ],
 "metadata": {
  "kernelspec": {
   "display_name": "Python 3 (ipykernel)",
   "language": "python",
   "name": "python3"
  },
  "language_info": {
   "codemirror_mode": {
    "name": "ipython",
    "version": 3
   },
   "file_extension": ".py",
   "mimetype": "text/x-python",
   "name": "python",
   "nbconvert_exporter": "python",
   "pygments_lexer": "ipython3",
   "version": "3.11.5"
  }
 },
 "nbformat": 4,
 "nbformat_minor": 5
}
