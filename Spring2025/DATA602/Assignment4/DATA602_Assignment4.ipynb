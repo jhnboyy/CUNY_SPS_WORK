{
 "cells": [
  {
   "cell_type": "markdown",
   "id": "192fcd99",
   "metadata": {},
   "source": [
    "# DATA 602 Assignment Number 4\n",
    "# John Ferrara"
   ]
  },
  {
   "cell_type": "markdown",
   "id": "e046c02a",
   "metadata": {},
   "source": [
    "## Q1: Create a class called BankAccount that has four attributes: bankname, firstname, lastname, and balance. \n",
    "### The default balance should be set to 0.\n",
    "### In addition, create ...\n",
    "- A method called deposit() that allows the user to make deposits into their balance.\n",
    "- A method called withdrawal() that allows the user to withdraw from their balance.\n",
    "- Withdrawal may not exceed the available balance. Hint: consider a conditional argument in your withdrawal() method.\n",
    "- Use the __str__() method in order to display the bank name, owner name, and current balance.\n",
    "- Make a series of deposits and withdrawals to test your class."
   ]
  },
  {
   "cell_type": "code",
   "execution_count": null,
   "id": "04475235",
   "metadata": {},
   "outputs": [],
   "source": [
    "class BankAccount:\n",
    "    def __init__(self,bankname, firstname, lastname, balance):\n",
    "        self.bankname = bankname\n",
    "        self.firstname = firstname\n",
    "        self.lastname = lastname\n",
    "        self.balance = balance\n",
    "        \n",
    "    def __str__(self):\n",
    "        return f\"BankAccount(bankname={self.bankname}, firstname={self.firstname}, lastname={self.lastname}, balance={self.balance})\"\n",
    "    \n",
    "    def deposit(self, deposit_amount):\n",
    "        print(f\"Current Balance: ${self.balance}\")\n",
    "        print(f\"Deposit ammount: ${deposit_amount}\")\n",
    "        self.balance = self.balance + deposit_amount\n",
    "        print(f\"Depsit successful! New balance is ${self.balance}.\")\n",
    "    \n",
    "    def withdrawal(self, withdrawal_amount):\n",
    "        print(f\"Current Balance: ${self.balance}\")\n",
    "        print(f\"Withdrawal Request Amount: ${withdrawal_amount}\")\n",
    "        if self.balance >= withdrawal_amount:\n",
    "            self.balance = self.balance - withdrawal_amount\n",
    "            print(f\"Withdrawal Request Successful! New Account balance is: ${self.balance}\")\n",
    "        else:\n",
    "            print(\"Withdrawal Request Denied due to insufficient funds.\")"
   ]
  },
  {
   "cell_type": "markdown",
   "id": "71524ce2",
   "metadata": {},
   "source": [
    "### Executing / Testing Code "
   ]
  },
  {
   "cell_type": "code",
   "execution_count": 2,
   "id": "27e7c8df",
   "metadata": {},
   "outputs": [
    {
     "name": "stdout",
     "output_type": "stream",
     "text": [
      "BankAccount(bankname=Community Bank, firstname=John, lastname=Smith, balance=500)\n",
      "Current Balance: $500\n",
      "Deposit ammount: $100\n",
      "Depsit successful! New balance is $600.\n",
      "--\n",
      "Current Balance: $600\n",
      "Withdrawal Request Amount: $500\n",
      "Withdrawal Request Successful! New Account balance is: $100\n",
      "--\n",
      "Current Balance: $100\n",
      "Withdrawal Request Amount: $400\n",
      "Withdrawal Request Denied due to insufficient funds.\n",
      "--\n",
      "Current Balance: $100\n",
      "Deposit ammount: $100\n",
      "Depsit successful! New balance is $200.\n"
     ]
    }
   ],
   "source": [
    "### INitializaing\n",
    "BA = BankAccount(\"Community Bank\",\"John\", \"Smith\", 500)\n",
    "##Testing __str__\n",
    "print(BA)\n",
    "#Method Testing\n",
    "BA.deposit(100)\n",
    "print('--')\n",
    "BA.withdrawal(500)\n",
    "print('--')\n",
    "BA.withdrawal(400)\n",
    "print('--')\n",
    "BA.deposit(100)"
   ]
  },
  {
   "cell_type": "markdown",
   "id": "e2b7033d",
   "metadata": {},
   "source": [
    "## Q2: Create a class Box that has attributes length and width that takes values for length and width upon construction (instantiation via the constructor).\n",
    "### In addition, create\n",
    "- A method called render() that prints out to the screen a box made with asterisks of length and width dimensions\n",
    "- A method called invert() that switches length and width with each other\n",
    "- Methods get_area() and get_perimeter() that return appropriate geometric calculations\n",
    "- A method called double() that doubles the size of the box. Hint: Pay attention to return value here.\n",
    "- Implement __eq__ so that two boxes can be compared using ==. Two boxes are equal if their respective lengths and widths are identical.\n",
    "- A method print_dim() that prints to screen the length and width details of the box\n",
    "- A method get_dim() that returns a tuple containing the length and width of the box\n",
    "- A method combine() that takes another box as an argument and increases the length and width by the dimensions of the box passed in\n",
    "- A method get_hypot() that finds the length of the diagonal that cuts through the middle\n",
    "\n",
    "- Instantiate 3 boxes of dimensions 5,10 , 3,4 and 5,10 and assign to variables box1, box2 and box3 respectively\n",
    "- Print dimension info for each using print_dim()\n",
    "- Evaluate if box1 == box2, and also evaluate if box1 == box3, print True or False to the screen accordingly \n",
    "- Combine box3 into box1 (i.e. box1.combine())\n",
    "- Double the size of box2\n",
    "- Combine box2 into box1"
   ]
  },
  {
   "cell_type": "code",
   "execution_count": null,
   "id": "66f58046",
   "metadata": {},
   "outputs": [],
   "source": [
    "class Box:\n",
    "    def __init__(self, length, width):\n",
    "        self.length = length\n",
    "        self.width = width\n",
    "        \n",
    "    def __eq__(self, otherbox):\n",
    "        if self.width == otherbox.width and self.length == otherbox.length:\n",
    "            return True\n",
    "        else:\n",
    "            return False\n",
    "    \n",
    "    def render(self):\n",
    "        for i in range(self.length):\n",
    "            print(\"*\" * self.width)\n",
    "    \n",
    "    def invert(self):\n",
    "        print(f\"Inverting dimensions initial dimensions where length is {self.length}, width is {self.width} \")\n",
    "        self.width_invert = self.length\n",
    "        self.length_invert = self.width\n",
    "        self.width = self.width_invert\n",
    "        self.length = self.length_invert\n",
    "        print(f\"Dimenstions successfully inverted. Length is {self.length}, width is {self.width}\")\n",
    "        \n",
    "    def get_area(self):\n",
    "        self.area = self.length * self.width \n",
    "        print(f\"The area of this box is {self.area}.\")\n",
    "        return self.area\n",
    "        \n",
    "    def get_permeter(self):\n",
    "        self.perimeter = (self.length*2) + (self.width *2)\n",
    "        print(f\"The perimeter of this box is {self.perimeter}.\")\n",
    "        return self.perimeter\n",
    "    \n",
    "    def double(self):\n",
    "        print(\"Doubling the box width and length!\")\n",
    "        ## Assuming we are just consistently updating the class dimensions.\n",
    "        self.length = self.length*2\n",
    "        self.width = self.width*2\n",
    "        print(\"The length and widths of the box have been doubled!\")\n",
    "        \n",
    "        \n",
    "    def print_dim(self):\n",
    "        print(f\"The dimensions of this box are a {self.width} width and a {self.length} length.\")\n",
    "        \n",
    "    def get_dim(self):\n",
    "        return (self.length, self.width)\n",
    "    \n",
    "    def combine(self, otherbox):\n",
    "        self.length = self.length + otherbox.length\n",
    "        self.width = self.width + otherbox.width\n",
    "        \n",
    "    def get_hypot(self):\n",
    "        hypotenuse = sqrt(self.width**2+self.length**2)\n",
    "        print(f\"The diagonal line in this box is: {hypotenuse}\")\n",
    "        "
   ]
  },
  {
   "cell_type": "markdown",
   "id": "626c0c8c",
   "metadata": {},
   "source": [
    "### Action Items for Code"
   ]
  },
  {
   "cell_type": "code",
   "execution_count": 4,
   "id": "bdeca68a",
   "metadata": {},
   "outputs": [
    {
     "name": "stdout",
     "output_type": "stream",
     "text": [
      "The dimensions of this box are a 10 width and a 5 length.\n",
      "The dimensions of this box are a 4 width and a 3 length.\n",
      "The dimensions of this box are a 10 width and a 5 length.\n",
      "Is box1 equal to box2\n",
      "False\n",
      "Is box1 equal to box3\n",
      "True\n",
      "Box1 Original Dimensions\n",
      "The dimensions of this box are a 10 width and a 5 length.\n",
      "Box1 Combined Dimensions\n",
      "The dimensions of this box are a 20 width and a 10 length.\n",
      "Box2 Original Dimensions\n",
      "The dimensions of this box are a 4 width and a 3 length.\n",
      "Doubling the box width and length!\n",
      "The length and widths of the box have been doubled!\n",
      "Box2 with Doubled Dimensions\n",
      "The dimensions of this box are a 8 width and a 6 length.\n",
      "Box1 Original Dimensions\n",
      "The dimensions of this box are a 20 width and a 10 length.\n",
      "Box1 Combined Dimensions\n",
      "The dimensions of this box are a 28 width and a 16 length.\n"
     ]
    }
   ],
   "source": [
    "## USE-CASE ACTION ITEMS\n",
    "box1 = Box(5,10)\n",
    "box1.print_dim()\n",
    "box2 = Box(3,4)\n",
    "box2.print_dim()\n",
    "box3 = Box(5,10)\n",
    "box3.print_dim()\n",
    "\n",
    "print(\"Is box1 equal to box2\")\n",
    "print(box1==box2)\n",
    "print(\"Is box1 equal to box3\")\n",
    "print(box1==box3)\n",
    "\n",
    "## Box 3 into Box1\n",
    "print(\"Box1 Original Dimensions\")\n",
    "box1.print_dim()\n",
    "box1.combine(box3)\n",
    "print(\"Box1 Combined Dimensions\")\n",
    "box1.print_dim()\n",
    "\n",
    "## Double box 2\n",
    "print(\"Box2 Original Dimensions\")\n",
    "box2.print_dim()\n",
    "box2.double()\n",
    "print(\"Box2 with Doubled Dimensions\")\n",
    "box2.print_dim()\n",
    "\n",
    "## Box2 into Box 1\n",
    "print(\"Box1 Original Dimensions\")\n",
    "box1.print_dim()\n",
    "box1.combine(box2)\n",
    "print(\"Box1 Combined Dimensions\")\n",
    "box1.print_dim()"
   ]
  }
 ],
 "metadata": {
  "kernelspec": {
   "display_name": "Python 3 (ipykernel)",
   "language": "python",
   "name": "python3"
  },
  "language_info": {
   "codemirror_mode": {
    "name": "ipython",
    "version": 3
   },
   "file_extension": ".py",
   "mimetype": "text/x-python",
   "name": "python",
   "nbconvert_exporter": "python",
   "pygments_lexer": "ipython3",
   "version": "3.11.5"
  }
 },
 "nbformat": 4,
 "nbformat_minor": 5
}
