{
 "cells": [
  {
   "cell_type": "code",
   "execution_count": 8,
   "id": "02f17a24",
   "metadata": {},
   "outputs": [
    {
     "name": "stdout",
     "output_type": "stream",
     "text": [
      "[]\n",
      "[1, 2, 3, 4, 5]\n",
      "[1, 2, 3, 4, 5]\n",
      "[]\n"
     ]
    }
   ],
   "source": [
    "# Q1. What will the following code display?\n",
    "numbers = [1, 2, 3, 4, 5]\n",
    "print(numbers[1:-5])\n",
    "### ANSWER: The above code displays nothing. It is an empty list that is yeilded, as the range 1 through -5 yields the second number the list through the first number. So nothing is returned.\n",
    "\n",
    "# Q1a. Can you debug and fix the output? The code should return the entire list\n",
    "\n",
    "### ANSWER:: In order to display the entire list, we can do any of the following: \n",
    "print(numbers)\n",
    "#OR\n",
    "print(numbers[:])\n",
    "#OR\n",
    "print(numbers[0:])\n",
    "\n"
   ]
  },
  {
   "cell_type": "code",
   "execution_count": 12,
   "id": "4c245ea8",
   "metadata": {},
   "outputs": [
    {
     "name": "stdout",
     "output_type": "stream",
     "text": [
      "How much in sales did the store pull in on day number 1?39\n",
      "Sales as of day 1 of 7: $39.0\n",
      "How much in sales did the store pull in on day number 2?934\n",
      "Sales as of day 2 of 7: $973.0\n",
      "How much in sales did the store pull in on day number 3?84\n",
      "Sales as of day 3 of 7: $1057.0\n",
      "How much in sales did the store pull in on day number 4?782\n",
      "Sales as of day 4 of 7: $1839.0\n",
      "How much in sales did the store pull in on day number 5?93\n",
      "Sales as of day 5 of 7: $1932.0\n",
      "How much in sales did the store pull in on day number 6?94\n",
      "Sales as of day 6 of 7: $2026.0\n",
      "How much in sales did the store pull in on day number 7?82\n",
      "Total weekly sales: $2108.0\n"
     ]
    }
   ],
   "source": [
    "# Q2. Design a program that asks the user to enter a store’s sales for each day of the\n",
    "# week. The amounts should be stored in a list. Use a loop to calculate the total sales for\n",
    "# the week and display the result.\n",
    "weekly_sales = []\n",
    "days_open_weekly = 7\n",
    "for d in range(days_open_weekly):\n",
    "    non_zero_day = d+1\n",
    "    temp_input=input(f\"How much in sales did the store pull in on day number {non_zero_day}?\")\n",
    "    try:\n",
    "        daily_sales = float(temp_input.strip())\n",
    "        weekly_sales.append(daily_sales)\n",
    "        if non_zero_day<7:\n",
    "            print(f\"Sales as of day {non_zero_day} of 7: ${round(sum(weekly_sales),2)}\")\n",
    "        else:\n",
    "            print(f\"Total weekly sales: ${round(sum(weekly_sales),2)}\")\n",
    "    except Exception as e:\n",
    "        print(\"ERROR: \",e)\n",
    "        print(\"Please ensure you only use numeric values.\")"
   ]
  },
  {
   "cell_type": "code",
   "execution_count": 16,
   "id": "a3d23f44",
   "metadata": {},
   "outputs": [
    {
     "name": "stdout",
     "output_type": "stream",
     "text": [
      "['Italy', 'Ireland', 'Jordan', 'Finland', 'Japan']\n",
      "['Finland', 'Ireland', 'Italy', 'Japan', 'Jordan']\n",
      "['Jordan', 'Japan', 'Italy', 'Ireland', 'Finland']\n"
     ]
    }
   ],
   "source": [
    "# Q3. Create a list with at least 5 places you’d like to travel to. Make sure the list isn’t in\n",
    "# alphabetical order\n",
    "# ● Print your list in its original order.\n",
    "# ● Use the sort() function to arrange your list in order and reprint your list.\n",
    "# ● Use the sort(reverse=True) and reprint your list.\n",
    "destinations = [\"Italy\",\"Ireland\",\"Jordan\",\"Finland\",\"Japan\"]\n",
    "#Original Order\n",
    "print(destinations)\n",
    "# Sorting\n",
    "destinations.sort()\n",
    "print(destinations)\n",
    "destinations.sort(reverse = True)\n",
    "print(destinations)"
   ]
  },
  {
   "cell_type": "code",
   "execution_count": 22,
   "id": "70d92cb2",
   "metadata": {},
   "outputs": [
    {
     "name": "stdout",
     "output_type": "stream",
     "text": [
      "Please enter your course full course code. (e.g., DATA602)DATA602\n",
      "Class DATA602 is currently taught by Professor Smith in Room number 100. The class meets on Tuesday at 7:00pm\n"
     ]
    }
   ],
   "source": [
    "# Q4. Write a program that creates a dictionary containing course numbers and the room\n",
    "# numbers of the rooms where the courses meet. The program should also create a\n",
    "# dictionary containing course numbers and the names of the instructors that teach each\n",
    "# course. After that, the program should let the user enter a course number, then it should\n",
    "# display the course’s room number, instructor, and meeting time.\n",
    "room_dict = {\"DATA602\":{\"Professor\":\"Smith\",\"Room\":\"100\",\"Time\":\"Tuesday at 7:00pm\"},\n",
    "             \"DATA624\":{\"Professor\":\"Doe\",\"Room\":\"200\",\"Time\":\"Thursday at 7:00pm\"},\n",
    "             \"DATA605\":{\"Professor\":\"Schmidt\",\"Room\":\"300\",\"Time\":\"Wednesday at 7:00pm\"},\n",
    "             \"DATA621\":{\"Professor\":\"Brown\",\"Room\":\"400\",\"Time\":\"Monday at 7:00pm\"}}\n",
    "userInput = input(\"Please enter your course full course code. (e.g., DATA602)\")\n",
    "try:\n",
    "    #Ensuring some cleaning measures for potential input variations\n",
    "    refined_entry = userInput.upper().strip().replace(\" \",\"\")\n",
    "    print(f\"Class {refined_entry} is currently taught by \"+\"Professor {Professor} in Room number {Room}. The class meets on {Time}.\".format_map(room_dict[refined_entry]))\n",
    "except Exception as e:\n",
    "    print(\"ERROR: \",e)\n",
    "    print(\"Please ensure youre entering a valid course number for this semester's catalogue: \", room_dict.keys())\n",
    "\n"
   ]
  },
  {
   "cell_type": "code",
   "execution_count": 25,
   "id": "91d6b705",
   "metadata": {},
   "outputs": [
    {
     "name": "stdout",
     "output_type": "stream",
     "text": [
      "POSSIBLE ACTIONS: 'EmailLookup','AddContact','UpdateContact','DeleteContact'.\n",
      "Please enter the action you would like to execute:DeleteContact\n",
      "Please enter the name of the contact you would like to delete: Derek\n",
      "Success! Derek has been removed from contacts.\n"
     ]
    }
   ],
   "source": [
    "# Q5. Write a program that keeps names and email addresses in a dictionary as\n",
    "# key-value pairs. The program should then demonstrate the four options:\n",
    "# ● look up a person’s email address,\n",
    "# ● add a new name and email address,\n",
    "# ● change an existing email address, and\n",
    "# ● delete an existing name and email address.\n",
    "\n",
    "contact_dict = {\"John\":\"john@email.com\",\n",
    "                \"Emily\":\"emily@email.com\",                              \n",
    "                \"Derek\":\"derek@email.com\"}\n",
    "print(\"POSSIBLE ACTIONS: 'EmailLookup','AddContact','UpdateContact','DeleteContact'.\")\n",
    "action_input = input(\"Please enter the action you would like to execute:\").strip()\n",
    "try:\n",
    "    #EmailLookup\n",
    "    if action_input == \"EmailLookup\":\n",
    "        person_input= input(\"Enter the name of the contact who's email you would like: \").title()\n",
    "        print(f\"The email for {person_input} is {contact_dict[person_input]}.\")\n",
    "    #AddContact\n",
    "    elif action_input ==\"AddContact\":\n",
    "        new_name_input = input(\"Please enter the first name of the new contact: \").title().strip()\n",
    "        new_email_input = input(f\"Please enter the email for {new_name_input}: \").lower().strip()\n",
    "        contact_dict.update({new_name_input:new_email_input})\n",
    "        print(f\"New Contact {new_name_input} has been added to the contacts with the email: {new_email_input}.\")\n",
    "    #UpdateContact\n",
    "    elif action_input ==\"UpdateContact\":\n",
    "        update_contact = input(\"Please enter the name of the contact you would like to update: \").title().strip()\n",
    "        new_email_input = input(f\"Please enter the new email for {update_contact}: \").lower().strip()\n",
    "        contact_dict[update_contact]=new_email_input\n",
    "        print(f\"Contact {update_contact} has been updated to have {new_email_input} as their email.\")\n",
    "    #DeleteContact\n",
    "    else:\n",
    "        delete_contact = input(\"Please enter the name of the contact you would like to delete: \").title().strip()\n",
    "        del contact_dict[delete_contact]\n",
    "        print(f\"Success! {delete_contact} has been removed from contacts.\")\n",
    "except Exception as e:\n",
    "    print(\"ERROR: \",e)\n",
    "    print(\"Please ensure youre entering a valid action, or value.\")\n"
   ]
  }
 ],
 "metadata": {
  "kernelspec": {
   "display_name": "Python 3 (ipykernel)",
   "language": "python",
   "name": "python3"
  },
  "language_info": {
   "codemirror_mode": {
    "name": "ipython",
    "version": 3
   },
   "file_extension": ".py",
   "mimetype": "text/x-python",
   "name": "python",
   "nbconvert_exporter": "python",
   "pygments_lexer": "ipython3",
   "version": "3.11.5"
  }
 },
 "nbformat": 4,
 "nbformat_minor": 5
}
