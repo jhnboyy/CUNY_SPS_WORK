{
 "cells": [
  {
   "cell_type": "markdown",
   "id": "dd3da255",
   "metadata": {},
   "source": [
    "### Homework #2; DATA 605\n",
    "#### John Ferrara"
   ]
  },
  {
   "cell_type": "markdown",
   "id": "e1b70b20",
   "metadata": {},
   "source": [
    "\n",
    "### Problem 1"
   ]
  },
  {
   "cell_type": "markdown",
   "id": "77a5f595",
   "metadata": {},
   "source": [
    "(Bayesian):\n",
    "\n",
    "A new credit scoring system has been developed to predict the likelihood of loan defaults. The system has a 90% sensitivity, meaning that it correctly identifies 90% of those who will default on their loans. It also has a 95% specificity, meaning that it correctly identifies 95% of those who will not default. The default rate among borrowers is 2%. Given these prevalence, sensitivity, and specificity estimates, what is the probability that a borrower flagged by the system as likely to default will actually default? \n",
    "\n",
    "If the average loss per defaulted loan is 200,000 dollars and the cost to run the credit scoring test on each borrower is 500 dollars, what is the total first-year cost for evaluating 10,000 borrowers?"
   ]
  },
  {
   "cell_type": "markdown",
   "id": "f28d11ab",
   "metadata": {},
   "source": [
    "#### Answer"
   ]
  },
  {
   "cell_type": "code",
   "execution_count": null,
   "id": "d05dee87",
   "metadata": {},
   "outputs": [],
   "source": [
    "# Model is 90% correct. Sensitivity = TP / (TP+FN)\n",
    "\n",
    "#  TP = Flagged & Default\n",
    "#  FN = Not Flagged & Default\n",
    "\n",
    " \n",
    "# 95% specificity for those who do not default. \n",
    "# specificity = TN / (TN + FP)\n",
    "\n",
    "# TN = Not Flagged & No Default\n",
    "# FP = Flagged & No default\n",
    "\n",
    "# Default rate 2% p = 0.02, q = 0.98\n",
    "\n",
    "# If 1000 borrowers\n",
    "# 20 default; 980 dont. \n",
    "\n",
    "# 90% of 20  = 18 Flagged for Default & default. 2 Not flagged for Default & default\n",
    "# 95% of 980 = 931 no flag, no default. 49 flag w/ no default \n",
    "\n",
    "#TP = 18\n",
    "#FP = 49\n",
    "#FN = 2\n",
    "#TN = 931\n",
    "\n",
    "## Total Flagged 18+49 = 67\n",
    "\n",
    "# PART 1) want to know chances borrower flagged to default WILL default.\n",
    "# 18/67 = 26.8% of those flagged will actually default.\n",
    "\n",
    "## ANSWER: 26.8% of those flagged will actually default.\n",
    "\n",
    "\n",
    "# PART 2) what is the total first-year cost for evaluating 10,000 borrowers\n",
    "\n",
    "#200,000 avg loss per default\n",
    "# If 2% default w 10,000 borrowers = 200 defaults * avg. Cost of 200,000 = 40,000,000\n",
    "# Cost per test per borrower = 500 * 10,000 = 5,000,000\n",
    "\n",
    "## Losses from default 40,000,000 dollars from 200 (2%) defaults. \n",
    "## Plus cost of running tests 5,000,000\n",
    "## Total Cost is $45,000,000 \n",
    "\n",
    "## ANSWER: Assuming the losses from defaulting take place in the first year, the total cost will be $45,000,000. \n",
    "## If the losses from defaults happen in the second, or later year, the first year would be the cost of running tests, so Five million.\n"
   ]
  },
  {
   "cell_type": "markdown",
   "id": "4ce3d04c",
   "metadata": {},
   "source": [
    "(Binomial): The probability that a stock will pay a dividend in any given quarter is 0.7. What is the probability that the stock pays dividends exactly 6 times in 8 quarters? What is the probability that it pays dividends 6 or more times? What is the probability that it pays dividends fewer than 6 times? What is the expected number of dividend payments over 8 quarters? What is the standard deviation?"
   ]
  },
  {
   "cell_type": "markdown",
   "id": "64dfb3c9",
   "metadata": {},
   "source": [
    "#### ANSWER"
   ]
  },
  {
   "cell_type": "code",
   "execution_count": 15,
   "id": "2637c025",
   "metadata": {},
   "outputs": [
    {
     "name": "stdout",
     "output_type": "stream",
     "text": [
      "ANSWER: 0.2965 percent that exactly 6 quarters out of 8 a stock will pay dividend.\n",
      "ANSWER: 0.5518 percent that 6 quarters or more out of 8 a stock will pay dividend.\n",
      "ANSWER: 0.4482 percent that dividends are paid less than 6 times.\n",
      "ANSWER: 5.6 if the expected number of dividend payments.\n",
      "ANSWER: 1.296 is the standard deviation.\n"
     ]
    }
   ],
   "source": [
    "from scipy.stats import binom\n",
    "import math\n",
    "\n",
    "## dividend payment is p=0.7\n",
    "p = 0.7\n",
    "\n",
    "## PART 1) Exectly 6 times in 8 quarters\n",
    "n = 8 #nuimber of quarters (2 years)\n",
    "print(f\"ANSWER: {round(binom.pmf(6, n, p),4)} percent that exactly 6 quarters out of 8 a stock will pay dividend.\")\n",
    "\n",
    "\n",
    "## PART 2) What is the probability that it pays dividends 6 or more times?\n",
    "print(f\"ANSWER: {round(binom.sf(5, n, p),4)} percent that 6 quarters or more out of 8 a stock will pay dividend.\")\n",
    "\n",
    "## PART 3) What is the probability that it pays dividends fewer than 6 times?\n",
    "print(f\"ANSWER: {round(binom.cdf(5, n, p),4)} percent that dividends are paid less than 6 times.\")\n",
    "\n",
    "## PART 4) What is the expected number of dividend payments over 8 quarters?\n",
    "print(f\"ANSWER: {round((n*p),3)} if the expected number of dividend payments.\")\n",
    "\n",
    "## PART 5) What is the standard deviation?\n",
    "print(f\"ANSWER: {round(math.sqrt(n * p * (1 - p)),3)} is the standard deviation.\")"
   ]
  },
  {
   "cell_type": "markdown",
   "id": "ab4656bc",
   "metadata": {},
   "source": [
    "(Poisson): A financial analyst notices that there are an average of 12 trading days each month when a certain stock’s price increases by more than 2%. What is the probability that exactly 4 such days occur in a given month? What is the probability that more than 12 such days occur in a given month? How many such days would you expect in a 6-month period? What is the standard deviation of the number of such days? If an investment strategy requires at least 70 days of such price increases in a year for profitability, what is the percent utilization and what are your recommendations?"
   ]
  },
  {
   "cell_type": "markdown",
   "id": "540689bb",
   "metadata": {},
   "source": [
    "#### ANSWER"
   ]
  },
  {
   "cell_type": "code",
   "execution_count": 23,
   "id": "9a9b9cfa",
   "metadata": {},
   "outputs": [
    {
     "name": "stdout",
     "output_type": "stream",
     "text": [
      "ANSWER: 0.53 percent chance that exactly 4 such days.\n",
      "ANSWER: 42.4 percent change that more than 12 days occur in a month.\n",
      "ANSWER: 72 is the expected value for a 6 month period. \n",
      "ANSWER: 8.485 is the standard devation for 6 month scale and a 3.464 on a monthly scale.\n",
      "ANSWER: 205.71 percent utiltization.\n",
      "This is 200 plus percent, so the recommendation is to continue with the current strategy. There is ample room to test new strategies without worring about profitability.\n"
     ]
    }
   ],
   "source": [
    "from scipy.stats import poisson\n",
    "\n",
    "## Avg 12 trading days each month stock inc >2%\n",
    "lambda_ = 12\n",
    "\n",
    "# Part 1) What is the probability that exactly 4 such days occur in a given month?\n",
    "print(f\"ANSWER: {round(poisson.pmf(4, lambda_),4)*100} percent chance that exactly 4 such days.\")\n",
    "\n",
    "# Part 2) What is the probability that more than 12 such days occur in a given month? \n",
    "print(f\"ANSWER: {round(poisson.sf(lambda_,lambda_),4)*100} percent change that more than 12 days occur in a month.\")\n",
    "\n",
    "# Part 3) How many such days would you expect in a 6-month period?\n",
    "\n",
    "# Monthly Lambda moved toward 6 month scale \n",
    "lambda_6 = lambda_*6\n",
    "print(f\"ANSWER: {round(lambda_6,4)} is the expected value for a 6 month period. \")\n",
    "      \n",
    "# Part 4) What is the standard deviation of the number of such days? \n",
    "std_dev_month = math.sqrt(lambda_)\n",
    "std_dev_6 = math.sqrt(lambda_6)\n",
    "print(f\"ANSWER: {round(std_dev_6,3)} is the standard devation for 6 month scale and a {round(std_dev_month,3)} on a monthly scale.\")\n",
    "\n",
    "# Past 5) If an investment strategy requires at least 70 days of such price increases in a year for profitability, \n",
    "# what is the percent utilization and what are your recommendations?\n",
    "\n",
    "# If the monthly avg is 12 then yearly avg would be 144 days. \n",
    "# THe ave would 144 / 70 days for profit. \n",
    "print(f\"ANSWER: {round(144/70,4)*100} percent utiltization.\")\n",
    "print(\"This is 200 plus percent, so the recommendation is to continue with the current strategy. There is ample room to test new strategies without worring about profitability.\")\n",
    "\n"
   ]
  },
  {
   "cell_type": "markdown",
   "id": "bad12704",
   "metadata": {},
   "source": [
    "(Hypergeometric): A hedge fund has a portfolio of 25 stocks, with 15 categorized as high-risk and 10 as low-risk. The fund manager randomly selects 7 stocks to closely monitor. If the manager selected 5 high-risk stocks and 2 low-risk stocks, what is the probability of selecting exactly 5 high-risk stocks if the selection was random? How many high-risk and low-risk stocks would you expect to be selected?"
   ]
  },
  {
   "cell_type": "markdown",
   "id": "3032e192",
   "metadata": {},
   "source": [
    "#### ANSWER"
   ]
  },
  {
   "cell_type": "code",
   "execution_count": 32,
   "id": "1f975ae8",
   "metadata": {},
   "outputs": [
    {
     "name": "stdout",
     "output_type": "stream",
     "text": [
      "28.11 percent is the probability of selecting exactly 5 high risk stocks.\n",
      "4.0 high risk stocks are expected to be selected.\n",
      "3.0 low risk stocks are expected to be selected.\n"
     ]
    }
   ],
   "source": [
    "from scipy.stats import hypergeom\n",
    "stocks = 25\n",
    "high_risk = 15 # 15/25 are high risk (60%)\n",
    "low_risk = 10 # 10/25 are low risk (40%)\n",
    "\n",
    "# Random selection: 5 high risk, 2 low risk (7 total)\n",
    "\n",
    "# PART 1: what is the probability of selecting exactly 5 high-risk stocks if the selection was random? \n",
    "print(f\"{round(hypergeom.pmf(5,stocks,high_risk,7)*100,2)} percent is the probability of selecting exactly 5 high risk stocks.\")\n",
    "\n",
    "# PART 2: How many high-risk and low-risk stocks would you expect to be selected?\n",
    "print(f\"{round(7*(0.6),0)} high risk stocks are expected to be selected.\")\n",
    "print(f\"{round(7*(0.4),0)} low risk stocks are expected to be selected.\")\n"
   ]
  },
  {
   "cell_type": "markdown",
   "id": "444cc49d",
   "metadata": {},
   "source": [
    "(Geometric): The probability that a bond defaults in any given year is 0.5%. A portfolio manager holds this bond for 10 years. What is the probability that the bond will default during this period? What is the probability that it will default in the next 15 years? What is the expected number of years before the bond defaults? If the bond has already survived 10 years, what is the probability that it will default in the next 2 years?"
   ]
  },
  {
   "cell_type": "markdown",
   "id": "49b292a9",
   "metadata": {},
   "source": [
    "#### ANSWER:"
   ]
  },
  {
   "cell_type": "code",
   "execution_count": 48,
   "id": "582a9e77",
   "metadata": {},
   "outputs": [
    {
     "name": "stdout",
     "output_type": "stream",
     "text": [
      "4.889 percent probability taht the bond will default in ten years.\n",
      "7.2431 percent probability taht the bond will default in 15 years.\n",
      "The expected value for the years it takes for the bond to default is 200.0 years.\n",
      "0.9975 percent probability taht the bond will default in 15 years.\n"
     ]
    }
   ],
   "source": [
    "#bond default p = 0.005 per year\n",
    "p = 0.005\n",
    "# holds for 10 years\n",
    "\n",
    "# PART 1) What is the probability that the bond will default during this period? \n",
    "#Geometric form\n",
    "not_default = (1-p)**10\n",
    "default = (1-not_default)\n",
    "print(f\"{round(default*100,4)} percent probability taht the bond will default in ten years.\")\n",
    "\n",
    "# PART 2) What is the probability that it will default in the next 15 years? \n",
    "not_default = (1-p)**15\n",
    "default = (1-not_default)\n",
    "print(f\"{round(default*100,4)} percent probability taht the bond will default in 15 years.\")\n",
    "\n",
    "# PART 3) What is the expected number of years before the bond defaults? \n",
    "print(f\"The expected value for the years it takes for the bond to default is {1/p} years.\")\n",
    "\n",
    "# PART 4) If the bond has already survived 10 years, what is the probability that it will default in the next 2 years?\n",
    "## No memory, so doesnt matter need to do 2 years\n",
    "not_default = (1-p)**2\n",
    "default = (1-not_default)\n",
    "print(f\"{round(default*100,4)} percent probability that the bond will default in 2 years.\")"
   ]
  },
  {
   "cell_type": "markdown",
   "id": "60bf18ee",
   "metadata": {},
   "source": [
    "(Poisson): A high-frequency trading algorithm experiences a system failure about once every 1500 trading hours. What is the probability that the algorithm will experience more than two failures in 1500 hours? What is the expected number of failures?"
   ]
  },
  {
   "cell_type": "markdown",
   "id": "918d7421",
   "metadata": {},
   "source": [
    "#### ANSWER:"
   ]
  },
  {
   "cell_type": "code",
   "execution_count": 55,
   "id": "4e6b2c8c",
   "metadata": {},
   "outputs": [
    {
     "name": "stdout",
     "output_type": "stream",
     "text": [
      "8.03 percent chance that 2 failures happen in the 1500 hour window.\n"
     ]
    }
   ],
   "source": [
    "# 1 failure every 1500 trading hours\n",
    "\n",
    "# PART 1) What is the probability that the algorithm will experience more than two failures in 1500 hours?\n",
    "print(f\"{round(poisson.sf(2, 1)*100,2)} percent chance that 2 failures happen in the 1500 hour window.\")\n",
    "\n",
    "# What is the expected number of failures?\n",
    "print(\"The expected number of failures, as outlined in the probem is 1.\")"
   ]
  },
  {
   "cell_type": "markdown",
   "id": "528e6af5",
   "metadata": {},
   "source": [
    "(Uniform Distribution): An investor is trying to time the market and is monitoring a stock that they believe has an equal chance of reaching a target price between 20 and 60 days. What is the probability that the stock will reach the target price in more than 40 days? If it hasn’t reached the target price by day 40, what is the probability that it will reach it in the next 10 days? What is the expected time for the stock to reach the target price?"
   ]
  },
  {
   "cell_type": "code",
   "execution_count": 69,
   "id": "b3ea40f8",
   "metadata": {},
   "outputs": [
    {
     "name": "stdout",
     "output_type": "stream",
     "text": [
      "50.0 percent chance that it takes more than 40 days to reach price.\n",
      "0.5 probabilty that if the price isnt reached by day 40, that it is reached in the next 10 days.\n",
      "40.0 is the expected time for reaching the price\n"
     ]
    }
   ],
   "source": [
    "# equal change of reaching target price between 20 and 60 days.\n",
    "from scipy.stats import uniform\n",
    "\n",
    "#Part 1) What is the probability that the stock will reach the target price in more than 40 days?\n",
    "interval_dist_uniform = uniform(20,(60-20))\n",
    "print(f\"{round(interval_dist_uniform.sf(40)*100,2)} percent chance that it takes more than 40 days to reach price.\")\n",
    "\n",
    "#Part 2) If it hasn’t reached the target price by day 40, what is the probability that it will reach it in the next 10 days?\n",
    "over_40 = interval_dist_uniform.sf(40)\n",
    "over_40_to_50 = interval_dist_uniform.cdf(50) - interval_dist_uniform.cdf(40)\n",
    "print(f\"{over_40_to_50/over_40} probabilty that if the price isnt reached by day 40, that it is reached in the next 10 days.\")\n",
    "    \n",
    "#Part 3) What is the expected time for the stock to reach the target price?\n",
    "print(f\"{interval_dist_uniform.mean()} is the expected time for reaching the price\")"
   ]
  },
  {
   "cell_type": "markdown",
   "id": "993a95b1",
   "metadata": {},
   "source": [
    "(Exponential Distribution): A financial model estimates that the lifetime of a successful start-up before it either goes public or fails follows an exponential distribution with an expected value of 8 years. What is the expected time until the start-up either goes public or fails? What is the standard deviation? What is the probability that the start-up will go public or fail after 6 years? Given that the start-up has survived for 6 years, what is the probability that it will go public or fail in the next 2 years?"
   ]
  },
  {
   "cell_type": "code",
   "execution_count": 81,
   "id": "408f3dc3",
   "metadata": {},
   "outputs": [
    {
     "name": "stdout",
     "output_type": "stream",
     "text": [
      "The expected time is 8.0 years.\n",
      "The standard deviation is 8.0\n",
      " 47.24 perent chance that it will go public / fail after 6 years.\n",
      "22.12 percent chance that it goes public in the 7th or 8th year.\n"
     ]
    }
   ],
   "source": [
    "#8 years until public \n",
    "\n",
    "from scipy.stats import expon\n",
    "\n",
    "exp_dist = expon(scale=8) \n",
    "\n",
    "# PART 1) What is the expected time until the start-up either goes public or fails?\n",
    "print(f\"The expected time is {exp_dist.mean()} years.\")\n",
    "\n",
    "# PART 2) What is the standard deviation? \n",
    "print(f\"The standard deviation is {exp_dist.std()}\")\n",
    "\n",
    "# PART 3) What is the probability that the start-up will go public or fail after 6 years? \n",
    "#More than 6 years so sf\n",
    "print(f\" {round(exp_dist.sf(6)*100,2)} perent chance that it will go public / fail after 6 years.\")\n",
    "\n",
    "# PART 4) Given that the start-up has survived for 6 years, what is the probability that it will go public or fail in the next 2 years?\n",
    "# survived 6, max 8. no Memory\n",
    "print(f\"{round(exp_dist.cdf(2)*100,2)} percent chance that it goes public in the 7th or 8th year.\")\n"
   ]
  },
  {
   "cell_type": "markdown",
   "id": "a86a34f7",
   "metadata": {},
   "source": [
    "### Problem 2"
   ]
  },
  {
   "cell_type": "markdown",
   "id": "4f94631f",
   "metadata": {},
   "source": [
    "(Product Selection): A company produces 5 different types of green pens and 7 different types of red pens. The marketing team needs to create a new promotional package that includes 5 pens. How many different ways can the package be created if it contains fewer than 2 green pens?"
   ]
  },
  {
   "cell_type": "code",
   "execution_count": 87,
   "id": "aafe442b",
   "metadata": {},
   "outputs": [
    {
     "name": "stdout",
     "output_type": "stream",
     "text": [
      "196\n"
     ]
    }
   ],
   "source": [
    "#5 types of green\n",
    "#7 types of red\n",
    "# New package of 5 pens, how many ways for <2 green. Order doesnt matter, so combinations\n",
    "# possibilities:\n",
    "    # 1) 4 red, 1 green \n",
    "    # 2) 5 red, 0 green\n",
    "\n",
    "import math\n",
    "\n",
    "case1 = math.comb(5,0) * math.comb(7,5) # Green Selection + Red Selection \n",
    "#print(case1)\n",
    "case2 = math.comb(5,1) * math.comb(7,4) # Green Selection + Red Selection\n",
    "#print(case2)\n",
    "possible_comb = case1+case2\n",
    "print(possible_comb)\n",
    "\n",
    "#Answer: There are 196 different types of ways to make these promotional packages. "
   ]
  },
  {
   "cell_type": "markdown",
   "id": "360af555",
   "metadata": {},
   "source": [
    "(Team Formation for a Project): A project committee is being formed within a company that includes 14 senior managers and 13 junior managers. How many ways can a project team of 5 members be formed if at least 4 of the members must be junior managers?"
   ]
  },
  {
   "cell_type": "code",
   "execution_count": 90,
   "id": "8f37b3ed",
   "metadata": {},
   "outputs": [
    {
     "name": "stdout",
     "output_type": "stream",
     "text": [
      "11297\n"
     ]
    }
   ],
   "source": [
    "#14 senior managers\n",
    "#13 Junior Managers\n",
    "\n",
    "# Total of 5 team members, if 4 must be jnr mgmt. \n",
    "\n",
    "#combinations b/c order doesnt matter\n",
    "\n",
    "snr_mgt_inc_case = math.comb(14,1)*math.comb(13,4)\n",
    "# The problem does not say a team needs at least 1 snr manager, so technially the team can be 5 jr mngr\n",
    "only_jnr = math.comb(14,0)*math.comb(13,5)\n",
    "possibilities = only_jnr+snr_mgt_inc_case\n",
    "print(possibilities)\n",
    "#Answer: 11,297 different team possibilities. "
   ]
  },
  {
   "cell_type": "markdown",
   "id": "ba74f93b",
   "metadata": {},
   "source": [
    "(Marketing Campaign Outcomes): A marketing campaign involves three stages: first, a customer is sent 5 email offers; second, the customer is targeted with 2 different online ads; and third, the customer is presented with 3 personalized product recommendations. If the email offers, online ads, and product recommendations are selected randomly, how many different possible outcomes are there for the entire campaign?"
   ]
  },
  {
   "cell_type": "code",
   "execution_count": 93,
   "id": "fd8b9c1e",
   "metadata": {},
   "outputs": [
    {
     "name": "stdout",
     "output_type": "stream",
     "text": [
      "30\n"
     ]
    }
   ],
   "source": [
    "# 3 stages \n",
    "\n",
    "#1) 5 email offer\n",
    "#2) 2 onlin ad\n",
    "#3) 3 prod. recs. \n",
    "\n",
    "answer = 5 * 2 * 3\n",
    "print(answer)\n",
    "#Answer: THere are 30 different outcomes. "
   ]
  },
  {
   "cell_type": "markdown",
   "id": "8f522464",
   "metadata": {},
   "source": [
    "(Product Defect Probability): A quality control team draws 3 products from a batch of size N without replacement. What is the probability that at least one of the products drawn is defective if the defect rate is known to be consistent? "
   ]
  },
  {
   "cell_type": "code",
   "execution_count": 97,
   "id": "e53b6c49",
   "metadata": {},
   "outputs": [
    {
     "name": "stdout",
     "output_type": "stream",
     "text": [
      "Changes non defective with example constant rate:\n",
      "0.5120000000000001\n",
      "Subtracting from whole number for AT LEAST 1 is defective\n",
      "0.4879999999999999\n"
     ]
    }
   ],
   "source": [
    "# 3 products from N (no replacement)\n",
    "# Consistent defect rate\n",
    "# Say if 20% defect rate, 80% success rate\n",
    "# .8^3 for none being defective\n",
    "# \n",
    "print(\"Changes non defective with example constant rate:\")\n",
    "print(0.8**3)\n",
    "print(\"Subtracting from whole number for AT LEAST 1 is defective\")\n",
    "print(1 - (0.8**3))\n",
    "\n",
    "\n",
    "\n",
    "\n",
    "#Answer: Using the constant error rate of 20% there is a 48.7% chance that one is defective. This formuala can be applied to any\n",
    "# other constant defect rate. "
   ]
  },
  {
   "cell_type": "markdown",
   "id": "5fd80874",
   "metadata": {},
   "source": [
    "(Business Strategy Choices): A business strategist is choosing potential projects to invest in, focusing on 17 high-risk, high-reward projects and 14 low-risk, steady-return projects."
   ]
  },
  {
   "cell_type": "code",
   "execution_count": 100,
   "id": "dbd3974c",
   "metadata": {},
   "outputs": [
    {
     "name": "stdout",
     "output_type": "stream",
     "text": [
      "169911\n",
      "163723\n"
     ]
    }
   ],
   "source": [
    "# 17 high risk / high reward\n",
    "# 14 low risk / steady return\n",
    "\n",
    "#Step 1: How many different combinations of 5 projects can the strategist select?\n",
    "\n",
    "## Assuming no mandatory compositions, the total number of project is 31. \n",
    "no_limit_combintations = math.comb(31, 5)\n",
    "print(no_limit_combintations)\n",
    "#Answer: 169,911 different combinations of 5 projects for a portfolio with no mandates.\n",
    "\n",
    "#Step 2: How many different combinations of 5 projects can the strategist select if they want at least one low-risk project?\n",
    "\n",
    "#with at least one low risk\n",
    "case1 = math.comb(17,4)*math.comb(14,1)\n",
    "case2 = math.comb(17,3)*math.comb(14,2)\n",
    "case3 = math.comb(17,2)*math.comb(14,3)\n",
    "case4 = math.comb(17,1)*math.comb(14,4)\n",
    "case5 = math.comb(17,0)*math.comb(14,5)\n",
    "#possiblities for combinations \n",
    "possiblities = case1+case2+case3+case4+case5\n",
    "print(possiblities)\n",
    "#Answer: When having the mandata of at least one low risk project there are 163,723 possiblities"
   ]
  },
  {
   "cell_type": "markdown",
   "id": "333210e6",
   "metadata": {},
   "source": [
    "(Event Scheduling): A business conference needs to schedule 9 different keynote sessions from three different industries: technology, finance, and healthcare. There are 4 potential technology sessions, 104 finance sessions, and 17 healthcare sessions to choose from. How many different schedules can be made? Express your answer in scientific notation rounding to the hundredths place."
   ]
  },
  {
   "cell_type": "code",
   "execution_count": 106,
   "id": "10eb423c",
   "metadata": {},
   "outputs": [
    {
     "name": "stdout",
     "output_type": "stream",
     "text": [
      "29761863254323200\n"
     ]
    }
   ],
   "source": [
    "# 9 different keynotes\n",
    "# 3 diff industries (tech, fin, health)\n",
    "# 4 tech\n",
    "# 104 fin\n",
    "# 17 health\n",
    "\n",
    "### First there are 125 total different sessions\n",
    "#### Order does matter for selection, not replaced \n",
    "## No limit combinations\n",
    "total_number_comb = math.comb(125,9)\n",
    "\n",
    "## Now take a look at the scenarios that we dont want. So all those that are not inclusive of each sector.\n",
    "no_health = math.comb(108,9)\n",
    "no_fin =  math.comb(21,9)\n",
    "no_tech =  math.comb(121,9)\n",
    "\n",
    "#Taking the total number of combinations and taking out those that dont include each sector\n",
    "abiding_combs = total_number_comb - (no_health + no_fin + no_tech)\n",
    "\n",
    "\n",
    "## Now takign the abiding combs and considering that the order matters \n",
    "answer = abiding_combs * math.factorial(9)\n",
    "print(answer)\n",
    "\n",
    "#Answer: There are a total of 2.98 e^16 different conference lineups that can take place"
   ]
  },
  {
   "cell_type": "markdown",
   "id": "a48d816f",
   "metadata": {},
   "source": [
    "(Book Selection for Corporate Training): An HR manager needs to create a reading list for a corporate leadership training program, which includes 13 books in total. The books are categorized into 6 novels, 6 business case studies, 7 leadership theory books, and 5 strategy books."
   ]
  },
  {
   "cell_type": "code",
   "execution_count": 113,
   "id": "e88c63e3",
   "metadata": {},
   "outputs": [
    {
     "name": "stdout",
     "output_type": "stream",
     "text": [
      "2420562\n",
      "31824\n"
     ]
    }
   ],
   "source": [
    "#13 books total\n",
    "# 6 novels\n",
    "# 6 bus. case studies\n",
    "# 7 leadership theory\n",
    "# 5 strategy\n",
    "\n",
    "\n",
    "#Step 1: If the manager wants to include no more than 4 strategy books, how many different reading schedules are possible? \n",
    "#Express your answer in scientific notation rounding to the hundredths place.\n",
    "\n",
    "#<= 4 strategy books; no other mandates\n",
    "# order doesnt matter\n",
    "\n",
    "## Total comb without Strategy\n",
    "total_wo_strat = 6 + 6 + 7\n",
    "#print(total_wo_strat)\n",
    "\n",
    "case0 = math.comb(total_wo_strat,13)*math.comb(5,0)\n",
    "case1 = math.comb(total_wo_strat,12)*math.comb(5,1)\n",
    "case2 = math.comb(total_wo_strat,11)*math.comb(5,2)\n",
    "case3 = math.comb(total_wo_strat,10)*math.comb(5,3)\n",
    "case4 = math.comb(total_wo_strat,9)*math.comb(5,4)\n",
    "\n",
    "total_possibilities = case0+case1+case2+case3+case4\n",
    "print(total_possibilities)\n",
    "\n",
    "#Answer: 2.42 e^6 total possibilities\n",
    "\n",
    "#Step 2: If the manager wants to include all 6 business case studies, how many different reading schedules are possible? \n",
    "#Express your answer in scientific notation rounding to the hundredths place.\n",
    "\n",
    "## All 6 case studies included no other mandates\n",
    "# order doesnt matter\n",
    "\n",
    "remaining_comb = 13 - 6\n",
    "non_casestudy = 6 + 7+ 5\n",
    "\n",
    "part2_possibilities =  math.comb(non_casestudy, remaining_comb)\n",
    "print(part2_possibilities)\n",
    "\n",
    "#Answer: 3.18e^4 Total possibilities when all case studies must be included. "
   ]
  },
  {
   "cell_type": "markdown",
   "id": "1fb292ef",
   "metadata": {},
   "source": [
    "(Product Arrangement): A retailer is arranging 10 products on a display shelf. There are 5 different electronic gadgets and 5 different accessories. What is the probability that all the gadgets are placed together and all the accessories are placed together on the shelf? Express your answer as a fraction or a decimal number rounded to four decimal places."
   ]
  },
  {
   "cell_type": "code",
   "execution_count": null,
   "id": "3c214877",
   "metadata": {},
   "outputs": [],
   "source": [
    "# 10 products displayed\n",
    "# 5 electric \n",
    "# 5 accessories \n",
    " \n",
    "## Total different permutations for all items = 10!\n",
    "total = math.factorial(10)\n",
    "\n",
    "## Possible for accessories\n",
    "accessory = math.factorial(5)\n",
    "\n",
    "## possible device \n",
    "device = math.factorial(5)\n",
    "\n",
    "# Since the order of the two groups of products matters we can do: \n",
    "total_combinations_for_order = math.factorial(2)*device*accessory\n",
    "\n",
    "## for probabilty we need percentage \n",
    "prob_ordered = round((total_combinations_for_order/total)*100,4)\n",
    "print(prob_ordered)\n",
    "\n",
    "#Answer: There are only ten total products and accessories, so all of them need to be placed on the shelf. However, \n",
    "# if the problem is asking about if accessories are placed next to each other and all products are next to each other, \n",
    "# the chances are 0.79% chance."
   ]
  },
  {
   "cell_type": "markdown",
   "id": "92cc5fdc",
   "metadata": {},
   "source": [
    "(Expected Value of a Business Deal): A company is evaluating a deal where they either gain 4 dollars for every successful contract or lose 16 dollars for every unsuccessful contract. A \"successful\" contract is defined as drawing a queen or lower from a standard deck of cards. (Aces are considered the highest card in the deck.)"
   ]
  },
  {
   "cell_type": "code",
   "execution_count": 122,
   "id": "993680f7",
   "metadata": {},
   "outputs": [
    {
     "name": "stdout",
     "output_type": "stream",
     "text": [
      "0.92\n",
      "768.9230769230768\n"
     ]
    }
   ],
   "source": [
    "# + 4 successful contract\n",
    "# - 16 unseccessful contract\n",
    "\n",
    "## Successful odds = (52-8)/52 => 44/52 chances of success\n",
    "#4 aces \n",
    "#4 kings\n",
    "\n",
    "\n",
    "#Step 1: Find the expected value of the deal. Round your answer to two decimal places. \n",
    "#Losses must be expressed as negative values.\n",
    "\n",
    "#Expected value for this would be (44/52=0.846 Success rate, 8/52 =0.154 Unsuccesful Rate)\n",
    "#This means expected cost would be:\n",
    "success = (44/52)*4 \n",
    "unsuccess = (8/52)*-16 \n",
    "expected_value = unsuccess + success\n",
    "print(round(expected_value,2))\n",
    "#Answer: $0.92 expected value per deal \n",
    "\n",
    "#Step 2: If the company enters into this deal 833 times, how much would they expect to win or lose? \n",
    "#Round your answer to two decimal places. Losses must be expressed as negative values.\n",
    "\n",
    "answer = expected_value*833\n",
    "print(round(answer,2))\n",
    "\n",
    "#Answer: $ 768.92 is the expected win from this scenario."
   ]
  },
  {
   "cell_type": "markdown",
   "id": "f9ad1551",
   "metadata": {},
   "source": [
    "### Problem 3"
   ]
  },
  {
   "cell_type": "markdown",
   "id": "d931725a",
   "metadata": {},
   "source": [
    "(Supply Chain Risk Assessment): Let X1,X2 ... Xn represent the lead times (in days) for the delivery of key components from n = 5 different suppliers. Each lead time is uniformly distributed across a range of 1 to K = 20 days, reflecting the uncertainty in delivery times. Let Y denote the minimum delivery time among all suppliers. Understanding the distribution of Y is crucial for assessing the earliest possible time you can begin production. Determine the distribution of Y to better manage your supply chain and minimize downtime."
   ]
  },
  {
   "cell_type": "code",
   "execution_count": null,
   "id": "1da65fc9",
   "metadata": {},
   "outputs": [],
   "source": []
  },
  {
   "cell_type": "markdown",
   "id": "9386e593",
   "metadata": {},
   "source": [
    "(Maintenance Planning for Critical Equipment): Your organization owns a critical piece of equipment, such as a high-capacity photocopier (for a law firm) or an MRI machine (for a healthcare provider). The manufacturer estimates the expected lifetime of this equipment to be 8 years, meaning that, on average, you expect one failure every 8 years. It's essential to understand the likelihood of failure over time to plan for maintenance and replacements."
   ]
  },
  {
   "cell_type": "code",
   "execution_count": null,
   "id": "7cceb1e9",
   "metadata": {},
   "outputs": [],
   "source": [
    "a. Geometric Model: Calculate the probability that the machine will not fail for the first 6 years. Also, provide the expected value and standard deviation. This model assumes each year the machine either fails or does not, independently of previous years.\n",
    "\n",
    "b. Exponential Model: Calculate the probability that the machine will not fail for the first 6 years. Provide the expected value and standard deviation, modeling the time to failure as a continuous process.\n",
    "\n",
    "c. Binomial Model: Calculate the probability that the machine will not fail during the first 6 years, given that it is expected to fail once every 8 years. Provide the expected value and standard deviation, assuming a fixed number of trials (years) with a constant failure probability each year.\n",
    "\n",
    "d. Poisson Model: Calculate the probability that the machine will not fail during the first 6 years, modeling the failure events as a Poisson process. Provide the expected value and standard deviation."
   ]
  },
  {
   "cell_type": "markdown",
   "id": "5e45a9e8",
   "metadata": {},
   "source": [
    "### Problem 4"
   ]
  },
  {
   "cell_type": "code",
   "execution_count": null,
   "id": "8e6570de",
   "metadata": {},
   "outputs": [],
   "source": [
    "1.  Scenario: You are managing two independent servers in a data center. The time until the next failure for each server follows an exponential distribution with different rates:\n",
    "\n",
    "Server A has a failure rate of \n",
    " failures per hour.\n",
    "Server B has a failure rate of \n",
    " failures per hour.\n",
    "Question: What is the distribution of the total time until both servers have failed at least once? Use the moment generating function (MGF) to find the distribution of the sum of the times to failure.\n",
    "\n",
    "2. Sum of Independent Normally Distributed Random Variables\n",
    "\n",
    "Scenario: An investment firm is analyzing the returns of two independent assets, Asset X and Asset Y. The returns on these assets are normally distributed:\n",
    "\n",
    "Asset X: \n",
    "Asset Y: \n",
    "Question: Find the distribution of the combined return of the portfolio consisting of these two assets using the moment generating function (MGF).\n",
    "\n",
    "3.  Scenario: A call center receives calls independently from two different regions. The number of calls received from Region A and Region B in an hour follows a Poisson distribution:\n",
    "\n",
    "Region A: \n",
    "Region B: \n",
    "Question: Determine the distribution of the total number of calls received in an hour from both regions using the moment generating function (MGF)."
   ]
  },
  {
   "cell_type": "markdown",
   "id": "88e14ee5",
   "metadata": {},
   "source": [
    "### Problem 5"
   ]
  },
  {
   "cell_type": "code",
   "execution_count": null,
   "id": "df96542b",
   "metadata": {},
   "outputs": [],
   "source": [
    "1.  Customer Retention and Churn Analysis\n",
    "\n",
    "Scenario: A telecommunications company wants to model the behavior of its customers regarding their likelihood to stay with the company (retention) or leave for a competitor (churn). The company segments its customers into three states:\n",
    "\n",
    "State 1: Active customers who are satisfied and likely to stay (Retention state).\n",
    "State 2: Customers who are considering leaving (At-risk state).\n",
    "State 3: Customers who have left (Churn state).\n",
    "The company has historical data showing the following monthly transition probabilities:\n",
    "\n",
    "From State 1 (Retention): 80% stay in State 1, 15% move to State 2, and 5% move to State 3.\n",
    "From State 2 (At-risk): 30% return to State 1, 50% stay in State 2, and 20% move to State 3.\n",
    "From State 3 (Churn): 100% stay in State 3.\n",
    "The company wants to analyze the long-term behavior of its customer base.\n",
    "\n",
    "Question: (a) Construct the transition matrix for this Markov Chain. (b) If a customer starts as satisfied (State 1), what is the probability that they will eventually churn (move to State 3)? (c) Determine the steady-state distribution of this Markov Chain. What percentage of customers can the company expect to be in each state in the long run?\n",
    "\n",
    "2: Inventory Management in a Warehouse\n",
    "Scenario: A warehouse tracks the inventory levels of a particular product using a Markov Chain model. The inventory levels are categorized into three states:\n",
    "\n",
    "State 1: High inventory (More than 100 units in stock).\n",
    "State 2: Medium inventory (Between 50 and 100 units in stock).\n",
    "State 3: Low inventory (Less than 50 units in stock).\n",
    "The warehouse has the following transition probabilities for inventory levels from one month to the next:\n",
    "\n",
    "From State 1 (High): 70% stay in State 1, 25% move to State 2, and 5% move to State 3.\n",
    "From State 2 (Medium): 20% move to State 1, 50% stay in State 2, and 30% move to State 3.\n",
    "From State 3 (Low): 10% move to State 1, 40% move to State 2, and 50% stay in State 3.\n",
    "The warehouse management wants to optimize its restocking strategy by understanding the long-term distribution of inventory levels.\n",
    "\n",
    "Question: (a) Construct the transition matrix for this Markov Chain. (b) If the warehouse starts with a high inventory level (State 1), what is the probability that it will eventually end up in a low inventory level (State 3)? (c) Determine the steady-state distribution of this Markov Chain. What is the long-term expected proportion of time that the warehouse will spend in each inventory state?"
   ]
  }
 ],
 "metadata": {
  "kernelspec": {
   "display_name": "Python 3 (ipykernel)",
   "language": "python",
   "name": "python3"
  },
  "language_info": {
   "codemirror_mode": {
    "name": "ipython",
    "version": 3
   },
   "file_extension": ".py",
   "mimetype": "text/x-python",
   "name": "python",
   "nbconvert_exporter": "python",
   "pygments_lexer": "ipython3",
   "version": "3.11.5"
  }
 },
 "nbformat": 4,
 "nbformat_minor": 5
}
