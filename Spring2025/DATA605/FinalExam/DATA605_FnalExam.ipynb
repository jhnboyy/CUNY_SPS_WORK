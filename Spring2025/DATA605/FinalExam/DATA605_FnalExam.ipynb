{
 "cells": [
  {
   "cell_type": "markdown",
   "id": "dae47016-1901-452f-b843-4505d223c92c",
   "metadata": {},
   "source": [
    "John Ferrara\n",
    "---------------"
   ]
  },
  {
   "cell_type": "markdown",
   "id": "d315bd3c-100f-4ed1-bc24-60c7c5271538",
   "metadata": {},
   "source": [
    "# Final Examination: Business Analytics and Data Science\n",
    "\n",
    "## Instructions:\n",
    "\n",
    "You are required to complete this take-home final examination by the end of the last week of class. Your solutions should be uploaded in **pdf format** as a knitted document (with graphs, content, commentary, etc. in the pdf). This project will showcase your ability to apply the concepts learned throughout the course.\n",
    "\n",
    "The dataset you will use for this examination is provided as **`retail_data.csv`**, which contains the following variables:\n",
    "\n",
    "- **Product_ID**: Unique identifier for each product.\n",
    "- **Sales**: Simulated sales numbers (in dollars).\n",
    "- **Inventory_Levels**: Inventory levels for each product.\n",
    "- **Lead_Time_Days**: The lead time in days for each product.\n",
    "- **Price**: The price of each product.\n",
    "- **Seasonality_Index**: An index representing seasonality."
   ]
  },
  {
   "cell_type": "code",
   "execution_count": 10,
   "id": "029e9fc2-1d40-40d6-b96b-d6b1f8aadb4c",
   "metadata": {},
   "outputs": [],
   "source": [
    "import pandas as pd\n",
    "import numpy as np\n",
    "import matplotlib.pyplot as plt\n",
    "import seaborn as sns\n",
    "from scipy import stats\n",
    "from scipy.stats import gamma, lognorm, norm"
   ]
  },
  {
   "cell_type": "code",
   "execution_count": 9,
   "id": "42c9c33c-c0e4-4f82-a3b2-62104010dc01",
   "metadata": {},
   "outputs": [
    {
     "name": "stdout",
     "output_type": "stream",
     "text": [
      "<class 'pandas.core.frame.DataFrame'>\n",
      "RangeIndex: 200 entries, 0 to 199\n",
      "Data columns (total 6 columns):\n",
      " #   Column             Non-Null Count  Dtype  \n",
      "---  ------             --------------  -----  \n",
      " 0   Product_ID         200 non-null    int64  \n",
      " 1   Sales              200 non-null    float64\n",
      " 2   Inventory_Levels   200 non-null    float64\n",
      " 3   Lead_Time_Days     200 non-null    float64\n",
      " 4   Price              200 non-null    float64\n",
      " 5   Seasonality_Index  200 non-null    float64\n",
      "dtypes: float64(5), int64(1)\n",
      "memory usage: 9.5 KB\n",
      "None\n",
      "---\n",
      "<class 'pandas.core.frame.DataFrame'>\n",
      "RangeIndex: 200 entries, 0 to 199\n",
      "Data columns (total 6 columns):\n",
      " #   Column             Non-Null Count  Dtype  \n",
      "---  ------             --------------  -----  \n",
      " 0   Product_ID         200 non-null    int64  \n",
      " 1   Sales              200 non-null    float64\n",
      " 2   Inventory_Levels   200 non-null    float64\n",
      " 3   Lead_Time_Days     200 non-null    float64\n",
      " 4   Price              200 non-null    float64\n",
      " 5   Seasonality_Index  200 non-null    float64\n",
      "dtypes: float64(5), int64(1)\n",
      "memory usage: 9.5 KB\n",
      "None\n",
      "---\n",
      "       Product_ID        Sales  Inventory_Levels  Lead_Time_Days       Price  \\\n",
      "count  200.000000   200.000000        200.000000      200.000000  200.000000   \n",
      "mean   100.500000   636.916210        488.547176        6.834298   19.560188   \n",
      "std     57.879185   463.499462        155.046594        2.088441    4.801571   \n",
      "min      1.000000    25.574766         67.351345        0.491042    5.053035   \n",
      "25%     50.750000   284.422355        376.506032        5.290688   16.553627   \n",
      "50%    100.500000   533.540228        483.720789        6.765407   19.976877   \n",
      "75%    150.250000   867.581045        600.420170        8.211809   22.923960   \n",
      "max    200.000000  2447.488676        858.787990       12.722273   29.404018   \n",
      "\n",
      "       Seasonality_Index  \n",
      "count         200.000000  \n",
      "mean            0.982871  \n",
      "std             0.207432  \n",
      "min             0.330490  \n",
      "25%             0.847526  \n",
      "50%             0.976211  \n",
      "75%             1.120452  \n",
      "max             1.595811  \n",
      "---\n"
     ]
    }
   ],
   "source": [
    "## Reading in the Data\n",
    "retail_df = pd.read_csv(\"synthetic_retail_data.csv\")\n",
    "print(retail_df.info())\n",
    "print('---')\n",
    "print(retail_df.info())\n",
    "print('---')\n",
    "print(retail_df.describe())\n",
    "print('---')\n",
    "# print(retail_df.head())"
   ]
  },
  {
   "cell_type": "markdown",
   "id": "47b15f78-ebd2-4f32-86cb-66d09f1b1677",
   "metadata": {},
   "source": [
    "## Problem 1: Business Risk and Revenue Modeling\n",
    "\n",
    "### Context:\n",
    "You are a data scientist working for a retail chain that models sales, inventory levels, and the impact of pricing and seasonality on revenue. Your task is to analyze various distributions that can describe sales variability and forecast potential revenue."
   ]
  },
  {
   "cell_type": "markdown",
   "id": "7e896540-5f62-4de9-bfd3-00ce612576aa",
   "metadata": {},
   "source": [
    "### Part 1: Empirical and Theoretical Analysis of Distributions (5 Points)\n",
    "\n",
    "#### Task:\n",
    "\n",
    "1. **Generate and Analyze Distributions:**\n",
    "\n",
    "   - **X ~ Sales**: Consider the `Sales` variable from the dataset. Assume it follows a **Gamma distribution** and estimate its shape and scale parameters using the `fitdistr` function from the **MASS** package.\n",
    "   - **Y ~ Inventory Levels**: Assume that the sum of inventory levels across similar products follows a **Lognormal distribution**. Estimate the parameters for this distribution.\n",
    "   - **Z ~ Lead Time**: Assume that `Lead_Time_Days` follows a **Normal distribution**. Estimate the mean and standard deviation."
   ]
  },
  {
   "cell_type": "code",
   "execution_count": 12,
   "id": "5c23dda7-eb9e-4cd8-8ae7-7155810f3697",
   "metadata": {},
   "outputs": [
    {
     "data": {
      "text/plain": [
       "0       158.439522\n",
       "1       278.990204\n",
       "2       698.858683\n",
       "3      1832.394674\n",
       "4       459.703882\n",
       "          ...     \n",
       "195     493.610495\n",
       "196     814.089770\n",
       "197     525.058515\n",
       "198     369.390301\n",
       "199    1649.189739\n",
       "Name: Sales, Length: 200, dtype: float64"
      ]
     },
     "execution_count": 12,
     "metadata": {},
     "output_type": "execute_result"
    }
   ],
   "source": [
    "## Startiong wioth X  (Sales) \n",
    "retail_df['Sales']"
   ]
  },
  {
   "cell_type": "markdown",
   "id": "00ff3af0-4696-4e15-b327-a51abdbe2fc6",
   "metadata": {},
   "source": [
    "2. **Calculate Empirical Expected Value and Variance:**\n",
    "\n",
    "   - Calculate the **empirical mean and variance** for all three variables.\n",
    "   - Compare these empirical values with the **theoretical values** derived from the estimated distribution parameters."
   ]
  },
  {
   "cell_type": "code",
   "execution_count": null,
   "id": "394155a3-afd1-47c6-8f43-e53cf6c62a10",
   "metadata": {},
   "outputs": [],
   "source": []
  },
  {
   "cell_type": "markdown",
   "id": "f158b619-06e0-45a2-ad16-e06d19359dbc",
   "metadata": {},
   "source": [
    "### Part 2: Probability Analysis and Independence Testing (5 Points)\n",
    "\n",
    "#### Task:\n",
    "\n",
    "1. **Empirical Probabilities**  \n",
    "   For the `Lead_Time_Days` variable (assumed to be normally distributed), calculate the following empirical probabilities:\n",
    "\n",
    "   - \\\\( P(Z > \\mu \\mid Z > \\mu - \\sigma) \\\\)\n",
    "   - \\\\( P(Z > \\mu + \\sigma \\mid Z > \\mu) \\\\)\n",
    "   - \\\\( P(Z > \\mu + 2\\sigma \\mid Z > \\mu) \\\\)"
   ]
  },
  {
   "cell_type": "code",
   "execution_count": null,
   "id": "eb7a0479-86a9-4110-a2b0-e0e85c6887ce",
   "metadata": {},
   "outputs": [],
   "source": []
  },
  {
   "cell_type": "markdown",
   "id": "5adc83d3-9c7d-424a-a727-0218cdf5b25d",
   "metadata": {},
   "source": [
    "2. **Correlation and Independence**  \n",
    "\n",
    "   - Investigate the **correlation** between `Sales` and `Price`.  \n",
    "     Create a **contingency table** using **quartiles** of `Sales` and `Price`, and then evaluate the **marginal** and **joint probabilities**.\n",
    "   - Use **Fisher’s Exact Test** and the **Chi-Square Test** to check for **independence** between `Sales` and `Price`.  \n",
    "     **Discuss which test is most appropriate and why.**"
   ]
  },
  {
   "cell_type": "code",
   "execution_count": null,
   "id": "8802309a-3400-4bf6-aae8-5ad2531936b9",
   "metadata": {},
   "outputs": [],
   "source": []
  },
  {
   "cell_type": "markdown",
   "id": "5aba87ca-43c4-434f-9e36-d88f62778192",
   "metadata": {},
   "source": [
    "## Problem 2: Advanced Forecasting and Optimization (Calculus) in Retail\n",
    "\n",
    "### Context:\n",
    "You are working for a large retail chain that wants to optimize pricing, inventory management, and sales forecasting using data-driven strategies. Your task is to use regression, statistical modeling, and calculus-based methods to make informed decisions."
   ]
  },
  {
   "cell_type": "markdown",
   "id": "fdfbdb84-1103-4813-84d8-a445d962e02a",
   "metadata": {},
   "source": []
  },
  {
   "cell_type": "markdown",
   "id": "a40bb540-5569-4fda-9e1b-f38ead27cfe2",
   "metadata": {},
   "source": [
    "### Part 1: Descriptive and Inferential Statistics for Inventory Data (5 Points)\n",
    "#### Task:\n",
    "\n",
    "1. **Inventory Data Analysis:**\n",
    "\n",
    "   - Generate **univariate descriptive statistics** for the `Inventory_Levels` and `Sales` variables.\n",
    "   - Create appropriate **visualizations** such as **histograms** and **scatterplots** for `Inventory_Levels`, `Sales`, and `Price`.\n",
    "   - Compute a **correlation matrix** for `Sales`, `Price`, and `Inventory_Levels`.\n",
    "   - Test the hypotheses that the **correlations between the variables are zero** and provide a **95% confidence interval**."
   ]
  },
  {
   "cell_type": "code",
   "execution_count": null,
   "id": "9f04fac2-5792-4235-8b4f-6017c769c896",
   "metadata": {},
   "outputs": [],
   "source": []
  },
  {
   "cell_type": "markdown",
   "id": "efe0dcf1-8f84-4c36-9c3a-579e5ca1fb7f",
   "metadata": {},
   "source": [
    "2. **Discussion:**\n",
    "\n",
    "   - Explain the meaning of your findings and discuss the **implications of the correlations for inventory management**.\n",
    "   - Would you be concerned about **multicollinearity** in a potential regression model? Why or why not?"
   ]
  },
  {
   "cell_type": "code",
   "execution_count": null,
   "id": "09907053-bb85-4a55-a938-a1dcabd74660",
   "metadata": {},
   "outputs": [],
   "source": []
  },
  {
   "cell_type": "markdown",
   "id": "2211b9c6-5ea3-485f-b1a1-f155a60b9d5b",
   "metadata": {},
   "source": [
    "### Part 2: Linear Algebra and Pricing Strategy (5 Points)\n",
    "\n",
    "#### Task:\n",
    "\n",
    "1. **Price Elasticity of Demand:**\n",
    "\n",
    "   - Use **linear regression** to model the relationship between `Sales` and `Price` (assuming `Sales` as the dependent variable).\n",
    "   - **Invert the correlation matrix** from your model, and calculate the **precision matrix**.\n",
    "   - Discuss the implications of the **diagonal elements of the precision matrix** (which are **variance inflation factors**).\n",
    "   - Perform **LU decomposition** on the correlation matrix and interpret the results in the context of **price elasticity**."
   ]
  },
  {
   "cell_type": "code",
   "execution_count": null,
   "id": "09439f43-17a1-4b4b-9235-1c125a9f5d3f",
   "metadata": {},
   "outputs": [],
   "source": []
  },
  {
   "cell_type": "markdown",
   "id": "3408ccfe-8ba7-4b6c-b9f3-b824d0de27e5",
   "metadata": {},
   "source": [
    "### Part 3: Calculus-Based Probability & Statistics for Sales Forecasting (5 Points)\n",
    "\n",
    "#### Task:\n",
    "\n",
    "1. **Sales Forecasting Using Exponential Distribution:**\n",
    "\n",
    "   - Identify a variable in the dataset that is skewed to the right (e.g., `Sales` or `Price`) and fit an **exponential distribution** to this data using the `fitdistr` function.\n",
    "   - Generate **1,000 samples** from the fitted exponential distribution and compare a **histogram** of these samples with the original data's histogram.\n",
    "   - Calculate the **5th and 95th percentiles** using the **cumulative distribution function (CDF)** of the exponential distribution.\n",
    "   - Compute a **95% confidence interval** for the original data assuming normality and compare it with the empirical percentiles."
   ]
  },
  {
   "cell_type": "code",
   "execution_count": null,
   "id": "67218c15-bb11-4f55-9d98-701df9b02dc1",
   "metadata": {},
   "outputs": [],
   "source": []
  },
  {
   "cell_type": "markdown",
   "id": "98c313d0-38c4-4849-b0a4-2ed18baf1cdf",
   "metadata": {},
   "source": [
    "2. **Discussion:**\n",
    "\n",
    "   - Discuss how well the exponential distribution models the data and what this implies for forecasting future sales or pricing.\n",
    "   - Consider whether a different distribution might be more appropriate."
   ]
  },
  {
   "cell_type": "code",
   "execution_count": null,
   "id": "c9e29d83-bc58-45d3-b90c-f2d138a690f9",
   "metadata": {},
   "outputs": [],
   "source": []
  },
  {
   "cell_type": "markdown",
   "id": "9f071129-5c65-4d4b-a8cf-2204cc8fd231",
   "metadata": {},
   "source": [
    "### Part 4: Regression Modeling for Inventory Optimization (10 Points)\n",
    "\n",
    "#### Task:\n",
    "\n",
    "1. **Multiple Regression Model:**\n",
    "\n",
    "   - Build a **multiple regression model** to predict `Inventory_Levels` based on `Sales`, `Lead_Time_Days`, and `Price`.\n",
    "   - Provide a **full summary** of your model, including **coefficients**, **R-squared value**, and **residual analysis**."
   ]
  },
  {
   "cell_type": "code",
   "execution_count": null,
   "id": "08d343ef-c4ec-48f8-83f2-f496253edb2d",
   "metadata": {},
   "outputs": [],
   "source": []
  },
  {
   "cell_type": "markdown",
   "id": "85fab7d7-898c-452b-89f8-7a688c01be2d",
   "metadata": {},
   "source": [
    "2. **Optimization:**\n",
    "\n",
    "   - Use your model to **optimize inventory levels** for a **peak sales season**, balancing **minimizing stockouts** with **minimizing overstock**."
   ]
  },
  {
   "cell_type": "code",
   "execution_count": null,
   "id": "bbc7a4f1-bd42-48c0-a564-c97f4a816966",
   "metadata": {},
   "outputs": [],
   "source": []
  },
  {
   "cell_type": "code",
   "execution_count": null,
   "id": "4c6ae891-14d6-4c7c-8ef3-ba33f1098ca9",
   "metadata": {},
   "outputs": [],
   "source": []
  },
  {
   "cell_type": "code",
   "execution_count": null,
   "id": "2a0e3b18-69b4-4287-a180-e76df5a4d4fb",
   "metadata": {},
   "outputs": [],
   "source": []
  }
 ],
 "metadata": {
  "kernelspec": {
   "display_name": "Python 3 (ipykernel)",
   "language": "python",
   "name": "python3"
  },
  "language_info": {
   "codemirror_mode": {
    "name": "ipython",
    "version": 3
   },
   "file_extension": ".py",
   "mimetype": "text/x-python",
   "name": "python",
   "nbconvert_exporter": "python",
   "pygments_lexer": "ipython3",
   "version": "3.12.7"
  }
 },
 "nbformat": 4,
 "nbformat_minor": 5
}
