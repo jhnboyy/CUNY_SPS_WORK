{
 "cells": [
  {
   "cell_type": "code",
   "execution_count": 1,
   "id": "ff5fa12f",
   "metadata": {},
   "outputs": [
    {
     "name": "stdout",
     "output_type": "stream",
     "text": [
      "Characteristic Polynomial: λ**2 - 7*λ + 10\n",
      "Eigenvalues: [2, 5]\n"
     ]
    }
   ],
   "source": [
    "\n",
    "import sympy as sp\n",
    "\n",
    "# Define a symbolic variable\n",
    "λ = sp.Symbol('λ')\n",
    "\n",
    "# Define a matrix\n",
    "A = sp.Matrix([[4, 2], [1, 3]])\n",
    "\n",
    "# Compute characteristic polynomial\n",
    "char_poly = A.charpoly(λ)\n",
    "\n",
    "# Display the polynomial\n",
    "print(\"Characteristic Polynomial:\", char_poly.as_expr())\n",
    "\n",
    "# Find eigenvalues (roots of the polynomial)\n",
    "eigenvalues = sp.solve(char_poly.as_expr(), λ)\n",
    "print(\"Eigenvalues:\", eigenvalues)\n"
   ]
  }
 ],
 "metadata": {
  "kernelspec": {
   "display_name": "Python 3 (ipykernel)",
   "language": "python",
   "name": "python3"
  },
  "language_info": {
   "codemirror_mode": {
    "name": "ipython",
    "version": 3
   },
   "file_extension": ".py",
   "mimetype": "text/x-python",
   "name": "python",
   "nbconvert_exporter": "python",
   "pygments_lexer": "ipython3",
   "version": "3.11.5"
  }
 },
 "nbformat": 4,
 "nbformat_minor": 5
}
