{
 "cells": [
  {
   "cell_type": "code",
   "execution_count": null,
   "id": "577bafb4",
   "metadata": {},
   "outputs": [],
   "source": [
    "# Questions 8 & 9 ; Chapter 11\n",
    "''' #8\n",
    "A certain calculating machine uses only the digits 0 and 1. It is supposed to\n",
    "transmit one of these digits through several stages. However, at every stage,\n",
    "there is a probability p that the digit that enters this stage will be changed\n",
    "when it leaves and a probability q = 1−p that it won’t. Form a Markov chain\n",
    "to represent the process of transmission by taking as states the digits 0 and 1.\n",
    "What is the matrix of transition probabilities?\n",
    "'''\n",
    "\n",
    "''' #9\n",
    " For the Markov chain in Exercise 8, draw a tree and assign a tree measure\n",
    "assuming that the process begins in state 0 and moves through two stages\n",
    "of transmission. What is the probability that the machine, after two stages,\n",
    "produces the digit 0 (i.e., the correct digit)? What is the probability that the\n",
    "machine never changed the digit from 0? Now let p = .1. Using the program\n",
    "MatrixPowers, compute the 100th power of the transition matrix. Interpret\n",
    "the entries of this matrix. Repeat this with p = .2. Why do the 100th powers\n",
    "appear to be the same?\n",
    "'''"
   ]
  },
  {
   "cell_type": "code",
   "execution_count": null,
   "id": "c21a94b7",
   "metadata": {},
   "outputs": [],
   "source": []
  },
  {
   "cell_type": "code",
   "execution_count": 11,
   "id": "e3e5f526",
   "metadata": {},
   "outputs": [
    {
     "name": "stdout",
     "output_type": "stream",
     "text": [
      "[[0.9 0.1]\n",
      " [0.1 0.9]]\n",
      "---------\n",
      "0.729\n",
      "---------\n",
      "[[0.5 0.5]\n",
      " [0.5 0.5]]\n",
      "---------\n",
      "[[0.8 0.2]\n",
      " [0.2 0.8]]\n",
      "0.512\n",
      "---------\n",
      "[[0.5 0.5]\n",
      " [0.5 0.5]]\n",
      "---------\n"
     ]
    }
   ],
   "source": [
    "import numpy as np\n",
    "## Notes:\n",
    "## Generates 1 or 0\n",
    "## Digits transmit several stages, w/ prob. of digit changing.\n",
    "## Prob q= 1-p; no change\n",
    "\n",
    "## States are State 0 or State 1\n",
    "states = [0,1]\n",
    "\n",
    "## Starting as 0, there is prob p that changes to 1, with prob q=1-p that it stays 0\n",
    "## Starting as 1, there is prob p that changes to 0, with prob q=1-p that it stays 1\n",
    "\n",
    "                    # 0, 1\n",
    "# matrix = np.array([[ 1-p, p ], # 0\n",
    "#                    [ p,  1-p]] # 1\n",
    "#                  )\n",
    "\n",
    "## Decision tree => Starts State 0\n",
    "#       0            #Starting Stage \n",
    "#    0      1        #Stage1\n",
    "# 0    1  0    1\n",
    "#What is the probability that the machine never changed the digit from 0? Now let p = .1.\n",
    "matrix_point1= np.array([[1-0.1, 0.1 ],[ 0.1,  1-0.1]])\n",
    "print(matrix_point1)\n",
    "print('---------')\n",
    "## If the number never changes, this means that meand 0 -> 0 -> 0\n",
    "## Which has the probability of 0.9*0.9*0.9\n",
    "print(round(0.9*0.9*0.9,4))\n",
    "print('---------')\n",
    "## Using Matrix Power in order to execute 100 times.\n",
    "p1_100 = np.linalg.matrix_power(matrix_point1, 100)\n",
    "print(p1_100)\n",
    "print('---------')\n",
    "#Repeat this with p = .2.\n",
    "matrix_point2= np.array([[1-0.2, 0.2 ],[ 0.2,  1-0.2]])\n",
    "print(matrix_point2)\n",
    "print(round(0.8*0.8*0.8,4))\n",
    "print('---------')\n",
    "## Using Matrix Power in order to execute 100 times.\n",
    "p2_100 = np.linalg.matrix_power(matrix_point2, 100)\n",
    "print(p2_100)\n",
    "print('---------')\n",
    "# The 100 power tests are the same because of the large numbers law, that after a large amount of executions the probabilites\n",
    "# level out and stabilize with similar probabilites."
   ]
  }
 ],
 "metadata": {
  "kernelspec": {
   "display_name": "Python 3 (ipykernel)",
   "language": "python",
   "name": "python3"
  },
  "language_info": {
   "codemirror_mode": {
    "name": "ipython",
    "version": 3
   },
   "file_extension": ".py",
   "mimetype": "text/x-python",
   "name": "python",
   "nbconvert_exporter": "python",
   "pygments_lexer": "ipython3",
   "version": "3.11.5"
  }
 },
 "nbformat": 4,
 "nbformat_minor": 5
}
