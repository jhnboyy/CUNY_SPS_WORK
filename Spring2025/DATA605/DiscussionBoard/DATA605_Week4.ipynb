{
 "cells": [
  {
   "cell_type": "code",
   "execution_count": 2,
   "id": "16a29751",
   "metadata": {},
   "outputs": [
    {
     "data": {
      "image/png": "[encoded data removed]",
      "text/plain": [
       "<Figure size 600x600 with 1 Axes>"
      ]
     },
     "metadata": {},
     "output_type": "display_data"
    }
   ],
   "source": [
    "import numpy as np\n",
    "import matplotlib.pyplot as plt\n",
    "\n",
    "# Define the transformation matrix and vector\n",
    "A = np.array([[2, 1], [1, -1]])\n",
    "v = np.array([3, 4])\n",
    "\n",
    "# Apply the transformation\n",
    "v_transformed = A @ v\n",
    "\n",
    "# Plot the original and transformed vectors\n",
    "plt.figure(figsize=(6, 6))\n",
    "plt.quiver(0, 0, v[0], v[1], angles='xy', scale_units='xy', scale=1, color='blue', label='Original Vector')\n",
    "plt.quiver(0, 0, v_transformed[0], v_transformed[1], angles='xy', scale_units='xy', scale=1, color='red', label='Transformed Vector')\n",
    "\n",
    "# Set plot limits and labels\n",
    "plt.xlim(-15, 15)\n",
    "plt.ylim(-15, 15)\n",
    "plt.axhline(0, color='black', linewidth=0.5)\n",
    "plt.axvline(0, color='black', linewidth=0.5)\n",
    "plt.grid()\n",
    "plt.legend()\n",
    "plt.title('Linear Transformation Visualization')\n",
    "plt.show()"
   ]
  },
  {
   "cell_type": "code",
   "execution_count": null,
   "id": "2bb3e446",
   "metadata": {},
   "outputs": [],
   "source": []
  },
  {
   "cell_type": "code",
   "execution_count": null,
   "id": "44ee073f",
   "metadata": {},
   "outputs": [],
   "source": [
    "### Attemping Discussion Question Week 4 (MR C.52)\n",
    "\n",
    "# Ok, so we need to find the basis for the kernel. Kernel is where the system of equations equals zero. Lets rewrite.\n",
    "\n",
    "|a + 2b - 2c ,  2a + 2b|   | 0, 0|\n",
    "|                      | = |     |\n",
    "|-a + b -4c,  3a+2b+2c |   | 0, 0|\n",
    "\n",
    "# Or \n",
    "\n",
    "a + 2b - 2c =0\n",
    "2a + 2b = 0\n",
    "-a + b -4c = 0\n",
    "3a+2b+2c = 0\n",
    "\n",
    "# Solving for a, b, c \n",
    "\n",
    "#Starting with second equation b/c looks easy\n",
    "2a + 2b = 0 ==> 2a = -2b ==> a = -b\n",
    "\n",
    "# Plugging this result into others\n",
    "-a + b - 4c = 0 ==> -(-b)+b-4c = 0 ==> 2b-4c = 0 ==> 2b = 4c ==> b = 2c ==> c = b/2\n",
    "\n",
    "# Overall\n",
    "a = -b\n",
    "b = b\n",
    "c = b/2\n",
    "\n",
    "#which yields as the basis for the kernel\n",
    "[a,b,c] => b[-1,1,0.5]\n",
    "\n",
    "#For Whole numbers \n",
    "b[-2,2,1]\n",
    "\n",
    "### Now attempting to solve the same problem with Martix represenation\n",
    "\n",
    "          |a + 2b - 2c ,  2a + 2b|    | 1, 2, -2|\n",
    "          |                      | => | 2, 2,  0|\n",
    "          |-a + b -4c,  3a+2b+2c |    | -1,1, -4|\n",
    "                                      |3 , 2, 2 |\n",
    "                \n",
    "### Now we want to reduce this matrixs\n",
    "\n",
    " | 1, 2, -2|      # Row 2 \n",
    " | 2, 2,  0|  ==>   2, 2, 0 - 2(1,2,-2) ==> 0 , -2, 4\n",
    " | -1,1, -4|      #Row 3\n",
    " |3 , 2, 2 |      -1, 1, -4 + 1,2,-2 ==> 0, 3, -6\n",
    "                   # Row 4 \n",
    "                    3,2,2 - 3(1,2,-2) ==> 0,-4,8\n",
    "# This yeilds:\n",
    "| 1, 2, -2|         | 1, 2, -2 |      | 1, 2, -2           |      | 1, 2, -2 |\n",
    "| 0, -2, 4|    == > |0,-2,4 / -2| ==> | 0, 1, -2           |      |0, 1, -2 |\n",
    "| 0 , 3, -6|        |0,3,-6 |         | 0, 3,-6 - 3(0,1,-2)|  ==> |0,0,0    |\n",
    "| 0, -4, 8|         |0, -4, 8|        | 0, -4, 8 +4(0,1,-2)|       |0,0,0   |\n",
    "\n",
    "## The third variable is free, so back to polynomial work. Express dep vars as c.\n",
    "a = -(2c)\n",
    "2c = b\n",
    "\n",
    "# so  -2,2,1\n",
    "\n",
    "### Pivoting to show via code \n",
    "import sympy as sp\n",
    "\n",
    "### Using the Matrix from above\n",
    "mtx = sp.Matrix([[1, 2, -2],[2, 2,  0],[-1, 1, -4],[3, 2,  2]])\n",
    "print(mtx.nullspace())"
   ]
  },
  {
   "cell_type": "code",
   "execution_count": 4,
   "id": "30989eb7",
   "metadata": {},
   "outputs": [
    {
     "name": "stdout",
     "output_type": "stream",
     "text": [
      "[Matrix([\n",
      "[-2],\n",
      "[ 2],\n",
      "[ 1]])]\n"
     ]
    }
   ],
   "source": []
  },
  {
   "cell_type": "code",
   "execution_count": 3,
   "id": "cd2da888",
   "metadata": {},
   "outputs": [
    {
     "name": "stdout",
     "output_type": "stream",
     "text": [
      "Basis for the Null Space:\n",
      "⎡-2⎤\n",
      "⎢  ⎥\n",
      "⎢2 ⎥\n",
      "⎢  ⎥\n",
      "⎣1 ⎦\n"
     ]
    }
   ],
   "source": [
    "## \n",
    "import sympy as sp\n",
    "\n",
    "# Define the matrix M\n",
    "M = sp.Matrix([\n",
    "    [1, 2, -2],\n",
    "    [2, 2,  0],\n",
    "    [-1, 1, -4],\n",
    "    [3, 2,  2]\n",
    "])\n",
    "\n",
    "# Compute the null space (kernel)\n",
    "null_space = M.nullspace()\n",
    "\n",
    "# Display the basis for the null space\n",
    "print(\"Basis for the Null Space:\")\n",
    "for vec in null_space:\n",
    "    sp.pprint(vec)\n"
   ]
  },
  {
   "cell_type": "code",
   "execution_count": null,
   "id": "37e87063",
   "metadata": {},
   "outputs": [],
   "source": []
  }
 ],
 "metadata": {
  "kernelspec": {
   "display_name": "Python 3 (ipykernel)",
   "language": "python",
   "name": "python3"
  },
  "language_info": {
   "codemirror_mode": {
    "name": "ipython",
    "version": 3
   },
   "file_extension": ".py",
   "mimetype": "text/x-python",
   "name": "python",
   "nbconvert_exporter": "python",
   "pygments_lexer": "ipython3",
   "version": "3.11.5"
  }
 },
 "nbformat": 4,
 "nbformat_minor": 5
}
