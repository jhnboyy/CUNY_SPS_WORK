{
 "cells": [
  {
   "cell_type": "code",
   "execution_count": 2,
   "id": "53912aa8",
   "metadata": {},
   "outputs": [],
   "source": [
    "import numpy as np\n",
    "import sympy as sp\n",
    "import matplotlib.pyplot as plt"
   ]
  },
  {
   "cell_type": "code",
   "execution_count": 4,
   "id": "9acc2d74",
   "metadata": {},
   "outputs": [
    {
     "name": "stdout",
     "output_type": "stream",
     "text": [
      "[['1' '2' '1']\n",
      " ['2' '0' '1']\n",
      " ['2' '3' 'k']]\n"
     ]
    }
   ],
   "source": [
    "#For my Problem i selected Exercise DM.M11\n",
    "<IMAGE>\n",
    "## Starting by writing it out \n",
    "k = 'k'\n",
    "A = np.array([[1, 2, 1],\n",
    "            [2, 0, 1],\n",
    "            [2, 3, k]])\n",
    "print(A)"
   ]
  },
  {
   "cell_type": "code",
   "execution_count": null,
   "id": "1b11fb1b",
   "metadata": {},
   "outputs": [],
   "source": [
    "# im selecting the second column to use because it has a zero so its less \"work\"\n",
    "#This yeilds: \n",
    "    det(a) = 2[[2,1],[2,k]] + 0[[2,1],[1,k]] - 3[[1,1],[2,1]]\n",
    "#This the negative for the \"3\" has to do with the sum of the two coordinates of the number in the matrix (i+j).\n",
    "# We can ignore the middle part, as there is a zero. \n",
    "#This yeilds:\n",
    "    det(a) = 2[[2,1],\n",
    "               [2,k]] \n",
    "            - 3[[1,1],\n",
    "                [2,1]]\n",
    "    det(a) = 2((2*1)-2k) - 3((1*1)-(2*1))\n",
    "    det(a) = 2(2-2k) - 3(1-2)\n",
    "    det(a) = 4-4k - 3(-1)\n",
    "    det(a) = 4- 4k - (-3)\n",
    "#     Replacing det(A) with zero as per the question\n",
    "    0 = 4 - 4k + 3\n",
    "    -3 = 4 - 4k\n",
    "    4k = 7\n",
    "    k = 7/4\n",
    "    # k Must equal 7/4 if the determinant is zero. \n",
    "\n",
    "\n",
    "\n",
    "\n"
   ]
  },
  {
   "cell_type": "code",
   "execution_count": null,
   "id": "d562e62c",
   "metadata": {},
   "outputs": [],
   "source": []
  }
 ],
 "metadata": {
  "kernelspec": {
   "display_name": "Python 3 (ipykernel)",
   "language": "python",
   "name": "python3"
  },
  "language_info": {
   "codemirror_mode": {
    "name": "ipython",
    "version": 3
   },
   "file_extension": ".py",
   "mimetype": "text/x-python",
   "name": "python",
   "nbconvert_exporter": "python",
   "pygments_lexer": "ipython3",
   "version": "3.11.5"
  }
 },
 "nbformat": 4,
 "nbformat_minor": 5
}
