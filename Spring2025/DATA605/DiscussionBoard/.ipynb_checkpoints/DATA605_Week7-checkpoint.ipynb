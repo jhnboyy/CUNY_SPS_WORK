{
 "cells": [
  {
   "cell_type": "code",
   "execution_count": 1,
   "id": "157c4c53",
   "metadata": {},
   "outputs": [],
   "source": []
  },
  {
   "cell_type": "code",
   "execution_count": 2,
   "id": "333a3ff4",
   "metadata": {},
   "outputs": [],
   "source": [
    "lambda_ = 1/30 \n",
    "start_observe_minutes = 3*60 \n",
    "time = 0 "
   ]
  },
  {
   "cell_type": "code",
   "execution_count": null,
   "id": "cede048c",
   "metadata": {},
   "outputs": [],
   "source": [
    "#Simulating occurances with poisson.\n",
    "for i in range(1,100):\n",
    "    if time < start_observe_minutes:\n",
    "    # Executie occurances at avg rate\n",
    "    np.random.exponential(30)"
   ]
  },
  {
   "cell_type": "code",
   "execution_count": 24,
   "id": "ab986211",
   "metadata": {},
   "outputs": [
    {
     "name": "stdout",
     "output_type": "stream",
     "text": [
      "The estimated amount of time we would expect to wait for an occurance after 3 hours, would be 30.55 minutes\n"
     ]
    }
   ],
   "source": [
    "import numpy as np\n",
    "\n",
    "lambda_ = 1/30 \n",
    "avg_rate_occur = 30\n",
    "start_observe_minutes = 3*60 \n",
    "time = 0 \n",
    "\n",
    "#Simulating occurances with poisson.\n",
    "T_values = []\n",
    "for i in range(1,100):\n",
    "    if time < start_observe_minutes:\n",
    "    # Execute occurances at avg rate using numpy exponential dist. function. \n",
    "    #however this doesnt actually matter because of the memoryless property idea mentioned in chapter 5\n",
    "        time = time + np.random.exponential(30)\n",
    "    else: \n",
    "    ## Start observing after 3 hours(180 min)\n",
    "        T = np.random.exponential(30)\n",
    "        T_values.append(T)\n",
    "        \n",
    "## For this dist with Numpy how many \n",
    "estimate_wait_time = np.mean(T_values)\n",
    "print(f\"The estimated amount of time we would expect to wait for an occurance after 3 hours, would be {round(estimate_wait_time,2)} minutes\")"
   ]
  },
  {
   "cell_type": "code",
   "execution_count": 10,
   "id": "ef1281de",
   "metadata": {},
   "outputs": [
    {
     "data": {
      "text/plain": [
       "[79.8332967808513,\n",
       " 107.19511798895171,\n",
       " 21.296239876738067,\n",
       " 23.29175600798136,\n",
       " 17.68600870137795,\n",
       " 0.16527793386327283,\n",
       " 6.8387343966153376,\n",
       " 2.216683896855777,\n",
       " 24.062757134718154,\n",
       " 12.107585735073146,\n",
       " 15.508627418471315,\n",
       " 10.84326129211785,\n",
       " 134.59163477123155,\n",
       " 92.48700569974943,\n",
       " 42.86510707762329,\n",
       " 19.557188998774027,\n",
       " 106.38312149684192,\n",
       " 32.04677226258855,\n",
       " 32.76293852641103,\n",
       " 0.20532327579663487,\n",
       " 50.41495245655575,\n",
       " 36.86024473546277,\n",
       " 1.9004557340044756,\n",
       " 15.79853701980103,\n",
       " 12.134557119994614,\n",
       " 0.8391395858053324,\n",
       " 0.06443160835950522,\n",
       " 8.932994502441428,\n",
       " 45.434351852021926,\n",
       " 66.05248803769881,\n",
       " 8.04272710145121,\n",
       " 2.4156662692483293,\n",
       " 36.10069175865174,\n",
       " 83.01070601478781,\n",
       " 9.74890378032689,\n",
       " 86.86987028236418,\n",
       " 11.762193618888276,\n",
       " 15.276416201863157,\n",
       " 72.23200523648646,\n",
       " 141.0882981665916,\n",
       " 21.784500177691807,\n",
       " 25.87038930058169,\n",
       " 23.012455308234593,\n",
       " 14.358694871434196,\n",
       " 5.4256741962058035,\n",
       " 10.381000217595538,\n",
       " 20.778065228336267,\n",
       " 11.29703496114823,\n",
       " 32.32080781006416,\n",
       " 6.473442527106056,\n",
       " 1.6034096630985017,\n",
       " 6.69612914960683,\n",
       " 24.244886304263115,\n",
       " 3.498466692893514,\n",
       " 31.677585764595616,\n",
       " 64.83436119737037,\n",
       " 22.314594306673804,\n",
       " 39.647048624260314,\n",
       " 21.805722719580313,\n",
       " 43.05483280113173,\n",
       " 3.3019265225380288,\n",
       " 0.1625887328591738,\n",
       " 34.26212682417252,\n",
       " 0.6098071121290654,\n",
       " 4.150540511725576,\n",
       " 24.280942653651177,\n",
       " 4.448089072173891,\n",
       " 17.418125328159846,\n",
       " 17.192647111496928,\n",
       " 2.090517375017759,\n",
       " 56.693026157110445,\n",
       " 20.969649293808164,\n",
       " 12.467133826488233,\n",
       " 0.655789608439264,\n",
       " 108.82498281515588,\n",
       " 35.98688813479456,\n",
       " 40.52541993879075,\n",
       " 43.342537175119716,\n",
       " 16.29878370076605,\n",
       " 58.365146498785826,\n",
       " 28.845314716156587,\n",
       " 3.9218081531318094,\n",
       " 27.742923040733107,\n",
       " 31.733910331736322,\n",
       " 12.35852997604782,\n",
       " 12.710462447373875,\n",
       " 76.96023783540855,\n",
       " 34.5502063566475,\n",
       " 2.969327727980573,\n",
       " 7.362935939181208,\n",
       " 13.751384200383114]"
      ]
     },
     "execution_count": 10,
     "metadata": {},
     "output_type": "execute_result"
    }
   ],
   "source": []
  }
 ],
 "metadata": {
  "kernelspec": {
   "display_name": "Python 3 (ipykernel)",
   "language": "python",
   "name": "python3"
  },
  "language_info": {
   "codemirror_mode": {
    "name": "ipython",
    "version": 3
   },
   "file_extension": ".py",
   "mimetype": "text/x-python",
   "name": "python",
   "nbconvert_exporter": "python",
   "pygments_lexer": "ipython3",
   "version": "3.11.5"
  }
 },
 "nbformat": 4,
 "nbformat_minor": 5
}
