{
 "cells": [
  {
   "cell_type": "code",
   "execution_count": null,
   "id": "e1f7ba3c",
   "metadata": {},
   "outputs": [],
   "source": [
    "### Working on Problem Number 13 in Chapter 3's Exercises\n",
    "\n",
    "#### 15) A baseball player, Smith, has a batting average of .300 and in a typical game\n",
    "#### comes to bat three times. Assume that Smith’s hits in a game can be considered to be a Bernoulli trials process with probability .3 for success. Find the\n",
    "#### probability that Smith gets 0, 1, 2, and 3 hits"
   ]
  },
  {
   "cell_type": "code",
   "execution_count": 8,
   "id": "740d0928",
   "metadata": {},
   "outputs": [
    {
     "ename": "IndentationError",
     "evalue": "unindent does not match any outer indentation level (<tokenize>, line 14)",
     "output_type": "error",
     "traceback": [
      "\u001b[1;36m  File \u001b[1;32m<tokenize>:14\u001b[1;36m\u001b[0m\n\u001b[1;33m    Hit(0.3) <\u001b[0m\n\u001b[1;37m    ^\u001b[0m\n\u001b[1;31mIndentationError\u001b[0m\u001b[1;31m:\u001b[0m unindent does not match any outer indentation level\n"
     ]
    }
   ],
   "source": [
    "### DEFININING VARS\n",
    "#Probability of success is .300\n",
    "p = .3\n",
    "#Which means q is prob of failure:\n",
    "q = 1-p\n",
    "q = .7\n",
    "#Goes to Bat 3 times in a typical game\n",
    "n = 3\n",
    "\n",
    "## Calculate the probability of: \n",
    "### Using tree diagrams for illustrative purposes:\n",
    "\n",
    "                    Hit(0.3)\n",
    "          Hit(0.3) <\n",
    "                    Miss(0.7)\n",
    "Hit(0.3)  <\n",
    "                    Hit(0.3)\n",
    "           Miss(0.7) <\n",
    "                       Miss(0.7)   \n",
    "                       Hit(0.3)\n",
    "           Hit(0.3) < \n",
    "                       Miss (0.7)       \n",
    "Miss(0.7) <         \n",
    "                       Hit(0.3)\n",
    "        Miss(0.7) < \n",
    "                       Miss(0.7)\n",
    "            \n",
    "\n",
    "### Using formulas:\n",
    "#0 Successes / hits\n",
    "Formula -> b(3,0.3,0) -> 0.7**3 -> 0.7**3 -> 0.34299 -> 34.29%\n",
    "#1 Successes / hits\n",
    "Formula -> b(3,0.3,1) -> 3*0.3*(0.7**2) -> 0.4409 -> 44.09%\n",
    "#2 Successes / hits\n",
    "Formula -> b(3,0.3,2) -> 3*(0.3**2)*(0.7) -> 0.189 -> 18.9%\n",
    "#3 Successes / hits\n",
    "Formula -> b(3,0.3,3) -> 3*(0.3**3) ->  0.08099999999999999 -> 8.09%"
   ]
  },
  {
   "cell_type": "code",
   "execution_count": 6,
   "id": "3e781960",
   "metadata": {},
   "outputs": [
    {
     "data": {
      "text/plain": [
       "0.3429999999999999"
      ]
     },
     "execution_count": 6,
     "metadata": {},
     "output_type": "execute_result"
    }
   ],
   "source": [
    "0.7**3"
   ]
  }
 ],
 "metadata": {
  "kernelspec": {
   "display_name": "Python 3 (ipykernel)",
   "language": "python",
   "name": "python3"
  },
  "language_info": {
   "codemirror_mode": {
    "name": "ipython",
    "version": 3
   },
   "file_extension": ".py",
   "mimetype": "text/x-python",
   "name": "python",
   "nbconvert_exporter": "python",
   "pygments_lexer": "ipython3",
   "version": "3.11.5"
  }
 },
 "nbformat": 4,
 "nbformat_minor": 5
}
