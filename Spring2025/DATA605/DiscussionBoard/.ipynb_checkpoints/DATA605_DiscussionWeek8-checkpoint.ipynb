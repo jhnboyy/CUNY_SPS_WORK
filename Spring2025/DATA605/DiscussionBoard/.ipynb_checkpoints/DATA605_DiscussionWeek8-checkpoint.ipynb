{
 "cells": [
  {
   "cell_type": "code",
   "execution_count": null,
   "id": "fd55f0dc",
   "metadata": {},
   "outputs": [],
   "source": [
    "# import math\n",
    "\n",
    "## QUESTION NUMBER 3; Chapter 8\n",
    "\n",
    "# Write a program to toss a coin 10,000 times. Let Sn be the number of heads\n",
    "# in the first n tosses. Have your program print out, after every 1000 tosses,\n",
    "# Sn − n/2. On the basis of this simulation, is it correct to say that you can\n",
    "# expect heads about half of the time when you toss a coin a large number of\n",
    "# times?"
   ]
  },
  {
   "cell_type": "code",
   "execution_count": null,
   "id": "0c840697",
   "metadata": {},
   "outputs": [],
   "source": [
    "Sn = Sn−1 + Xn \n",
    "\n",
    "# Let n be the sum of independent random variables\n",
    "# 10,000 Trails, so X1, through X 10,000\n",
    "# S10,000 = SUM(X1,X2...X10,000)\n",
    "\n",
    "#So m = (Heads Tails\n",
    "#          0.5   0.5)\n",
    "\n",
    "#For 2 flips\n",
    "#S2 = m(heads)*m(heads)\n",
    "#S2 = 0.5*0.5\n",
    "#s2 = 0.25\n",
    "\n",
    "## Moving on to distribution work, for beyond 2. The convolution of S3 and beyond would be the convolution of the previous.\n",
    "P(s3=H) = S2*P(X3=H)\n",
    "P = "
   ]
  },
  {
   "cell_type": "code",
   "execution_count": 4,
   "id": "f07a330c",
   "metadata": {},
   "outputs": [],
   "source": []
  },
  {
   "cell_type": "code",
   "execution_count": 14,
   "id": "a17100bb",
   "metadata": {},
   "outputs": [
    {
     "data": {
      "text/plain": [
       "'tails'"
      ]
     },
     "execution_count": 14,
     "metadata": {},
     "output_type": "execute_result"
    }
   ],
   "source": []
  },
  {
   "cell_type": "code",
   "execution_count": 37,
   "id": "2d54e4df",
   "metadata": {},
   "outputs": [
    {
     "name": "stdout",
     "output_type": "stream",
     "text": [
      "As of toss number 1000, there have been 494 heads (Sn).\n",
      "Difference from perfect half (500) of 1000 outcomes is: -6.\n",
      "This is 6, or 1.2% under expected half.\n",
      "As of toss number 2000, there have been 977 heads (Sn).\n",
      "Difference from perfect half (1000) of 2000 outcomes is: -23.\n",
      "This is 23, or 2.3% under expected half.\n",
      "As of toss number 3000, there have been 1464 heads (Sn).\n",
      "Difference from perfect half (1500) of 3000 outcomes is: -36.\n",
      "This is 36, or 2.4% under expected half.\n",
      "As of toss number 4000, there have been 1957 heads (Sn).\n",
      "Difference from perfect half (2000) of 4000 outcomes is: -43.\n",
      "This is 43, or 2.15% under expected half.\n",
      "As of toss number 5000, there have been 2440 heads (Sn).\n",
      "Difference from perfect half (2500) of 5000 outcomes is: -60.\n",
      "This is 60, or 2.4% under expected half.\n",
      "As of toss number 6000, there have been 2950 heads (Sn).\n",
      "Difference from perfect half (3000) of 6000 outcomes is: -50.\n",
      "This is 50, or 1.67% under expected half.\n",
      "As of toss number 7000, there have been 3476 heads (Sn).\n",
      "Difference from perfect half (3500) of 7000 outcomes is: -24.\n",
      "This is 24, or 0.69% under expected half.\n",
      "As of toss number 8000, there have been 3958 heads (Sn).\n",
      "Difference from perfect half (4000) of 8000 outcomes is: -42.\n",
      "This is 42, or 1.05% under expected half.\n",
      "As of toss number 9000, there have been 4440 heads (Sn).\n",
      "Difference from perfect half (4500) of 9000 outcomes is: -60.\n",
      "This is 60, or 1.33% under expected half.\n",
      "As of toss number 10000, there have been 4944 heads (Sn).\n",
      "Difference from perfect half (5000) of 10000 outcomes is: -56.\n",
      "This is 56, or 1.12% under expected half.\n"
     ]
    }
   ],
   "source": [
    "import random\n",
    "\n",
    "results = {}\n",
    "head_count = 0\n",
    "prob_dict={\"heads\":0.5,\"tails\":0.5}\n",
    "for toss in range(1,10001):\n",
    "    possible_outcomes = [\"heads\",\"tails\"]\n",
    "    trial_outcome = random.choice(possible_outcomes)\n",
    "    trial_prob = prob_dict[trial_outcome]\n",
    "    if trial_outcome == 'heads':\n",
    "        head_count = head_count + 1\n",
    "    ## printing info every 1000\n",
    "    if toss % 1000 == 0 :\n",
    "        print(f\"As of toss number {toss}, there have been {head_count} heads (Sn).\")\n",
    "        diff = int(head_count - (toss/2))\n",
    "        print(f\"Difference from perfect half ({int(toss/2)}) of {toss} outcomes is: {diff}.\")\n",
    "        if diff<0:\n",
    "            print(f\"This is {abs(diff)}, or {round((abs(diff)/(toss/2))*100,2)}% under expected half.\")\n",
    "        else:\n",
    "            print(f\"This is {abs(diff)}, or {round((abs(diff)/(toss/2))*100,2)}% over expected half.\")\n",
    "    \n",
    "    "
   ]
  },
  {
   "cell_type": "code",
   "execution_count": null,
   "id": "3eebb882",
   "metadata": {},
   "outputs": [],
   "source": [
    "### Yes it has accurate to say that if one flips a fair coin, that heads will appear roughly half the number of times. The numbers, while they always vary slightly, hover around half of all flips.\n"
   ]
  },
  {
   "cell_type": "code",
   "execution_count": null,
   "id": "b1c256c6",
   "metadata": {},
   "outputs": [],
   "source": []
  }
 ],
 "metadata": {
  "kernelspec": {
   "display_name": "Python 3 (ipykernel)",
   "language": "python",
   "name": "python3"
  },
  "language_info": {
   "codemirror_mode": {
    "name": "ipython",
    "version": 3
   },
   "file_extension": ".py",
   "mimetype": "text/x-python",
   "name": "python",
   "nbconvert_exporter": "python",
   "pygments_lexer": "ipython3",
   "version": "3.11.5"
  }
 },
 "nbformat": 4,
 "nbformat_minor": 5
}
