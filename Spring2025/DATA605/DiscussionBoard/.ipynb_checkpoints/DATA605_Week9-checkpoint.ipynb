{
 "cells": [
  {
   "cell_type": "code",
   "execution_count": 1,
   "id": "b0ecb991",
   "metadata": {},
   "outputs": [],
   "source": [
    "import math\n",
    "\n",
    "def standard_error(sigma_squared, n):\n",
    "    sigma = math.sqrt(sigma_squared)\n",
    "    return sigma / math.sqrt(n)\n"
   ]
  },
  {
   "cell_type": "code",
   "execution_count": 2,
   "id": "c6ff8979",
   "metadata": {},
   "outputs": [
    {
     "data": {
      "text/plain": [
       "1.5811388300841898"
      ]
     },
     "execution_count": 2,
     "metadata": {},
     "output_type": "execute_result"
    }
   ],
   "source": [
    "standard_error(10, 4)"
   ]
  },
  {
   "cell_type": "code",
   "execution_count": null,
   "id": "c360ea6e",
   "metadata": {},
   "outputs": [],
   "source": []
  },
  {
   "cell_type": "code",
   "execution_count": null,
   "id": "47e5e43d",
   "metadata": {},
   "outputs": [],
   "source": [
    "## What the problem tells us\n",
    "- Known Height ~ 1000 ft\n",
    "- measurements mean = 0\n",
    "- measurements variance (sigma2) = 10\n",
    "n = number of measurements (need to find)\n",
    "95% certain -> -2 sigma and  + 2 sigma from mean\n",
    "sigma = sqrt(10)\n",
    "std_error = sigma / sqrt(n)\n",
    "var of avg. = 10 / n"
   ]
  },
  {
   "cell_type": "code",
   "execution_count": null,
   "id": "4ec38d7b",
   "metadata": {},
   "outputs": [],
   "source": [
    "\n",
    "\n",
    "# Start with the formula\n",
    "P(|X- mean|>=k*sigma )<=1/k^2\n",
    "P(|X- mean|>=ϵ )<=sigma^2/(k^2 * sigma^2)\n",
    "P(|X- mean|>=1 )<=10/(k^2 * 10)\n",
    "# 95% certain means, 5% that its outside of 1 ft accuracy.\n",
    "0.05 <= 10/(k^2 * 10)\n",
    "P(X - 0)>=k*sqrt(10)<=1/k^2\n"
   ]
  },
  {
   "cell_type": "code",
   "execution_count": null,
   "id": "734a0eea",
   "metadata": {},
   "outputs": [],
   "source": [
    "# (a) Chebyshev Inequality Estimate (Equation from p.358)\n",
    "# P(|Sn/n - mean|>= epsilon)<= sigma^2/n * epsilon^2\n",
    "# 95% certain means, 5% that its outside of 1 ft accuracy.\n",
    "# P(|X - mean|>=1)<=0.05\n",
    "# sigma^2 /(n *1^2)<=0.05\n",
    "# 10/n<=0.05\n",
    "# 10/0.05<=n\n",
    "# 200<=n"
   ]
  },
  {
   "cell_type": "code",
   "execution_count": 5,
   "id": "86b04d7a",
   "metadata": {},
   "outputs": [
    {
     "name": "stdout",
     "output_type": "stream",
     "text": [
      "38.416\n"
     ]
    }
   ],
   "source": [
    "#(b) the normal approximation, how large n should be if he wants to be 95 percent sure that his average falls within 1 foot of the true value\n",
    "# Z score for normal distrib. +- 1.96\n",
    "P(|(X̄ - mean)| < epsilon) = P(|Z| < z)\n",
    "P(|(X̄ - mean)| < epsilon) = z\n",
    "epsilon / (sigma / sqrt(n)) = z \n",
    "sqrt(n) = z * sigma / epsilon\n",
    "n = ((z * sigma) / epsilon)^2\n",
    "n = ((1.96 * sqrt(10))/ 1 )^2\n",
    "n = 38.416"
   ]
  },
  {
   "cell_type": "code",
   "execution_count": null,
   "id": "79c243ea",
   "metadata": {},
   "outputs": [],
   "source": []
  }
 ],
 "metadata": {
  "kernelspec": {
   "display_name": "Python 3 (ipykernel)",
   "language": "python",
   "name": "python3"
  },
  "language_info": {
   "codemirror_mode": {
    "name": "ipython",
    "version": 3
   },
   "file_extension": ".py",
   "mimetype": "text/x-python",
   "name": "python",
   "nbconvert_exporter": "python",
   "pygments_lexer": "ipython3",
   "version": "3.11.5"
  }
 },
 "nbformat": 4,
 "nbformat_minor": 5
}
